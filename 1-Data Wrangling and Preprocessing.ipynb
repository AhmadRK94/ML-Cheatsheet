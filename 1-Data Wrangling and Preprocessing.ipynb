{
 "cells": [
  {
   "cell_type": "markdown",
   "id": "788dac9e-c35e-4385-922a-019f288abc51",
   "metadata": {},
   "source": [
    "## Data Wrangling"
   ]
  },
  {
   "cell_type": "markdown",
   "id": "fccc4d5d-d2ae-4f83-aff0-9c99b56aac39",
   "metadata": {},
   "source": [
    "The process of transferring and mapping data from raw data into useable data is called data wrangling. what we are gonna learn in this section is how to use **pandas library** to manipulate our data. in pandas we represent our data as `DataFrame` that have **rows** and **columns** (exactly like a spreadsheet). each row represents our sample and has a specific **index**. also, each column is our feature and has **column name**. let's see what we can do with the pandas library."
   ]
  },
  {
   "cell_type": "markdown",
   "id": "b9aff4be-b73c-4ab4-9da2-400f21bc7363",
   "metadata": {},
   "source": [
    "### Reading Data"
   ]
  },
  {
   "cell_type": "markdown",
   "id": "bc02c4db-d187-4400-8752-4f1cb9e2479b",
   "metadata": {},
   "source": [
    "There are several ways to read or load data and use them as `DataFrame` object, but the popular ones are:<br>\n",
    "* `pd.read_csv`: for reading CSV files.\n",
    "* `pd.read_excel`: for reading Excel files.\n",
    "* `pd.read_json`: for reading JSON string.\n",
    "* `pd.read_html`: for reading HTML tables.\n",
    "* `pd.read_sql`: for reading SQL query or database table.<br>\n",
    "\n",
    "but I'm not going to use any of these methods :), instead, I will create my custom dataset :). let's do that."
   ]
  },
  {
   "cell_type": "code",
   "execution_count": 1,
   "id": "21438bbb-19bc-45eb-b697-868cc39c233c",
   "metadata": {},
   "outputs": [],
   "source": [
    "import pandas as pd\n",
    "import numpy as np"
   ]
  },
  {
   "cell_type": "code",
   "execution_count": 2,
   "id": "d36e108f-2446-4996-93ad-74b62d82e5bc",
   "metadata": {},
   "outputs": [],
   "source": [
    "X = pd.DataFrame({'gender':['M','F','M','M','M','F','F','M','F','F'],\n",
    "                        'age':[20,30,27,25,23,29,40,34,25,33]})\n",
    "y = pd.DataFrame({'salary':[300,600,500,400,600,400,1000,800,400,700]})"
   ]
  },
  {
   "cell_type": "markdown",
   "id": "05b22585-5d1d-4155-8475-cfc5ef10e282",
   "metadata": {},
   "source": [
    "### information about data"
   ]
  },
  {
   "cell_type": "markdown",
   "id": "b443f691-9646-45ec-92cc-93f3536a49a1",
   "metadata": {},
   "source": [
    "getting information is one of the first steps of dealing with any datasets because we have to know our data so we know what we are going to do in further steps. there are several methods that we can implement on the `DataFrame` object to get information but the common ones are:<br>\n",
    "* `.head(n)`: Return the first n rows. default n=5.\n",
    "* `.shape`: Return a tuple of the number of rows and columns.\n",
    "* `.info()`: This method prints information about a DataFrame including the index, dtype and columns, non-null values, and memory usage.\n",
    "* `.describe()`: Generate descriptive statistics like mean, min, max, etc. only work on numerical variables and will ignore `NaN` values.\n",
    "* `.value_counts()`: Return a Series containing counts of unique rows in the DataFrame.\n",
    "* `.unique()`: Return unique values based on a hash table. so based on input datatype it will return same thing.\n",
    "* `.groupby()`: This can be used to group large amounts of data and compute operations on these groups. operations like `.mean()`, `.max` and etc.\n",
    "* `.set_index()`: Set the DataFrame index using existing columns.<br>\n",
    "\n",
    "let's see some of them in action."
   ]
  },
  {
   "cell_type": "code",
   "execution_count": 3,
   "id": "c554c8ac-f01a-4f0a-9a4e-fdd5f4da09fa",
   "metadata": {},
   "outputs": [
    {
     "data": {
      "text/html": [
       "<div>\n",
       "<style scoped>\n",
       "    .dataframe tbody tr th:only-of-type {\n",
       "        vertical-align: middle;\n",
       "    }\n",
       "\n",
       "    .dataframe tbody tr th {\n",
       "        vertical-align: top;\n",
       "    }\n",
       "\n",
       "    .dataframe thead th {\n",
       "        text-align: right;\n",
       "    }\n",
       "</style>\n",
       "<table border=\"1\" class=\"dataframe\">\n",
       "  <thead>\n",
       "    <tr style=\"text-align: right;\">\n",
       "      <th></th>\n",
       "      <th>gender</th>\n",
       "      <th>age</th>\n",
       "    </tr>\n",
       "  </thead>\n",
       "  <tbody>\n",
       "    <tr>\n",
       "      <th>0</th>\n",
       "      <td>M</td>\n",
       "      <td>20</td>\n",
       "    </tr>\n",
       "    <tr>\n",
       "      <th>1</th>\n",
       "      <td>F</td>\n",
       "      <td>30</td>\n",
       "    </tr>\n",
       "    <tr>\n",
       "      <th>2</th>\n",
       "      <td>M</td>\n",
       "      <td>27</td>\n",
       "    </tr>\n",
       "  </tbody>\n",
       "</table>\n",
       "</div>"
      ],
      "text/plain": [
       "  gender  age\n",
       "0      M   20\n",
       "1      F   30\n",
       "2      M   27"
      ]
     },
     "execution_count": 3,
     "metadata": {},
     "output_type": "execute_result"
    }
   ],
   "source": [
    "X.head(3)"
   ]
  },
  {
   "cell_type": "code",
   "execution_count": 4,
   "id": "00854312-b273-4eb1-a728-5adb15641440",
   "metadata": {},
   "outputs": [
    {
     "data": {
      "text/plain": [
       "(10, 2)"
      ]
     },
     "execution_count": 4,
     "metadata": {},
     "output_type": "execute_result"
    }
   ],
   "source": [
    "X.shape"
   ]
  },
  {
   "cell_type": "code",
   "execution_count": 5,
   "id": "29a611f2-9f01-4dce-809b-5675d295d161",
   "metadata": {},
   "outputs": [
    {
     "name": "stdout",
     "output_type": "stream",
     "text": [
      "<class 'pandas.core.frame.DataFrame'>\n",
      "RangeIndex: 10 entries, 0 to 9\n",
      "Data columns (total 2 columns):\n",
      " #   Column  Non-Null Count  Dtype \n",
      "---  ------  --------------  ----- \n",
      " 0   gender  10 non-null     object\n",
      " 1   age     10 non-null     int64 \n",
      "dtypes: int64(1), object(1)\n",
      "memory usage: 288.0+ bytes\n"
     ]
    }
   ],
   "source": [
    "X.info()"
   ]
  },
  {
   "cell_type": "code",
   "execution_count": 6,
   "id": "8cc1da49-378c-44ce-bde3-ab2e5f0695f4",
   "metadata": {},
   "outputs": [
    {
     "data": {
      "text/html": [
       "<div>\n",
       "<style scoped>\n",
       "    .dataframe tbody tr th:only-of-type {\n",
       "        vertical-align: middle;\n",
       "    }\n",
       "\n",
       "    .dataframe tbody tr th {\n",
       "        vertical-align: top;\n",
       "    }\n",
       "\n",
       "    .dataframe thead th {\n",
       "        text-align: right;\n",
       "    }\n",
       "</style>\n",
       "<table border=\"1\" class=\"dataframe\">\n",
       "  <thead>\n",
       "    <tr style=\"text-align: right;\">\n",
       "      <th></th>\n",
       "      <th>age</th>\n",
       "    </tr>\n",
       "  </thead>\n",
       "  <tbody>\n",
       "    <tr>\n",
       "      <th>count</th>\n",
       "      <td>10.000000</td>\n",
       "    </tr>\n",
       "    <tr>\n",
       "      <th>mean</th>\n",
       "      <td>28.600000</td>\n",
       "    </tr>\n",
       "    <tr>\n",
       "      <th>std</th>\n",
       "      <td>5.910443</td>\n",
       "    </tr>\n",
       "    <tr>\n",
       "      <th>min</th>\n",
       "      <td>20.000000</td>\n",
       "    </tr>\n",
       "    <tr>\n",
       "      <th>25%</th>\n",
       "      <td>25.000000</td>\n",
       "    </tr>\n",
       "    <tr>\n",
       "      <th>50%</th>\n",
       "      <td>28.000000</td>\n",
       "    </tr>\n",
       "    <tr>\n",
       "      <th>75%</th>\n",
       "      <td>32.250000</td>\n",
       "    </tr>\n",
       "    <tr>\n",
       "      <th>max</th>\n",
       "      <td>40.000000</td>\n",
       "    </tr>\n",
       "  </tbody>\n",
       "</table>\n",
       "</div>"
      ],
      "text/plain": [
       "             age\n",
       "count  10.000000\n",
       "mean   28.600000\n",
       "std     5.910443\n",
       "min    20.000000\n",
       "25%    25.000000\n",
       "50%    28.000000\n",
       "75%    32.250000\n",
       "max    40.000000"
      ]
     },
     "execution_count": 6,
     "metadata": {},
     "output_type": "execute_result"
    }
   ],
   "source": [
    "X.describe()"
   ]
  },
  {
   "cell_type": "code",
   "execution_count": 7,
   "id": "688fcb74-6b41-4970-ad78-a80d5059d4bf",
   "metadata": {},
   "outputs": [
    {
     "data": {
      "text/html": [
       "<div>\n",
       "<style scoped>\n",
       "    .dataframe tbody tr th:only-of-type {\n",
       "        vertical-align: middle;\n",
       "    }\n",
       "\n",
       "    .dataframe tbody tr th {\n",
       "        vertical-align: top;\n",
       "    }\n",
       "\n",
       "    .dataframe thead th {\n",
       "        text-align: right;\n",
       "    }\n",
       "</style>\n",
       "<table border=\"1\" class=\"dataframe\">\n",
       "  <thead>\n",
       "    <tr style=\"text-align: right;\">\n",
       "      <th></th>\n",
       "      <th>age</th>\n",
       "    </tr>\n",
       "    <tr>\n",
       "      <th>gender</th>\n",
       "      <th></th>\n",
       "    </tr>\n",
       "  </thead>\n",
       "  <tbody>\n",
       "    <tr>\n",
       "      <th>F</th>\n",
       "      <td>31.4</td>\n",
       "    </tr>\n",
       "    <tr>\n",
       "      <th>M</th>\n",
       "      <td>25.8</td>\n",
       "    </tr>\n",
       "  </tbody>\n",
       "</table>\n",
       "</div>"
      ],
      "text/plain": [
       "         age\n",
       "gender      \n",
       "F       31.4\n",
       "M       25.8"
      ]
     },
     "execution_count": 7,
     "metadata": {},
     "output_type": "execute_result"
    }
   ],
   "source": [
    "X.groupby('gender').mean()\n",
    "## it will give us average age in each gender category"
   ]
  },
  {
   "cell_type": "code",
   "execution_count": 8,
   "id": "3a9ae142-33b5-46aa-97ee-a68ff0ddfc31",
   "metadata": {},
   "outputs": [
    {
     "data": {
      "text/plain": [
       "M    5\n",
       "F    5\n",
       "Name: gender, dtype: int64"
      ]
     },
     "execution_count": 8,
     "metadata": {},
     "output_type": "execute_result"
    }
   ],
   "source": [
    "X['gender'].value_counts()\n",
    "## dont mind the syntax we will talk about it in navigation"
   ]
  },
  {
   "cell_type": "code",
   "execution_count": 9,
   "id": "8d8daae4-9022-4fa9-bffc-ab94b3642102",
   "metadata": {},
   "outputs": [
    {
     "data": {
      "text/plain": [
       "array(['M', 'F'], dtype=object)"
      ]
     },
     "execution_count": 9,
     "metadata": {},
     "output_type": "execute_result"
    }
   ],
   "source": [
    "X['gender'].unique() ## we have 2 unique category for gender"
   ]
  },
  {
   "cell_type": "code",
   "execution_count": 10,
   "id": "10e6bc35-def2-4974-8a77-cab52300c4fd",
   "metadata": {},
   "outputs": [
    {
     "data": {
      "text/plain": [
       "array([20, 30, 27, 25, 23, 29, 40, 34, 33], dtype=int64)"
      ]
     },
     "execution_count": 10,
     "metadata": {},
     "output_type": "execute_result"
    }
   ],
   "source": [
    "X['age'].unique() ## we have 9 unique value for age"
   ]
  },
  {
   "cell_type": "markdown",
   "id": "e1508561-9d31-4a14-8fee-0749bf4c39e8",
   "metadata": {},
   "source": [
    "### Navigating on DataFrame"
   ]
  },
  {
   "cell_type": "markdown",
   "id": "fe37a53e-4c39-44c7-bde9-f5bc23a18a1a",
   "metadata": {},
   "source": [
    "as we said before DataFrame has rows and columns so we can use them to navigate through our data and select our desire data valuse, lets see some of the methods and we can use:<br>\n",
    "* `.iloc[]`: Selecting rows with thair index number.\n",
    "* `.loc[]`: Selecting a group of rows and columns by labels or a boolean array.\n",
    "* `df[' ']` or `df[[' ',' ']]`: Selecting specific column(s) by name."
   ]
  },
  {
   "cell_type": "code",
   "execution_count": 11,
   "id": "2e6c5edc-a577-47a6-9622-5b31b2c9d270",
   "metadata": {},
   "outputs": [
    {
     "data": {
      "text/plain": [
       "gender     M\n",
       "age       23\n",
       "Name: 4, dtype: object"
      ]
     },
     "execution_count": 11,
     "metadata": {},
     "output_type": "execute_result"
    }
   ],
   "source": [
    "X.iloc[4]"
   ]
  },
  {
   "cell_type": "code",
   "execution_count": 12,
   "id": "664fc5d5-8e68-4b1b-a3ea-975422ab3610",
   "metadata": {},
   "outputs": [
    {
     "data": {
      "text/html": [
       "<div>\n",
       "<style scoped>\n",
       "    .dataframe tbody tr th:only-of-type {\n",
       "        vertical-align: middle;\n",
       "    }\n",
       "\n",
       "    .dataframe tbody tr th {\n",
       "        vertical-align: top;\n",
       "    }\n",
       "\n",
       "    .dataframe thead th {\n",
       "        text-align: right;\n",
       "    }\n",
       "</style>\n",
       "<table border=\"1\" class=\"dataframe\">\n",
       "  <thead>\n",
       "    <tr style=\"text-align: right;\">\n",
       "      <th></th>\n",
       "      <th>gender</th>\n",
       "      <th>age</th>\n",
       "    </tr>\n",
       "  </thead>\n",
       "  <tbody>\n",
       "    <tr>\n",
       "      <th>0</th>\n",
       "      <td>M</td>\n",
       "      <td>20</td>\n",
       "    </tr>\n",
       "    <tr>\n",
       "      <th>1</th>\n",
       "      <td>F</td>\n",
       "      <td>30</td>\n",
       "    </tr>\n",
       "    <tr>\n",
       "      <th>2</th>\n",
       "      <td>M</td>\n",
       "      <td>27</td>\n",
       "    </tr>\n",
       "    <tr>\n",
       "      <th>3</th>\n",
       "      <td>M</td>\n",
       "      <td>25</td>\n",
       "    </tr>\n",
       "  </tbody>\n",
       "</table>\n",
       "</div>"
      ],
      "text/plain": [
       "  gender  age\n",
       "0      M   20\n",
       "1      F   30\n",
       "2      M   27\n",
       "3      M   25"
      ]
     },
     "execution_count": 12,
     "metadata": {},
     "output_type": "execute_result"
    }
   ],
   "source": [
    "## Slicing\n",
    "X.iloc[0:4]"
   ]
  },
  {
   "cell_type": "code",
   "execution_count": 13,
   "id": "611a1507-94d7-403c-8ed4-66493e4d84b1",
   "metadata": {},
   "outputs": [
    {
     "data": {
      "text/plain": [
       "0    M\n",
       "1    F\n",
       "2    M\n",
       "3    M\n",
       "4    M\n",
       "Name: gender, dtype: object"
      ]
     },
     "execution_count": 13,
     "metadata": {},
     "output_type": "execute_result"
    }
   ],
   "source": [
    "X['gender'].head()"
   ]
  },
  {
   "cell_type": "markdown",
   "id": "510cb05c-afef-4c71-bb87-500cba8e1e3f",
   "metadata": {},
   "source": [
    "#### Navigating with conditions"
   ]
  },
  {
   "cell_type": "markdown",
   "id": "dcda7cb9-b2d4-4004-9d25-2085a23730ac",
   "metadata": {},
   "source": [
    "here we want to navigate in our dataset with certain conditions, so we will have boolean as our input for our `.iloc[]`."
   ]
  },
  {
   "cell_type": "code",
   "execution_count": 14,
   "id": "16303609-9bf4-4e3e-8910-78ab5e893523",
   "metadata": {},
   "outputs": [
    {
     "data": {
      "text/plain": [
       "0     True\n",
       "1    False\n",
       "2     True\n",
       "3     True\n",
       "4     True\n",
       "5    False\n",
       "6    False\n",
       "7     True\n",
       "8    False\n",
       "9    False\n",
       "Name: gender, dtype: bool"
      ]
     },
     "execution_count": 14,
     "metadata": {},
     "output_type": "execute_result"
    }
   ],
   "source": [
    "Boolean_expression = X['gender'] == 'M' \n",
    "## or we can use several conditions with | as or , & as and\n",
    "Boolean_expression"
   ]
  },
  {
   "cell_type": "code",
   "execution_count": 15,
   "id": "63391bcb-97b5-4963-9bb0-1511260f2fb4",
   "metadata": {},
   "outputs": [
    {
     "data": {
      "text/html": [
       "<div>\n",
       "<style scoped>\n",
       "    .dataframe tbody tr th:only-of-type {\n",
       "        vertical-align: middle;\n",
       "    }\n",
       "\n",
       "    .dataframe tbody tr th {\n",
       "        vertical-align: top;\n",
       "    }\n",
       "\n",
       "    .dataframe thead th {\n",
       "        text-align: right;\n",
       "    }\n",
       "</style>\n",
       "<table border=\"1\" class=\"dataframe\">\n",
       "  <thead>\n",
       "    <tr style=\"text-align: right;\">\n",
       "      <th></th>\n",
       "      <th>gender</th>\n",
       "      <th>age</th>\n",
       "    </tr>\n",
       "  </thead>\n",
       "  <tbody>\n",
       "    <tr>\n",
       "      <th>0</th>\n",
       "      <td>M</td>\n",
       "      <td>20</td>\n",
       "    </tr>\n",
       "    <tr>\n",
       "      <th>2</th>\n",
       "      <td>M</td>\n",
       "      <td>27</td>\n",
       "    </tr>\n",
       "    <tr>\n",
       "      <th>3</th>\n",
       "      <td>M</td>\n",
       "      <td>25</td>\n",
       "    </tr>\n",
       "    <tr>\n",
       "      <th>4</th>\n",
       "      <td>M</td>\n",
       "      <td>23</td>\n",
       "    </tr>\n",
       "    <tr>\n",
       "      <th>7</th>\n",
       "      <td>M</td>\n",
       "      <td>34</td>\n",
       "    </tr>\n",
       "  </tbody>\n",
       "</table>\n",
       "</div>"
      ],
      "text/plain": [
       "  gender  age\n",
       "0      M   20\n",
       "2      M   27\n",
       "3      M   25\n",
       "4      M   23\n",
       "7      M   34"
      ]
     },
     "execution_count": 15,
     "metadata": {},
     "output_type": "execute_result"
    }
   ],
   "source": [
    "X.loc[Boolean_expression]"
   ]
  },
  {
   "cell_type": "markdown",
   "id": "dd02ef67-366c-45db-bb43-a5aed1fec220",
   "metadata": {},
   "source": [
    "### Replacing values"
   ]
  },
  {
   "cell_type": "markdown",
   "id": "ecb4e5f3-43ce-4bde-8ba8-c526b50ce7c3",
   "metadata": {},
   "source": [
    "by using `.replace()` method on our DataFrame we can change specific values in specific columns or even in our entire datasets. the replace method also accepts regex, for that, we have to set `regex=True`."
   ]
  },
  {
   "cell_type": "code",
   "execution_count": 16,
   "id": "d73fde7c-a3dc-44a0-aed7-ff5ad8ed351a",
   "metadata": {},
   "outputs": [
    {
     "data": {
      "text/html": [
       "<div>\n",
       "<style scoped>\n",
       "    .dataframe tbody tr th:only-of-type {\n",
       "        vertical-align: middle;\n",
       "    }\n",
       "\n",
       "    .dataframe tbody tr th {\n",
       "        vertical-align: top;\n",
       "    }\n",
       "\n",
       "    .dataframe thead th {\n",
       "        text-align: right;\n",
       "    }\n",
       "</style>\n",
       "<table border=\"1\" class=\"dataframe\">\n",
       "  <thead>\n",
       "    <tr style=\"text-align: right;\">\n",
       "      <th></th>\n",
       "      <th>gender</th>\n",
       "      <th>age</th>\n",
       "    </tr>\n",
       "  </thead>\n",
       "  <tbody>\n",
       "    <tr>\n",
       "      <th>0</th>\n",
       "      <td>MALE</td>\n",
       "      <td>20</td>\n",
       "    </tr>\n",
       "    <tr>\n",
       "      <th>1</th>\n",
       "      <td>FEMALE</td>\n",
       "      <td>30</td>\n",
       "    </tr>\n",
       "    <tr>\n",
       "      <th>2</th>\n",
       "      <td>MALE</td>\n",
       "      <td>27</td>\n",
       "    </tr>\n",
       "    <tr>\n",
       "      <th>3</th>\n",
       "      <td>MALE</td>\n",
       "      <td>25</td>\n",
       "    </tr>\n",
       "    <tr>\n",
       "      <th>4</th>\n",
       "      <td>MALE</td>\n",
       "      <td>23</td>\n",
       "    </tr>\n",
       "    <tr>\n",
       "      <th>5</th>\n",
       "      <td>FEMALE</td>\n",
       "      <td>29</td>\n",
       "    </tr>\n",
       "    <tr>\n",
       "      <th>6</th>\n",
       "      <td>FEMALE</td>\n",
       "      <td>40</td>\n",
       "    </tr>\n",
       "    <tr>\n",
       "      <th>7</th>\n",
       "      <td>MALE</td>\n",
       "      <td>34</td>\n",
       "    </tr>\n",
       "    <tr>\n",
       "      <th>8</th>\n",
       "      <td>FEMALE</td>\n",
       "      <td>25</td>\n",
       "    </tr>\n",
       "    <tr>\n",
       "      <th>9</th>\n",
       "      <td>FEMALE</td>\n",
       "      <td>33</td>\n",
       "    </tr>\n",
       "  </tbody>\n",
       "</table>\n",
       "</div>"
      ],
      "text/plain": [
       "   gender  age\n",
       "0    MALE   20\n",
       "1  FEMALE   30\n",
       "2    MALE   27\n",
       "3    MALE   25\n",
       "4    MALE   23\n",
       "5  FEMALE   29\n",
       "6  FEMALE   40\n",
       "7    MALE   34\n",
       "8  FEMALE   25\n",
       "9  FEMALE   33"
      ]
     },
     "execution_count": 16,
     "metadata": {},
     "output_type": "execute_result"
    }
   ],
   "source": [
    "X['gender'].replace(['M','F'],['MALE','FEMALE'],inplace=True)\n",
    "## or X['gender'] = X['gender'].replace(['M','F'],['MALE','FEMALE'])\n",
    "X"
   ]
  },
  {
   "cell_type": "markdown",
   "id": "4309b332-e713-43f6-a7af-8aad58fe01c4",
   "metadata": {},
   "source": [
    "### Renaming columns"
   ]
  },
  {
   "cell_type": "markdown",
   "id": "fd7b57af-02f6-4f52-a4ab-134d39830111",
   "metadata": {},
   "source": [
    "For renaming columns we use `.rename()` method that gets a dict or function as an input."
   ]
  },
  {
   "cell_type": "code",
   "execution_count": 17,
   "id": "6dd40866-2f79-4ea9-8064-0e6a51534622",
   "metadata": {},
   "outputs": [
    {
     "data": {
      "text/html": [
       "<div>\n",
       "<style scoped>\n",
       "    .dataframe tbody tr th:only-of-type {\n",
       "        vertical-align: middle;\n",
       "    }\n",
       "\n",
       "    .dataframe tbody tr th {\n",
       "        vertical-align: top;\n",
       "    }\n",
       "\n",
       "    .dataframe thead th {\n",
       "        text-align: right;\n",
       "    }\n",
       "</style>\n",
       "<table border=\"1\" class=\"dataframe\">\n",
       "  <thead>\n",
       "    <tr style=\"text-align: right;\">\n",
       "      <th></th>\n",
       "      <th>GENDER</th>\n",
       "      <th>AGE</th>\n",
       "    </tr>\n",
       "  </thead>\n",
       "  <tbody>\n",
       "    <tr>\n",
       "      <th>0</th>\n",
       "      <td>MALE</td>\n",
       "      <td>20</td>\n",
       "    </tr>\n",
       "    <tr>\n",
       "      <th>1</th>\n",
       "      <td>FEMALE</td>\n",
       "      <td>30</td>\n",
       "    </tr>\n",
       "    <tr>\n",
       "      <th>2</th>\n",
       "      <td>MALE</td>\n",
       "      <td>27</td>\n",
       "    </tr>\n",
       "    <tr>\n",
       "      <th>3</th>\n",
       "      <td>MALE</td>\n",
       "      <td>25</td>\n",
       "    </tr>\n",
       "    <tr>\n",
       "      <th>4</th>\n",
       "      <td>MALE</td>\n",
       "      <td>23</td>\n",
       "    </tr>\n",
       "  </tbody>\n",
       "</table>\n",
       "</div>"
      ],
      "text/plain": [
       "   GENDER  AGE\n",
       "0    MALE   20\n",
       "1  FEMALE   30\n",
       "2    MALE   27\n",
       "3    MALE   25\n",
       "4    MALE   23"
      ]
     },
     "execution_count": 17,
     "metadata": {},
     "output_type": "execute_result"
    }
   ],
   "source": [
    "X.rename(columns = {'gender':'GENDER','age':'AGE'},inplace=True)\n",
    "X.head()"
   ]
  },
  {
   "cell_type": "markdown",
   "id": "484fd409-0b2e-4736-a36f-ca13683ac77e",
   "metadata": {},
   "source": [
    "### Create and Delete rows and columns"
   ]
  },
  {
   "cell_type": "markdown",
   "id": "3787bd05-55c5-4809-bdec-c4627278cd61",
   "metadata": {},
   "source": [
    "for creating new rows and columns we just have to exceed our index number for rows and give our DataFrame a new column name with specific values. we can also create new columns with existing columns."
   ]
  },
  {
   "cell_type": "code",
   "execution_count": 18,
   "id": "0762e74b-ae5d-49a1-8e82-7e7d41240460",
   "metadata": {},
   "outputs": [],
   "source": [
    "X['STATUS'] = 'SINGLE'"
   ]
  },
  {
   "cell_type": "code",
   "execution_count": 19,
   "id": "e8ff687d-59df-46e7-8b05-3036ab873d22",
   "metadata": {},
   "outputs": [],
   "source": [
    "X['AGE^2'] = X['AGE']*X['AGE']"
   ]
  },
  {
   "cell_type": "code",
   "execution_count": 20,
   "id": "e6b0be11-df0b-452c-ab5c-f5b3c68ff5dd",
   "metadata": {},
   "outputs": [],
   "source": [
    "X.loc[10]={'GENDER':'FEMALE','AGE':26,'STATUS':'SINGLE','AGE^2':26*26}\n",
    "## or X.loc[10]=['FEMALE',26,SINGLE,26*26]"
   ]
  },
  {
   "cell_type": "code",
   "execution_count": 21,
   "id": "cc925f3f-a4ce-47bf-b264-7d63f8558e21",
   "metadata": {},
   "outputs": [
    {
     "data": {
      "text/html": [
       "<div>\n",
       "<style scoped>\n",
       "    .dataframe tbody tr th:only-of-type {\n",
       "        vertical-align: middle;\n",
       "    }\n",
       "\n",
       "    .dataframe tbody tr th {\n",
       "        vertical-align: top;\n",
       "    }\n",
       "\n",
       "    .dataframe thead th {\n",
       "        text-align: right;\n",
       "    }\n",
       "</style>\n",
       "<table border=\"1\" class=\"dataframe\">\n",
       "  <thead>\n",
       "    <tr style=\"text-align: right;\">\n",
       "      <th></th>\n",
       "      <th>GENDER</th>\n",
       "      <th>AGE</th>\n",
       "      <th>STATUS</th>\n",
       "      <th>AGE^2</th>\n",
       "    </tr>\n",
       "  </thead>\n",
       "  <tbody>\n",
       "    <tr>\n",
       "      <th>0</th>\n",
       "      <td>MALE</td>\n",
       "      <td>20</td>\n",
       "      <td>SINGLE</td>\n",
       "      <td>400</td>\n",
       "    </tr>\n",
       "    <tr>\n",
       "      <th>1</th>\n",
       "      <td>FEMALE</td>\n",
       "      <td>30</td>\n",
       "      <td>SINGLE</td>\n",
       "      <td>900</td>\n",
       "    </tr>\n",
       "    <tr>\n",
       "      <th>2</th>\n",
       "      <td>MALE</td>\n",
       "      <td>27</td>\n",
       "      <td>SINGLE</td>\n",
       "      <td>729</td>\n",
       "    </tr>\n",
       "    <tr>\n",
       "      <th>3</th>\n",
       "      <td>MALE</td>\n",
       "      <td>25</td>\n",
       "      <td>SINGLE</td>\n",
       "      <td>625</td>\n",
       "    </tr>\n",
       "    <tr>\n",
       "      <th>4</th>\n",
       "      <td>MALE</td>\n",
       "      <td>23</td>\n",
       "      <td>SINGLE</td>\n",
       "      <td>529</td>\n",
       "    </tr>\n",
       "    <tr>\n",
       "      <th>5</th>\n",
       "      <td>FEMALE</td>\n",
       "      <td>29</td>\n",
       "      <td>SINGLE</td>\n",
       "      <td>841</td>\n",
       "    </tr>\n",
       "    <tr>\n",
       "      <th>6</th>\n",
       "      <td>FEMALE</td>\n",
       "      <td>40</td>\n",
       "      <td>SINGLE</td>\n",
       "      <td>1600</td>\n",
       "    </tr>\n",
       "    <tr>\n",
       "      <th>7</th>\n",
       "      <td>MALE</td>\n",
       "      <td>34</td>\n",
       "      <td>SINGLE</td>\n",
       "      <td>1156</td>\n",
       "    </tr>\n",
       "    <tr>\n",
       "      <th>8</th>\n",
       "      <td>FEMALE</td>\n",
       "      <td>25</td>\n",
       "      <td>SINGLE</td>\n",
       "      <td>625</td>\n",
       "    </tr>\n",
       "    <tr>\n",
       "      <th>9</th>\n",
       "      <td>FEMALE</td>\n",
       "      <td>33</td>\n",
       "      <td>SINGLE</td>\n",
       "      <td>1089</td>\n",
       "    </tr>\n",
       "    <tr>\n",
       "      <th>10</th>\n",
       "      <td>FEMALE</td>\n",
       "      <td>26</td>\n",
       "      <td>SINGLE</td>\n",
       "      <td>676</td>\n",
       "    </tr>\n",
       "  </tbody>\n",
       "</table>\n",
       "</div>"
      ],
      "text/plain": [
       "    GENDER  AGE  STATUS  AGE^2\n",
       "0     MALE   20  SINGLE    400\n",
       "1   FEMALE   30  SINGLE    900\n",
       "2     MALE   27  SINGLE    729\n",
       "3     MALE   25  SINGLE    625\n",
       "4     MALE   23  SINGLE    529\n",
       "5   FEMALE   29  SINGLE    841\n",
       "6   FEMALE   40  SINGLE   1600\n",
       "7     MALE   34  SINGLE   1156\n",
       "8   FEMALE   25  SINGLE    625\n",
       "9   FEMALE   33  SINGLE   1089\n",
       "10  FEMALE   26  SINGLE    676"
      ]
     },
     "execution_count": 21,
     "metadata": {},
     "output_type": "execute_result"
    }
   ],
   "source": [
    "X"
   ]
  },
  {
   "cell_type": "markdown",
   "id": "50299d9e-40a4-44a5-a484-ef4c1a4573b9",
   "metadata": {},
   "source": [
    "for deleting rows and columns we use `.drop` method."
   ]
  },
  {
   "cell_type": "code",
   "execution_count": 22,
   "id": "dc931231-122e-426c-a953-ea718f0bad6b",
   "metadata": {},
   "outputs": [
    {
     "data": {
      "text/html": [
       "<div>\n",
       "<style scoped>\n",
       "    .dataframe tbody tr th:only-of-type {\n",
       "        vertical-align: middle;\n",
       "    }\n",
       "\n",
       "    .dataframe tbody tr th {\n",
       "        vertical-align: top;\n",
       "    }\n",
       "\n",
       "    .dataframe thead th {\n",
       "        text-align: right;\n",
       "    }\n",
       "</style>\n",
       "<table border=\"1\" class=\"dataframe\">\n",
       "  <thead>\n",
       "    <tr style=\"text-align: right;\">\n",
       "      <th></th>\n",
       "      <th>GENDER</th>\n",
       "      <th>AGE</th>\n",
       "      <th>STATUS</th>\n",
       "      <th>AGE^2</th>\n",
       "    </tr>\n",
       "  </thead>\n",
       "  <tbody>\n",
       "    <tr>\n",
       "      <th>0</th>\n",
       "      <td>MALE</td>\n",
       "      <td>20</td>\n",
       "      <td>SINGLE</td>\n",
       "      <td>400</td>\n",
       "    </tr>\n",
       "    <tr>\n",
       "      <th>1</th>\n",
       "      <td>FEMALE</td>\n",
       "      <td>30</td>\n",
       "      <td>SINGLE</td>\n",
       "      <td>900</td>\n",
       "    </tr>\n",
       "    <tr>\n",
       "      <th>2</th>\n",
       "      <td>MALE</td>\n",
       "      <td>27</td>\n",
       "      <td>SINGLE</td>\n",
       "      <td>729</td>\n",
       "    </tr>\n",
       "    <tr>\n",
       "      <th>3</th>\n",
       "      <td>MALE</td>\n",
       "      <td>25</td>\n",
       "      <td>SINGLE</td>\n",
       "      <td>625</td>\n",
       "    </tr>\n",
       "    <tr>\n",
       "      <th>4</th>\n",
       "      <td>MALE</td>\n",
       "      <td>23</td>\n",
       "      <td>SINGLE</td>\n",
       "      <td>529</td>\n",
       "    </tr>\n",
       "    <tr>\n",
       "      <th>5</th>\n",
       "      <td>FEMALE</td>\n",
       "      <td>29</td>\n",
       "      <td>SINGLE</td>\n",
       "      <td>841</td>\n",
       "    </tr>\n",
       "    <tr>\n",
       "      <th>6</th>\n",
       "      <td>FEMALE</td>\n",
       "      <td>40</td>\n",
       "      <td>SINGLE</td>\n",
       "      <td>1600</td>\n",
       "    </tr>\n",
       "    <tr>\n",
       "      <th>7</th>\n",
       "      <td>MALE</td>\n",
       "      <td>34</td>\n",
       "      <td>SINGLE</td>\n",
       "      <td>1156</td>\n",
       "    </tr>\n",
       "    <tr>\n",
       "      <th>8</th>\n",
       "      <td>FEMALE</td>\n",
       "      <td>25</td>\n",
       "      <td>SINGLE</td>\n",
       "      <td>625</td>\n",
       "    </tr>\n",
       "    <tr>\n",
       "      <th>9</th>\n",
       "      <td>FEMALE</td>\n",
       "      <td>33</td>\n",
       "      <td>SINGLE</td>\n",
       "      <td>1089</td>\n",
       "    </tr>\n",
       "  </tbody>\n",
       "</table>\n",
       "</div>"
      ],
      "text/plain": [
       "   GENDER  AGE  STATUS  AGE^2\n",
       "0    MALE   20  SINGLE    400\n",
       "1  FEMALE   30  SINGLE    900\n",
       "2    MALE   27  SINGLE    729\n",
       "3    MALE   25  SINGLE    625\n",
       "4    MALE   23  SINGLE    529\n",
       "5  FEMALE   29  SINGLE    841\n",
       "6  FEMALE   40  SINGLE   1600\n",
       "7    MALE   34  SINGLE   1156\n",
       "8  FEMALE   25  SINGLE    625\n",
       "9  FEMALE   33  SINGLE   1089"
      ]
     },
     "execution_count": 22,
     "metadata": {},
     "output_type": "execute_result"
    }
   ],
   "source": [
    "X.drop(10,inplace=True)\n",
    "X"
   ]
  },
  {
   "cell_type": "code",
   "execution_count": 23,
   "id": "c532e510-34c4-426d-a97e-ac46e26bd67a",
   "metadata": {},
   "outputs": [
    {
     "data": {
      "text/html": [
       "<div>\n",
       "<style scoped>\n",
       "    .dataframe tbody tr th:only-of-type {\n",
       "        vertical-align: middle;\n",
       "    }\n",
       "\n",
       "    .dataframe tbody tr th {\n",
       "        vertical-align: top;\n",
       "    }\n",
       "\n",
       "    .dataframe thead th {\n",
       "        text-align: right;\n",
       "    }\n",
       "</style>\n",
       "<table border=\"1\" class=\"dataframe\">\n",
       "  <thead>\n",
       "    <tr style=\"text-align: right;\">\n",
       "      <th></th>\n",
       "      <th>GENDER</th>\n",
       "      <th>AGE</th>\n",
       "    </tr>\n",
       "  </thead>\n",
       "  <tbody>\n",
       "    <tr>\n",
       "      <th>0</th>\n",
       "      <td>MALE</td>\n",
       "      <td>20</td>\n",
       "    </tr>\n",
       "    <tr>\n",
       "      <th>1</th>\n",
       "      <td>FEMALE</td>\n",
       "      <td>30</td>\n",
       "    </tr>\n",
       "    <tr>\n",
       "      <th>2</th>\n",
       "      <td>MALE</td>\n",
       "      <td>27</td>\n",
       "    </tr>\n",
       "    <tr>\n",
       "      <th>3</th>\n",
       "      <td>MALE</td>\n",
       "      <td>25</td>\n",
       "    </tr>\n",
       "    <tr>\n",
       "      <th>4</th>\n",
       "      <td>MALE</td>\n",
       "      <td>23</td>\n",
       "    </tr>\n",
       "    <tr>\n",
       "      <th>5</th>\n",
       "      <td>FEMALE</td>\n",
       "      <td>29</td>\n",
       "    </tr>\n",
       "    <tr>\n",
       "      <th>6</th>\n",
       "      <td>FEMALE</td>\n",
       "      <td>40</td>\n",
       "    </tr>\n",
       "    <tr>\n",
       "      <th>7</th>\n",
       "      <td>MALE</td>\n",
       "      <td>34</td>\n",
       "    </tr>\n",
       "    <tr>\n",
       "      <th>8</th>\n",
       "      <td>FEMALE</td>\n",
       "      <td>25</td>\n",
       "    </tr>\n",
       "    <tr>\n",
       "      <th>9</th>\n",
       "      <td>FEMALE</td>\n",
       "      <td>33</td>\n",
       "    </tr>\n",
       "  </tbody>\n",
       "</table>\n",
       "</div>"
      ],
      "text/plain": [
       "   GENDER  AGE\n",
       "0    MALE   20\n",
       "1  FEMALE   30\n",
       "2    MALE   27\n",
       "3    MALE   25\n",
       "4    MALE   23\n",
       "5  FEMALE   29\n",
       "6  FEMALE   40\n",
       "7    MALE   34\n",
       "8  FEMALE   25\n",
       "9  FEMALE   33"
      ]
     },
     "execution_count": 23,
     "metadata": {},
     "output_type": "execute_result"
    }
   ],
   "source": [
    "X.drop(columns=['STATUS','AGE^2'],inplace=True)\n",
    "## or X.drop(['STATUS','AGE^2'],inplace=True,axis=1)    axis=0 for index and axis=1 for columns\n",
    "X"
   ]
  },
  {
   "cell_type": "markdown",
   "id": "a1453ef8-ce00-4a1a-8acc-ebef767a12a3",
   "metadata": {},
   "source": [
    "**NOTE:** if we have dublicate rows we can use `.drop_dublicates()` method."
   ]
  },
  {
   "cell_type": "markdown",
   "id": "199a231b-ae92-4adc-b62f-14265e5d0897",
   "metadata": {},
   "source": [
    "### Merge DataFrames"
   ]
  },
  {
   "cell_type": "markdown",
   "id": "35672392-9987-4f34-a5d2-0bcf9b45568b",
   "metadata": {},
   "source": [
    "For merge 2 DataFrame toghether we can use `.merge()` and `pd.concat()`."
   ]
  },
  {
   "cell_type": "code",
   "execution_count": 24,
   "id": "198dd66b-c49b-4269-a5d7-b054bd2274f8",
   "metadata": {},
   "outputs": [
    {
     "data": {
      "text/html": [
       "<div>\n",
       "<style scoped>\n",
       "    .dataframe tbody tr th:only-of-type {\n",
       "        vertical-align: middle;\n",
       "    }\n",
       "\n",
       "    .dataframe tbody tr th {\n",
       "        vertical-align: top;\n",
       "    }\n",
       "\n",
       "    .dataframe thead th {\n",
       "        text-align: right;\n",
       "    }\n",
       "</style>\n",
       "<table border=\"1\" class=\"dataframe\">\n",
       "  <thead>\n",
       "    <tr style=\"text-align: right;\">\n",
       "      <th></th>\n",
       "      <th>GENDER</th>\n",
       "      <th>AGE</th>\n",
       "      <th>salary</th>\n",
       "    </tr>\n",
       "  </thead>\n",
       "  <tbody>\n",
       "    <tr>\n",
       "      <th>0</th>\n",
       "      <td>MALE</td>\n",
       "      <td>20</td>\n",
       "      <td>300</td>\n",
       "    </tr>\n",
       "    <tr>\n",
       "      <th>1</th>\n",
       "      <td>FEMALE</td>\n",
       "      <td>30</td>\n",
       "      <td>600</td>\n",
       "    </tr>\n",
       "    <tr>\n",
       "      <th>2</th>\n",
       "      <td>MALE</td>\n",
       "      <td>27</td>\n",
       "      <td>500</td>\n",
       "    </tr>\n",
       "    <tr>\n",
       "      <th>3</th>\n",
       "      <td>MALE</td>\n",
       "      <td>25</td>\n",
       "      <td>400</td>\n",
       "    </tr>\n",
       "    <tr>\n",
       "      <th>4</th>\n",
       "      <td>MALE</td>\n",
       "      <td>23</td>\n",
       "      <td>600</td>\n",
       "    </tr>\n",
       "    <tr>\n",
       "      <th>5</th>\n",
       "      <td>FEMALE</td>\n",
       "      <td>29</td>\n",
       "      <td>400</td>\n",
       "    </tr>\n",
       "    <tr>\n",
       "      <th>6</th>\n",
       "      <td>FEMALE</td>\n",
       "      <td>40</td>\n",
       "      <td>1000</td>\n",
       "    </tr>\n",
       "    <tr>\n",
       "      <th>7</th>\n",
       "      <td>MALE</td>\n",
       "      <td>34</td>\n",
       "      <td>800</td>\n",
       "    </tr>\n",
       "    <tr>\n",
       "      <th>8</th>\n",
       "      <td>FEMALE</td>\n",
       "      <td>25</td>\n",
       "      <td>400</td>\n",
       "    </tr>\n",
       "    <tr>\n",
       "      <th>9</th>\n",
       "      <td>FEMALE</td>\n",
       "      <td>33</td>\n",
       "      <td>700</td>\n",
       "    </tr>\n",
       "  </tbody>\n",
       "</table>\n",
       "</div>"
      ],
      "text/plain": [
       "   GENDER  AGE  salary\n",
       "0    MALE   20     300\n",
       "1  FEMALE   30     600\n",
       "2    MALE   27     500\n",
       "3    MALE   25     400\n",
       "4    MALE   23     600\n",
       "5  FEMALE   29     400\n",
       "6  FEMALE   40    1000\n",
       "7    MALE   34     800\n",
       "8  FEMALE   25     400\n",
       "9  FEMALE   33     700"
      ]
     },
     "execution_count": 24,
     "metadata": {},
     "output_type": "execute_result"
    }
   ],
   "source": [
    "X.merge(y,'right',left_index=True,right_index=True)"
   ]
  },
  {
   "cell_type": "code",
   "execution_count": 25,
   "id": "007bcac8-21e7-4465-95ea-310f1a265b74",
   "metadata": {},
   "outputs": [
    {
     "data": {
      "text/html": [
       "<div>\n",
       "<style scoped>\n",
       "    .dataframe tbody tr th:only-of-type {\n",
       "        vertical-align: middle;\n",
       "    }\n",
       "\n",
       "    .dataframe tbody tr th {\n",
       "        vertical-align: top;\n",
       "    }\n",
       "\n",
       "    .dataframe thead th {\n",
       "        text-align: right;\n",
       "    }\n",
       "</style>\n",
       "<table border=\"1\" class=\"dataframe\">\n",
       "  <thead>\n",
       "    <tr style=\"text-align: right;\">\n",
       "      <th></th>\n",
       "      <th>GENDER</th>\n",
       "      <th>AGE</th>\n",
       "      <th>salary</th>\n",
       "    </tr>\n",
       "  </thead>\n",
       "  <tbody>\n",
       "    <tr>\n",
       "      <th>0</th>\n",
       "      <td>MALE</td>\n",
       "      <td>20</td>\n",
       "      <td>300</td>\n",
       "    </tr>\n",
       "    <tr>\n",
       "      <th>1</th>\n",
       "      <td>FEMALE</td>\n",
       "      <td>30</td>\n",
       "      <td>600</td>\n",
       "    </tr>\n",
       "    <tr>\n",
       "      <th>2</th>\n",
       "      <td>MALE</td>\n",
       "      <td>27</td>\n",
       "      <td>500</td>\n",
       "    </tr>\n",
       "    <tr>\n",
       "      <th>3</th>\n",
       "      <td>MALE</td>\n",
       "      <td>25</td>\n",
       "      <td>400</td>\n",
       "    </tr>\n",
       "    <tr>\n",
       "      <th>4</th>\n",
       "      <td>MALE</td>\n",
       "      <td>23</td>\n",
       "      <td>600</td>\n",
       "    </tr>\n",
       "    <tr>\n",
       "      <th>5</th>\n",
       "      <td>FEMALE</td>\n",
       "      <td>29</td>\n",
       "      <td>400</td>\n",
       "    </tr>\n",
       "    <tr>\n",
       "      <th>6</th>\n",
       "      <td>FEMALE</td>\n",
       "      <td>40</td>\n",
       "      <td>1000</td>\n",
       "    </tr>\n",
       "    <tr>\n",
       "      <th>7</th>\n",
       "      <td>MALE</td>\n",
       "      <td>34</td>\n",
       "      <td>800</td>\n",
       "    </tr>\n",
       "    <tr>\n",
       "      <th>8</th>\n",
       "      <td>FEMALE</td>\n",
       "      <td>25</td>\n",
       "      <td>400</td>\n",
       "    </tr>\n",
       "    <tr>\n",
       "      <th>9</th>\n",
       "      <td>FEMALE</td>\n",
       "      <td>33</td>\n",
       "      <td>700</td>\n",
       "    </tr>\n",
       "  </tbody>\n",
       "</table>\n",
       "</div>"
      ],
      "text/plain": [
       "   GENDER  AGE  salary\n",
       "0    MALE   20     300\n",
       "1  FEMALE   30     600\n",
       "2    MALE   27     500\n",
       "3    MALE   25     400\n",
       "4    MALE   23     600\n",
       "5  FEMALE   29     400\n",
       "6  FEMALE   40    1000\n",
       "7    MALE   34     800\n",
       "8  FEMALE   25     400\n",
       "9  FEMALE   33     700"
      ]
     },
     "execution_count": 25,
     "metadata": {},
     "output_type": "execute_result"
    }
   ],
   "source": [
    "pd.concat([X,y],axis=1)"
   ]
  },
  {
   "cell_type": "markdown",
   "id": "06027063-5c42-4ec8-b6a7-18b905a569a1",
   "metadata": {
    "tags": []
   },
   "source": [
    "## Train and Test Split"
   ]
  },
  {
   "cell_type": "markdown",
   "id": "e513b698-ac80-4d15-8fce-8e664551176b",
   "metadata": {},
   "source": [
    "Train and Test Split is one of the key steps of any supervised learning. besides train and test split, we need another subset called Cross Validation or Development set that can be used for tuning our hyperparameters. in a small or moderate size dataset the proper fraction for splitting can be something like 0.6/0.2/0.2, but the idea is that use most of the data for training and two equal smaller subsets for dev and test.<br>\n",
    "splitting data into train/dev/test is called 3-fold splitting. in general, we have k-fold splitting but more of this in the hyperparameter tuning strategy section.<br>\n",
    "**NOTE:** for big data (over 1M data samples) the proper fraction is 0.98/0.01/0.01.<br>\n",
    "**NOTE:** in practice it is suggested that pick dev and test sets from the same distribution, and this distribution should be the one that we expect our model will see in the deployment phase.<br>\n",
    "now lets see how to split out data using `sklearn.model_selection.train_test_split`"
   ]
  },
  {
   "cell_type": "code",
   "execution_count": 26,
   "id": "02975c6f-9e7c-41ec-b6cc-f2f0e4b09561",
   "metadata": {},
   "outputs": [],
   "source": [
    "from sklearn.model_selection import train_test_split\n",
    "from sklearn.datasets import load_breast_cancer"
   ]
  },
  {
   "cell_type": "code",
   "execution_count": 27,
   "id": "0f0478fa-9219-4e86-b114-30a4bced1cd6",
   "metadata": {},
   "outputs": [],
   "source": [
    "X,y = load_breast_cancer(return_X_y=True,as_frame=True)"
   ]
  },
  {
   "cell_type": "code",
   "execution_count": 28,
   "id": "31026b4c-2080-43ed-9541-45fb05d17ed7",
   "metadata": {},
   "outputs": [],
   "source": [
    "X_train, X_test, y_train, y_test = train_test_split(X, y, test_size=0.2,random_state=42,stratify=y)"
   ]
  },
  {
   "cell_type": "code",
   "execution_count": 29,
   "id": "74016502-5f2b-4616-85e2-89bb7fd44595",
   "metadata": {},
   "outputs": [
    {
     "data": {
      "text/plain": [
       "(1    357\n",
       " 0    212\n",
       " Name: target, dtype: int64,\n",
       " 1    285\n",
       " 0    170\n",
       " Name: target, dtype: int64,\n",
       " 1    72\n",
       " 0    42\n",
       " Name: target, dtype: int64)"
      ]
     },
     "execution_count": 29,
     "metadata": {},
     "output_type": "execute_result"
    }
   ],
   "source": [
    "y.value_counts(),y_train.value_counts(),y_test.value_counts()"
   ]
  },
  {
   "cell_type": "code",
   "execution_count": 30,
   "id": "e46b4c97-8914-45ae-9a69-b8642038212a",
   "metadata": {},
   "outputs": [
    {
     "data": {
      "text/plain": [
       "(0.5938375350140056, 0.5964912280701754, 0.5833333333333334)"
      ]
     },
     "execution_count": 30,
     "metadata": {},
     "output_type": "execute_result"
    }
   ],
   "source": [
    "## ofcourse there is a better way to show it but, eh, it works :))\n",
    "212/357,170/285,42/72"
   ]
  },
  {
   "cell_type": "markdown",
   "id": "f8c8d42f-9826-4622-aac5-5ebf6f0e39ec",
   "metadata": {},
   "source": [
    "this class get our feature and target data(here X,y) as input and split the data depends on `test_size` fraction.<br>\n",
    "the `random_state` is make sure everytime we run our cell, we get same result.<br>\n",
    "the `stratify` is make sure you have same target class distribution in train and test set as original dataset. in other word if we have imbalance data with fraction of 0.6 it tries to keep it in our train and test set so we have same amount of imbalanced in our train and test set.<br>\n",
    "\n",
    "**NOTE :** here we only split our data into train and test set, you can implement it again on `X_train` and `y_train` to get your dev set. but as we will discuss in hyperparameters tuning chapter, splitting our data in train and test set is enough.<br>\n",
    "\n",
    "**NOTE :** the stratify only gets discrete target matrix (classification problem) so if we give it continuous target matrix it will throw an error. lets see how we can use stratify for regression problems."
   ]
  },
  {
   "cell_type": "markdown",
   "id": "e3b9a40c-7f14-44d5-a9c9-eda9d796edcd",
   "metadata": {},
   "source": [
    "### Stratify for Regression problem"
   ]
  },
  {
   "cell_type": "markdown",
   "id": "7c67698c-1c34-4893-91a5-87200bcdf86f",
   "metadata": {},
   "source": [
    "The trick is very simple, stratify wants discrete matrix?, we give it one :), so we change our continuous target matrix into discrete matrix. for that we are using `bins` and `np.digitize`.<br>\n",
    "**NOTE :** in continuous data instead of imbalance data we have skewed data problem, so when we have skewed data it is good practice to use stratify."
   ]
  },
  {
   "cell_type": "code",
   "execution_count": 31,
   "id": "29b157f4-f72b-469b-a8d5-6891e29aafe3",
   "metadata": {},
   "outputs": [],
   "source": [
    "from sklearn.datasets import fetch_california_housing\n",
    "import numpy as np\n",
    "X,y = fetch_california_housing(as_frame=True,return_X_y=True)"
   ]
  },
  {
   "cell_type": "code",
   "execution_count": 32,
   "id": "241f421d-09d4-4e0d-8c8c-ea6eac9dc801",
   "metadata": {},
   "outputs": [],
   "source": [
    "bins = np.linspace(0,len(y),50)\n",
    "y_binned = np.digitize(y,bins)\n",
    "## this way somehow we change our continuous target matrix into discrete matrix with 50 classes"
   ]
  },
  {
   "cell_type": "code",
   "execution_count": 33,
   "id": "06733664-5690-486b-867c-fb45e41526f4",
   "metadata": {},
   "outputs": [],
   "source": [
    "X_train, X_test, y_train, y_test = train_test_split(X, y, test_size=0.2,random_state=42,stratify=y_binned)"
   ]
  },
  {
   "cell_type": "code",
   "execution_count": 34,
   "id": "239a1fd0-2e2d-4f59-b65d-0295146d874e",
   "metadata": {},
   "outputs": [
    {
     "data": {
      "text/plain": [
       "(2.0677338087451544, 2.0718556104651165, 2.068558169089147)"
      ]
     },
     "execution_count": 34,
     "metadata": {},
     "output_type": "execute_result"
    }
   ],
   "source": [
    "y_train.mean(), y_test.mean(),y.mean()"
   ]
  },
  {
   "cell_type": "markdown",
   "id": "713c8561-27f3-4181-ac47-61a5f61a99a3",
   "metadata": {},
   "source": [
    "**NOTE :** i thought housing price would be skewed but it was not ! :). anyway if you have skewed target data, it is logical to use stratify."
   ]
  },
  {
   "cell_type": "markdown",
   "id": "83909e11-f8cd-49b9-b72d-3405c75e8c7b",
   "metadata": {},
   "source": [
    "## Handling Missing Values"
   ]
  },
  {
   "cell_type": "markdown",
   "id": "0a64a918-3563-4d42-835d-3f1fca25fdb8",
   "metadata": {},
   "source": [
    "there is several ways to deal with missing value in dataset and the first one is to drop (delete) row or columns of our dataset that contains missing values. but here, we don't want to do that, instead we want to fill the missing data with reasonable value. there are two approach:\n",
    "1. using constant value :<br>\n",
    "here we can use any value we want to fill the missing data but the better choice is mean or median of column to fill the dataset. for this approach we can use `sklearn.impute.SimpleImputer`\n",
    "2. using machine learning :<br>\n",
    "here we treat feature column with missing value as target vector and use other features to predict missing value. while we can use wide range of machine learning techniques to impute values, but we can again divide them into two group:\n",
    "    * K-Nearest Neighbor - using KNN algorithm to predict missing values `sklearn.impute.KNNImputer`\n",
    "    * Iterative Methods - use linear regression, naive bayes, etc to predict missing value `sklearn.impute.IterativeImputer`  \n",
    "\n",
    "**NOTES :**<br>\n",
    "* for using `sklearn.impute.IterativeImputer` we have to import `sklearn.experimental.enable_iterative_imputer`, because it is still experimental.\n",
    "* like KNN algorithm if we have large dataset it is better not to use this algorithm because it store all the values for calculate distances, so it takes so much RAM space."
   ]
  },
  {
   "cell_type": "code",
   "execution_count": 35,
   "id": "11eb55d8-a653-4e75-8ec9-8f1adf41858a",
   "metadata": {},
   "outputs": [],
   "source": [
    "import pandas as pd\n",
    "import numpy as np\n",
    "from sklearn.experimental import enable_iterative_imputer\n",
    "from sklearn.impute import KNNImputer,SimpleImputer,IterativeImputer\n",
    "from sklearn.datasets import load_breast_cancer"
   ]
  },
  {
   "cell_type": "markdown",
   "id": "2df6f30b-019a-49a0-9131-ccb2afe793b5",
   "metadata": {},
   "source": [
    "First import dataset and get value of sum random values from data with different scenario so we set them as `np.nan` later.\n",
    "we put this value in list and set them as `np.array` to use them for calculating euclidean distance as loss."
   ]
  },
  {
   "cell_type": "code",
   "execution_count": 36,
   "id": "930f16e8-f750-4d9a-8a71-f852ddc4263b",
   "metadata": {},
   "outputs": [],
   "source": [
    "data, target = load_breast_cancer(return_X_y=True)\n",
    "data_array = [data[4][1], data[400][10], data[401][10], data[300][3], data[300][4], data[200][6], data[201][6], data[200][7]]\n",
    "data_array = np.array(data_array)"
   ]
  },
  {
   "cell_type": "markdown",
   "id": "b88770f8-8cfd-4811-9067-fa1b7e20c751",
   "metadata": {},
   "source": [
    "set those values to `np.nan`"
   ]
  },
  {
   "cell_type": "code",
   "execution_count": 37,
   "id": "d72475b5-5802-4531-9d05-97c569481543",
   "metadata": {},
   "outputs": [],
   "source": [
    "data[4][1]=np.nan\n",
    "data[400][10]=np.nan\n",
    "data[401][10]=np.nan\n",
    "data[300][3]=np.nan\n",
    "data[300][4]=np.nan\n",
    "data[200][6]=np.nan\n",
    "data[201][6]=np.nan\n",
    "data[200][7]=np.nan"
   ]
  },
  {
   "cell_type": "code",
   "execution_count": 38,
   "id": "679e74ae-08af-41ea-85c2-3942775fb345",
   "metadata": {},
   "outputs": [
    {
     "data": {
      "text/plain": [
       "(nan, nan, nan, nan, nan, nan, nan, nan)"
      ]
     },
     "execution_count": 38,
     "metadata": {},
     "output_type": "execute_result"
    }
   ],
   "source": [
    "data[4][1], data[400][10], data[401][10], data[300][3], data[300][4], data[200][6], data[201][6], data[200][7]"
   ]
  },
  {
   "cell_type": "markdown",
   "id": "b5d7a9c6-babc-4edb-839f-5f67c65723d7",
   "metadata": {},
   "source": [
    "instantiate the classes with some proper parameters.\n",
    "then use `.fit_transform` to estimate our missing values using each method."
   ]
  },
  {
   "cell_type": "code",
   "execution_count": 39,
   "id": "723479ea-baa0-471d-a392-83a40a8dea32",
   "metadata": {},
   "outputs": [],
   "source": [
    "simpleimp = SimpleImputer(missing_values=np.nan,strategy=\"mean\")\n",
    "knnimp = KNNImputer(missing_values=np.nan,n_neighbors=3)\n",
    "iterimp = IterativeImputer(missing_values=np.nan,random_state=42)"
   ]
  },
  {
   "cell_type": "code",
   "execution_count": 40,
   "id": "a041567f-c6ad-468b-9454-4628a27dd0a0",
   "metadata": {},
   "outputs": [],
   "source": [
    "dsimple = simpleimp.fit_transform(data)\n",
    "dknn = knnimp.fit_transform(data)\n",
    "diter = iterimp.fit_transform(data)"
   ]
  },
  {
   "cell_type": "markdown",
   "id": "fd228e06-acb3-4f8a-9417-1c9b568d512b",
   "metadata": {},
   "source": [
    "put our values in list and change them to numpy array for further calculation."
   ]
  },
  {
   "cell_type": "code",
   "execution_count": 41,
   "id": "516c2191-ed55-474c-bf53-d0afa8b33c5a",
   "metadata": {},
   "outputs": [],
   "source": [
    "dsimple_array = [dsimple[4][1], dsimple[400][10], dsimple[401][10], dsimple[300][3], dsimple[300][4],\n",
    "                 dsimple[200][6], dsimple[201][6], dsimple[200][7]]\n",
    "dsimple_array = np.array(dsimple_array)"
   ]
  },
  {
   "cell_type": "code",
   "execution_count": 42,
   "id": "4ccd549f-3943-4ed7-b7ae-b3d08bf8de1a",
   "metadata": {},
   "outputs": [],
   "source": [
    "dknn_array = [dknn[4][1], dknn[400][10], dknn[401][10], dknn[300][3], dknn[300][4], dknn[200][6], dknn[201][6], dknn[200][7]]\n",
    "dknn_array = np.array(dknn_array)"
   ]
  },
  {
   "cell_type": "code",
   "execution_count": 43,
   "id": "3ac51523-aca7-418f-82e8-e1afc0059c4f",
   "metadata": {},
   "outputs": [],
   "source": [
    "diter_array = [diter[4][1], diter[400][10], diter[401][10], diter[300][3], diter[300][4], diter[200][6], diter[201][6], diter[200][7]]\n",
    "diter_array = np.array(diter_array)"
   ]
  },
  {
   "cell_type": "markdown",
   "id": "d5a9ba9f-009e-4e16-b785-5e4b7829cb8c",
   "metadata": {},
   "source": [
    "calculate euclidean distance between each array and our original array as loss. smaller loss means better estimation."
   ]
  },
  {
   "cell_type": "code",
   "execution_count": 44,
   "id": "fdec57d5-ce8e-48a4-b941-fddd28ae3174",
   "metadata": {},
   "outputs": [
    {
     "data": {
      "text/plain": [
       "(563.1223814682091, 64.81903293240858, 12.067004551676234)"
      ]
     },
     "execution_count": 44,
     "metadata": {},
     "output_type": "execute_result"
    }
   ],
   "source": [
    "loss_simple = np.linalg.norm(data_array-dsimple_array)\n",
    "loss_knn = np.linalg.norm(data_array-dknn_array)\n",
    "loss_iter = np.linalg.norm(data_array-diter_array)\n",
    "loss_simple,loss_knn,loss_iter"
   ]
  },
  {
   "cell_type": "markdown",
   "id": "e666c1ee-4b8d-497d-ba4c-58461a7885e9",
   "metadata": {},
   "source": [
    "**NOTE :**\n",
    " all the codes we wright above are for comparisons, we actually can implement these methods just with 2 lines of code so don't be distracted :)"
   ]
  },
  {
   "cell_type": "markdown",
   "id": "22cadda7-170d-479c-b25a-6674646416df",
   "metadata": {
    "tags": []
   },
   "source": [
    "## Scaling Numerical variables"
   ]
  },
  {
   "cell_type": "markdown",
   "id": "42b891d3-497b-44c1-8650-7ff7384c2fd2",
   "metadata": {},
   "source": [
    "Feature scaling is one of the key steps of preprocessing where we rescale our features range to have same order. when we wanna implement **Gradient Descent Based** (Linear Regression, Logistic Regression, Neural Network) and **Distance Based** (KNN, K-Means) methods, it should be performed because these methods are sensitive to range of data points. for **Tree based methods** feature scaling is not that important.<br>\n",
    "in gradient based models by implementing scaling we have smoother gradient descent and we can reach minimum faster (faster training). it also prevent the optimization to stuck in local optima.<br>\n",
    "in other word, we can say if we don't scale our features, the algorithm may be biased toward the feature which has higher value in magnitude. there are several methods for scaling:<br>\n",
    "   * `StandardScaler` : use mean and std for scaling. commonly used when the data have gaussian distribution. low sensibility to outliers.\n",
    "   * `MinMaxScaler` : use min and max for scaling. commonly used when data have non-gaussian distribution. high sensibility to outliers.\n",
    "   * `RobustScaler` : like StandardScaler but use median and quantile for scaling. useful when we have strong outliers or suspect we have strong outliers.\n",
    "   * `Normalizer` : works on each row individually. useful when we have count data.\n",
    "   * `MaxAbsScaler` : it only scale the data and wont center them. useful when dealing with sparse data.<br> \n",
    "\n",
    "lets see how we can implement some of these methods."
   ]
  },
  {
   "cell_type": "code",
   "execution_count": 45,
   "id": "9fe0f72d-11ce-420d-a900-aacaa84bf9eb",
   "metadata": {},
   "outputs": [],
   "source": [
    "from sklearn.preprocessing import StandardScaler,MinMaxScaler,RobustScaler\n",
    "from sklearn.datasets import load_breast_cancer\n",
    "import pandas as pd"
   ]
  },
  {
   "cell_type": "code",
   "execution_count": 46,
   "id": "1a9cee3c-f03c-464d-8475-04ef8ad84af7",
   "metadata": {},
   "outputs": [
    {
     "data": {
      "text/html": [
       "<div>\n",
       "<style scoped>\n",
       "    .dataframe tbody tr th:only-of-type {\n",
       "        vertical-align: middle;\n",
       "    }\n",
       "\n",
       "    .dataframe tbody tr th {\n",
       "        vertical-align: top;\n",
       "    }\n",
       "\n",
       "    .dataframe thead th {\n",
       "        text-align: right;\n",
       "    }\n",
       "</style>\n",
       "<table border=\"1\" class=\"dataframe\">\n",
       "  <thead>\n",
       "    <tr style=\"text-align: right;\">\n",
       "      <th></th>\n",
       "      <th>mean radius</th>\n",
       "      <th>mean texture</th>\n",
       "      <th>mean perimeter</th>\n",
       "      <th>mean area</th>\n",
       "      <th>mean smoothness</th>\n",
       "      <th>mean compactness</th>\n",
       "      <th>mean concavity</th>\n",
       "      <th>mean concave points</th>\n",
       "      <th>mean symmetry</th>\n",
       "      <th>mean fractal dimension</th>\n",
       "      <th>...</th>\n",
       "      <th>worst radius</th>\n",
       "      <th>worst texture</th>\n",
       "      <th>worst perimeter</th>\n",
       "      <th>worst area</th>\n",
       "      <th>worst smoothness</th>\n",
       "      <th>worst compactness</th>\n",
       "      <th>worst concavity</th>\n",
       "      <th>worst concave points</th>\n",
       "      <th>worst symmetry</th>\n",
       "      <th>worst fractal dimension</th>\n",
       "    </tr>\n",
       "  </thead>\n",
       "  <tbody>\n",
       "    <tr>\n",
       "      <th>count</th>\n",
       "      <td>569.000000</td>\n",
       "      <td>569.000000</td>\n",
       "      <td>569.000000</td>\n",
       "      <td>569.000000</td>\n",
       "      <td>569.000000</td>\n",
       "      <td>569.000000</td>\n",
       "      <td>569.000000</td>\n",
       "      <td>569.000000</td>\n",
       "      <td>569.000000</td>\n",
       "      <td>569.000000</td>\n",
       "      <td>...</td>\n",
       "      <td>569.000000</td>\n",
       "      <td>569.000000</td>\n",
       "      <td>569.000000</td>\n",
       "      <td>569.000000</td>\n",
       "      <td>569.000000</td>\n",
       "      <td>569.000000</td>\n",
       "      <td>569.000000</td>\n",
       "      <td>569.000000</td>\n",
       "      <td>569.000000</td>\n",
       "      <td>569.000000</td>\n",
       "    </tr>\n",
       "    <tr>\n",
       "      <th>mean</th>\n",
       "      <td>14.127292</td>\n",
       "      <td>19.289649</td>\n",
       "      <td>91.969033</td>\n",
       "      <td>654.889104</td>\n",
       "      <td>0.096360</td>\n",
       "      <td>0.104341</td>\n",
       "      <td>0.088799</td>\n",
       "      <td>0.048919</td>\n",
       "      <td>0.181162</td>\n",
       "      <td>0.062798</td>\n",
       "      <td>...</td>\n",
       "      <td>16.269190</td>\n",
       "      <td>25.677223</td>\n",
       "      <td>107.261213</td>\n",
       "      <td>880.583128</td>\n",
       "      <td>0.132369</td>\n",
       "      <td>0.254265</td>\n",
       "      <td>0.272188</td>\n",
       "      <td>0.114606</td>\n",
       "      <td>0.290076</td>\n",
       "      <td>0.083946</td>\n",
       "    </tr>\n",
       "    <tr>\n",
       "      <th>std</th>\n",
       "      <td>3.524049</td>\n",
       "      <td>4.301036</td>\n",
       "      <td>24.298981</td>\n",
       "      <td>351.914129</td>\n",
       "      <td>0.014064</td>\n",
       "      <td>0.052813</td>\n",
       "      <td>0.079720</td>\n",
       "      <td>0.038803</td>\n",
       "      <td>0.027414</td>\n",
       "      <td>0.007060</td>\n",
       "      <td>...</td>\n",
       "      <td>4.833242</td>\n",
       "      <td>6.146258</td>\n",
       "      <td>33.602542</td>\n",
       "      <td>569.356993</td>\n",
       "      <td>0.022832</td>\n",
       "      <td>0.157336</td>\n",
       "      <td>0.208624</td>\n",
       "      <td>0.065732</td>\n",
       "      <td>0.061867</td>\n",
       "      <td>0.018061</td>\n",
       "    </tr>\n",
       "    <tr>\n",
       "      <th>min</th>\n",
       "      <td>6.981000</td>\n",
       "      <td>9.710000</td>\n",
       "      <td>43.790000</td>\n",
       "      <td>143.500000</td>\n",
       "      <td>0.052630</td>\n",
       "      <td>0.019380</td>\n",
       "      <td>0.000000</td>\n",
       "      <td>0.000000</td>\n",
       "      <td>0.106000</td>\n",
       "      <td>0.049960</td>\n",
       "      <td>...</td>\n",
       "      <td>7.930000</td>\n",
       "      <td>12.020000</td>\n",
       "      <td>50.410000</td>\n",
       "      <td>185.200000</td>\n",
       "      <td>0.071170</td>\n",
       "      <td>0.027290</td>\n",
       "      <td>0.000000</td>\n",
       "      <td>0.000000</td>\n",
       "      <td>0.156500</td>\n",
       "      <td>0.055040</td>\n",
       "    </tr>\n",
       "    <tr>\n",
       "      <th>25%</th>\n",
       "      <td>11.700000</td>\n",
       "      <td>16.170000</td>\n",
       "      <td>75.170000</td>\n",
       "      <td>420.300000</td>\n",
       "      <td>0.086370</td>\n",
       "      <td>0.064920</td>\n",
       "      <td>0.029560</td>\n",
       "      <td>0.020310</td>\n",
       "      <td>0.161900</td>\n",
       "      <td>0.057700</td>\n",
       "      <td>...</td>\n",
       "      <td>13.010000</td>\n",
       "      <td>21.080000</td>\n",
       "      <td>84.110000</td>\n",
       "      <td>515.300000</td>\n",
       "      <td>0.116600</td>\n",
       "      <td>0.147200</td>\n",
       "      <td>0.114500</td>\n",
       "      <td>0.064930</td>\n",
       "      <td>0.250400</td>\n",
       "      <td>0.071460</td>\n",
       "    </tr>\n",
       "    <tr>\n",
       "      <th>50%</th>\n",
       "      <td>13.370000</td>\n",
       "      <td>18.840000</td>\n",
       "      <td>86.240000</td>\n",
       "      <td>551.100000</td>\n",
       "      <td>0.095870</td>\n",
       "      <td>0.092630</td>\n",
       "      <td>0.061540</td>\n",
       "      <td>0.033500</td>\n",
       "      <td>0.179200</td>\n",
       "      <td>0.061540</td>\n",
       "      <td>...</td>\n",
       "      <td>14.970000</td>\n",
       "      <td>25.410000</td>\n",
       "      <td>97.660000</td>\n",
       "      <td>686.500000</td>\n",
       "      <td>0.131300</td>\n",
       "      <td>0.211900</td>\n",
       "      <td>0.226700</td>\n",
       "      <td>0.099930</td>\n",
       "      <td>0.282200</td>\n",
       "      <td>0.080040</td>\n",
       "    </tr>\n",
       "    <tr>\n",
       "      <th>75%</th>\n",
       "      <td>15.780000</td>\n",
       "      <td>21.800000</td>\n",
       "      <td>104.100000</td>\n",
       "      <td>782.700000</td>\n",
       "      <td>0.105300</td>\n",
       "      <td>0.130400</td>\n",
       "      <td>0.130700</td>\n",
       "      <td>0.074000</td>\n",
       "      <td>0.195700</td>\n",
       "      <td>0.066120</td>\n",
       "      <td>...</td>\n",
       "      <td>18.790000</td>\n",
       "      <td>29.720000</td>\n",
       "      <td>125.400000</td>\n",
       "      <td>1084.000000</td>\n",
       "      <td>0.146000</td>\n",
       "      <td>0.339100</td>\n",
       "      <td>0.382900</td>\n",
       "      <td>0.161400</td>\n",
       "      <td>0.317900</td>\n",
       "      <td>0.092080</td>\n",
       "    </tr>\n",
       "    <tr>\n",
       "      <th>max</th>\n",
       "      <td>28.110000</td>\n",
       "      <td>39.280000</td>\n",
       "      <td>188.500000</td>\n",
       "      <td>2501.000000</td>\n",
       "      <td>0.163400</td>\n",
       "      <td>0.345400</td>\n",
       "      <td>0.426800</td>\n",
       "      <td>0.201200</td>\n",
       "      <td>0.304000</td>\n",
       "      <td>0.097440</td>\n",
       "      <td>...</td>\n",
       "      <td>36.040000</td>\n",
       "      <td>49.540000</td>\n",
       "      <td>251.200000</td>\n",
       "      <td>4254.000000</td>\n",
       "      <td>0.222600</td>\n",
       "      <td>1.058000</td>\n",
       "      <td>1.252000</td>\n",
       "      <td>0.291000</td>\n",
       "      <td>0.663800</td>\n",
       "      <td>0.207500</td>\n",
       "    </tr>\n",
       "  </tbody>\n",
       "</table>\n",
       "<p>8 rows × 30 columns</p>\n",
       "</div>"
      ],
      "text/plain": [
       "       mean radius  mean texture  mean perimeter    mean area  \\\n",
       "count   569.000000    569.000000      569.000000   569.000000   \n",
       "mean     14.127292     19.289649       91.969033   654.889104   \n",
       "std       3.524049      4.301036       24.298981   351.914129   \n",
       "min       6.981000      9.710000       43.790000   143.500000   \n",
       "25%      11.700000     16.170000       75.170000   420.300000   \n",
       "50%      13.370000     18.840000       86.240000   551.100000   \n",
       "75%      15.780000     21.800000      104.100000   782.700000   \n",
       "max      28.110000     39.280000      188.500000  2501.000000   \n",
       "\n",
       "       mean smoothness  mean compactness  mean concavity  mean concave points  \\\n",
       "count       569.000000        569.000000      569.000000           569.000000   \n",
       "mean          0.096360          0.104341        0.088799             0.048919   \n",
       "std           0.014064          0.052813        0.079720             0.038803   \n",
       "min           0.052630          0.019380        0.000000             0.000000   \n",
       "25%           0.086370          0.064920        0.029560             0.020310   \n",
       "50%           0.095870          0.092630        0.061540             0.033500   \n",
       "75%           0.105300          0.130400        0.130700             0.074000   \n",
       "max           0.163400          0.345400        0.426800             0.201200   \n",
       "\n",
       "       mean symmetry  mean fractal dimension  ...  worst radius  \\\n",
       "count     569.000000              569.000000  ...    569.000000   \n",
       "mean        0.181162                0.062798  ...     16.269190   \n",
       "std         0.027414                0.007060  ...      4.833242   \n",
       "min         0.106000                0.049960  ...      7.930000   \n",
       "25%         0.161900                0.057700  ...     13.010000   \n",
       "50%         0.179200                0.061540  ...     14.970000   \n",
       "75%         0.195700                0.066120  ...     18.790000   \n",
       "max         0.304000                0.097440  ...     36.040000   \n",
       "\n",
       "       worst texture  worst perimeter   worst area  worst smoothness  \\\n",
       "count     569.000000       569.000000   569.000000        569.000000   \n",
       "mean       25.677223       107.261213   880.583128          0.132369   \n",
       "std         6.146258        33.602542   569.356993          0.022832   \n",
       "min        12.020000        50.410000   185.200000          0.071170   \n",
       "25%        21.080000        84.110000   515.300000          0.116600   \n",
       "50%        25.410000        97.660000   686.500000          0.131300   \n",
       "75%        29.720000       125.400000  1084.000000          0.146000   \n",
       "max        49.540000       251.200000  4254.000000          0.222600   \n",
       "\n",
       "       worst compactness  worst concavity  worst concave points  \\\n",
       "count         569.000000       569.000000            569.000000   \n",
       "mean            0.254265         0.272188              0.114606   \n",
       "std             0.157336         0.208624              0.065732   \n",
       "min             0.027290         0.000000              0.000000   \n",
       "25%             0.147200         0.114500              0.064930   \n",
       "50%             0.211900         0.226700              0.099930   \n",
       "75%             0.339100         0.382900              0.161400   \n",
       "max             1.058000         1.252000              0.291000   \n",
       "\n",
       "       worst symmetry  worst fractal dimension  \n",
       "count      569.000000               569.000000  \n",
       "mean         0.290076                 0.083946  \n",
       "std          0.061867                 0.018061  \n",
       "min          0.156500                 0.055040  \n",
       "25%          0.250400                 0.071460  \n",
       "50%          0.282200                 0.080040  \n",
       "75%          0.317900                 0.092080  \n",
       "max          0.663800                 0.207500  \n",
       "\n",
       "[8 rows x 30 columns]"
      ]
     },
     "execution_count": 46,
     "metadata": {},
     "output_type": "execute_result"
    }
   ],
   "source": [
    "X,y = load_breast_cancer(return_X_y=True,as_frame=True)\n",
    "X.describe()"
   ]
  },
  {
   "cell_type": "code",
   "execution_count": 47,
   "id": "d44f8250-2540-4f87-aa96-54d572e1fc72",
   "metadata": {},
   "outputs": [],
   "source": [
    "SS = StandardScaler()\n",
    "MS = MinMaxScaler()\n",
    "RS = RobustScaler()"
   ]
  },
  {
   "cell_type": "code",
   "execution_count": 48,
   "id": "73a31e78-0b99-4f4e-82ba-01325b003818",
   "metadata": {},
   "outputs": [],
   "source": [
    "x_scale_S = SS.fit_transform(X)\n",
    "x_scale_M = MS.fit_transform(X)\n",
    "x_scale_R = RS.fit_transform(X)"
   ]
  },
  {
   "cell_type": "code",
   "execution_count": 49,
   "id": "0ce760f9-d498-4f63-997b-65a09473e80d",
   "metadata": {},
   "outputs": [
    {
     "data": {
      "text/html": [
       "<div>\n",
       "<style scoped>\n",
       "    .dataframe tbody tr th:only-of-type {\n",
       "        vertical-align: middle;\n",
       "    }\n",
       "\n",
       "    .dataframe tbody tr th {\n",
       "        vertical-align: top;\n",
       "    }\n",
       "\n",
       "    .dataframe thead th {\n",
       "        text-align: right;\n",
       "    }\n",
       "</style>\n",
       "<table border=\"1\" class=\"dataframe\">\n",
       "  <thead>\n",
       "    <tr style=\"text-align: right;\">\n",
       "      <th></th>\n",
       "      <th>0</th>\n",
       "      <th>1</th>\n",
       "      <th>2</th>\n",
       "      <th>3</th>\n",
       "      <th>4</th>\n",
       "      <th>5</th>\n",
       "      <th>6</th>\n",
       "      <th>7</th>\n",
       "      <th>8</th>\n",
       "      <th>9</th>\n",
       "      <th>...</th>\n",
       "      <th>20</th>\n",
       "      <th>21</th>\n",
       "      <th>22</th>\n",
       "      <th>23</th>\n",
       "      <th>24</th>\n",
       "      <th>25</th>\n",
       "      <th>26</th>\n",
       "      <th>27</th>\n",
       "      <th>28</th>\n",
       "      <th>29</th>\n",
       "    </tr>\n",
       "  </thead>\n",
       "  <tbody>\n",
       "    <tr>\n",
       "      <th>count</th>\n",
       "      <td>569.000000</td>\n",
       "      <td>569.000000</td>\n",
       "      <td>569.000000</td>\n",
       "      <td>569.000000</td>\n",
       "      <td>569.000000</td>\n",
       "      <td>569.000000</td>\n",
       "      <td>569.000000</td>\n",
       "      <td>569.000000</td>\n",
       "      <td>569.000000</td>\n",
       "      <td>569.000000</td>\n",
       "      <td>...</td>\n",
       "      <td>569.000000</td>\n",
       "      <td>569.000000</td>\n",
       "      <td>569.000000</td>\n",
       "      <td>569.000000</td>\n",
       "      <td>569.000000</td>\n",
       "      <td>569.000000</td>\n",
       "      <td>569.000000</td>\n",
       "      <td>569.000000</td>\n",
       "      <td>569.000000</td>\n",
       "      <td>569.000000</td>\n",
       "    </tr>\n",
       "    <tr>\n",
       "      <th>mean</th>\n",
       "      <td>0.338222</td>\n",
       "      <td>0.323965</td>\n",
       "      <td>0.332935</td>\n",
       "      <td>0.216920</td>\n",
       "      <td>0.394785</td>\n",
       "      <td>0.260601</td>\n",
       "      <td>0.208058</td>\n",
       "      <td>0.243137</td>\n",
       "      <td>0.379605</td>\n",
       "      <td>0.270379</td>\n",
       "      <td>...</td>\n",
       "      <td>0.296663</td>\n",
       "      <td>0.363998</td>\n",
       "      <td>0.283138</td>\n",
       "      <td>0.170906</td>\n",
       "      <td>0.404138</td>\n",
       "      <td>0.220212</td>\n",
       "      <td>0.217403</td>\n",
       "      <td>0.393836</td>\n",
       "      <td>0.263307</td>\n",
       "      <td>0.189596</td>\n",
       "    </tr>\n",
       "    <tr>\n",
       "      <th>std</th>\n",
       "      <td>0.166787</td>\n",
       "      <td>0.145453</td>\n",
       "      <td>0.167915</td>\n",
       "      <td>0.149274</td>\n",
       "      <td>0.126967</td>\n",
       "      <td>0.161992</td>\n",
       "      <td>0.186785</td>\n",
       "      <td>0.192857</td>\n",
       "      <td>0.138456</td>\n",
       "      <td>0.148702</td>\n",
       "      <td>...</td>\n",
       "      <td>0.171940</td>\n",
       "      <td>0.163813</td>\n",
       "      <td>0.167352</td>\n",
       "      <td>0.139932</td>\n",
       "      <td>0.150779</td>\n",
       "      <td>0.152649</td>\n",
       "      <td>0.166633</td>\n",
       "      <td>0.225884</td>\n",
       "      <td>0.121954</td>\n",
       "      <td>0.118466</td>\n",
       "    </tr>\n",
       "    <tr>\n",
       "      <th>min</th>\n",
       "      <td>0.000000</td>\n",
       "      <td>0.000000</td>\n",
       "      <td>0.000000</td>\n",
       "      <td>0.000000</td>\n",
       "      <td>0.000000</td>\n",
       "      <td>0.000000</td>\n",
       "      <td>0.000000</td>\n",
       "      <td>0.000000</td>\n",
       "      <td>0.000000</td>\n",
       "      <td>0.000000</td>\n",
       "      <td>...</td>\n",
       "      <td>0.000000</td>\n",
       "      <td>0.000000</td>\n",
       "      <td>0.000000</td>\n",
       "      <td>0.000000</td>\n",
       "      <td>0.000000</td>\n",
       "      <td>0.000000</td>\n",
       "      <td>0.000000</td>\n",
       "      <td>0.000000</td>\n",
       "      <td>0.000000</td>\n",
       "      <td>0.000000</td>\n",
       "    </tr>\n",
       "    <tr>\n",
       "      <th>25%</th>\n",
       "      <td>0.223342</td>\n",
       "      <td>0.218465</td>\n",
       "      <td>0.216847</td>\n",
       "      <td>0.117413</td>\n",
       "      <td>0.304595</td>\n",
       "      <td>0.139685</td>\n",
       "      <td>0.069260</td>\n",
       "      <td>0.100944</td>\n",
       "      <td>0.282323</td>\n",
       "      <td>0.163016</td>\n",
       "      <td>...</td>\n",
       "      <td>0.180719</td>\n",
       "      <td>0.241471</td>\n",
       "      <td>0.167837</td>\n",
       "      <td>0.081130</td>\n",
       "      <td>0.300007</td>\n",
       "      <td>0.116337</td>\n",
       "      <td>0.091454</td>\n",
       "      <td>0.223127</td>\n",
       "      <td>0.185098</td>\n",
       "      <td>0.107700</td>\n",
       "    </tr>\n",
       "    <tr>\n",
       "      <th>50%</th>\n",
       "      <td>0.302381</td>\n",
       "      <td>0.308759</td>\n",
       "      <td>0.293345</td>\n",
       "      <td>0.172895</td>\n",
       "      <td>0.390358</td>\n",
       "      <td>0.224679</td>\n",
       "      <td>0.144189</td>\n",
       "      <td>0.166501</td>\n",
       "      <td>0.369697</td>\n",
       "      <td>0.243892</td>\n",
       "      <td>...</td>\n",
       "      <td>0.250445</td>\n",
       "      <td>0.356876</td>\n",
       "      <td>0.235320</td>\n",
       "      <td>0.123206</td>\n",
       "      <td>0.397081</td>\n",
       "      <td>0.179110</td>\n",
       "      <td>0.181070</td>\n",
       "      <td>0.343402</td>\n",
       "      <td>0.247782</td>\n",
       "      <td>0.163977</td>\n",
       "    </tr>\n",
       "    <tr>\n",
       "      <th>75%</th>\n",
       "      <td>0.416442</td>\n",
       "      <td>0.408860</td>\n",
       "      <td>0.416765</td>\n",
       "      <td>0.271135</td>\n",
       "      <td>0.475490</td>\n",
       "      <td>0.340531</td>\n",
       "      <td>0.306232</td>\n",
       "      <td>0.367793</td>\n",
       "      <td>0.453030</td>\n",
       "      <td>0.340354</td>\n",
       "      <td>...</td>\n",
       "      <td>0.386339</td>\n",
       "      <td>0.471748</td>\n",
       "      <td>0.373475</td>\n",
       "      <td>0.220901</td>\n",
       "      <td>0.494156</td>\n",
       "      <td>0.302520</td>\n",
       "      <td>0.305831</td>\n",
       "      <td>0.554639</td>\n",
       "      <td>0.318155</td>\n",
       "      <td>0.242949</td>\n",
       "    </tr>\n",
       "    <tr>\n",
       "      <th>max</th>\n",
       "      <td>1.000000</td>\n",
       "      <td>1.000000</td>\n",
       "      <td>1.000000</td>\n",
       "      <td>1.000000</td>\n",
       "      <td>1.000000</td>\n",
       "      <td>1.000000</td>\n",
       "      <td>1.000000</td>\n",
       "      <td>1.000000</td>\n",
       "      <td>1.000000</td>\n",
       "      <td>1.000000</td>\n",
       "      <td>...</td>\n",
       "      <td>1.000000</td>\n",
       "      <td>1.000000</td>\n",
       "      <td>1.000000</td>\n",
       "      <td>1.000000</td>\n",
       "      <td>1.000000</td>\n",
       "      <td>1.000000</td>\n",
       "      <td>1.000000</td>\n",
       "      <td>1.000000</td>\n",
       "      <td>1.000000</td>\n",
       "      <td>1.000000</td>\n",
       "    </tr>\n",
       "  </tbody>\n",
       "</table>\n",
       "<p>8 rows × 30 columns</p>\n",
       "</div>"
      ],
      "text/plain": [
       "               0           1           2           3           4           5   \\\n",
       "count  569.000000  569.000000  569.000000  569.000000  569.000000  569.000000   \n",
       "mean     0.338222    0.323965    0.332935    0.216920    0.394785    0.260601   \n",
       "std      0.166787    0.145453    0.167915    0.149274    0.126967    0.161992   \n",
       "min      0.000000    0.000000    0.000000    0.000000    0.000000    0.000000   \n",
       "25%      0.223342    0.218465    0.216847    0.117413    0.304595    0.139685   \n",
       "50%      0.302381    0.308759    0.293345    0.172895    0.390358    0.224679   \n",
       "75%      0.416442    0.408860    0.416765    0.271135    0.475490    0.340531   \n",
       "max      1.000000    1.000000    1.000000    1.000000    1.000000    1.000000   \n",
       "\n",
       "               6           7           8           9   ...          20  \\\n",
       "count  569.000000  569.000000  569.000000  569.000000  ...  569.000000   \n",
       "mean     0.208058    0.243137    0.379605    0.270379  ...    0.296663   \n",
       "std      0.186785    0.192857    0.138456    0.148702  ...    0.171940   \n",
       "min      0.000000    0.000000    0.000000    0.000000  ...    0.000000   \n",
       "25%      0.069260    0.100944    0.282323    0.163016  ...    0.180719   \n",
       "50%      0.144189    0.166501    0.369697    0.243892  ...    0.250445   \n",
       "75%      0.306232    0.367793    0.453030    0.340354  ...    0.386339   \n",
       "max      1.000000    1.000000    1.000000    1.000000  ...    1.000000   \n",
       "\n",
       "               21          22          23          24          25          26  \\\n",
       "count  569.000000  569.000000  569.000000  569.000000  569.000000  569.000000   \n",
       "mean     0.363998    0.283138    0.170906    0.404138    0.220212    0.217403   \n",
       "std      0.163813    0.167352    0.139932    0.150779    0.152649    0.166633   \n",
       "min      0.000000    0.000000    0.000000    0.000000    0.000000    0.000000   \n",
       "25%      0.241471    0.167837    0.081130    0.300007    0.116337    0.091454   \n",
       "50%      0.356876    0.235320    0.123206    0.397081    0.179110    0.181070   \n",
       "75%      0.471748    0.373475    0.220901    0.494156    0.302520    0.305831   \n",
       "max      1.000000    1.000000    1.000000    1.000000    1.000000    1.000000   \n",
       "\n",
       "               27          28          29  \n",
       "count  569.000000  569.000000  569.000000  \n",
       "mean     0.393836    0.263307    0.189596  \n",
       "std      0.225884    0.121954    0.118466  \n",
       "min      0.000000    0.000000    0.000000  \n",
       "25%      0.223127    0.185098    0.107700  \n",
       "50%      0.343402    0.247782    0.163977  \n",
       "75%      0.554639    0.318155    0.242949  \n",
       "max      1.000000    1.000000    1.000000  \n",
       "\n",
       "[8 rows x 30 columns]"
      ]
     },
     "execution_count": 49,
     "metadata": {},
     "output_type": "execute_result"
    }
   ],
   "source": [
    "df = pd.DataFrame(x_scale_M)\n",
    "df.describe()"
   ]
  },
  {
   "cell_type": "markdown",
   "id": "f67244ad-9860-4f47-b460-7ff304464118",
   "metadata": {},
   "source": [
    "as we can see for example MinMaxScaler, rescale all the feature columns between [0,1], we can check others too."
   ]
  },
  {
   "cell_type": "markdown",
   "id": "23c92139-125e-4f38-83e7-3d0206404214",
   "metadata": {},
   "source": [
    "## Handling Categorical Variables"
   ]
  },
  {
   "cell_type": "markdown",
   "id": "891267e9-963e-4ae0-8b7b-7fde8f9133d0",
   "metadata": {},
   "source": [
    "Having categorical data is very common in every dataset and the problem is they aren't number and most of our models only understand numbers so we have to change them into number. <br>\n",
    "in general we have 2 type of categorical variables:<br>\n",
    "   * **Nominal:** with no natural ordering (like red, green, blue)\n",
    "   * **Ordinal:** with natural ordering (like old, young)<br>\n",
    "\n",
    "lets see what is the proper way to change them into numbers. but first lets create our custom dataset because sklearn dont have proper one (at least i couldn't find one) and i dont want to use csv file :)."
   ]
  },
  {
   "cell_type": "code",
   "execution_count": 50,
   "id": "4ae88000-f874-4e4a-940f-ded0f4bb08d8",
   "metadata": {},
   "outputs": [],
   "source": [
    "import pandas as pd\n",
    "import numpy as np\n",
    "from sklearn.preprocessing import OrdinalEncoder,OneHotEncoder"
   ]
  },
  {
   "cell_type": "code",
   "execution_count": 51,
   "id": "14a66b0e-d4c1-4529-ac1e-3e9b0e46eb9e",
   "metadata": {},
   "outputs": [
    {
     "data": {
      "text/html": [
       "<div>\n",
       "<style scoped>\n",
       "    .dataframe tbody tr th:only-of-type {\n",
       "        vertical-align: middle;\n",
       "    }\n",
       "\n",
       "    .dataframe tbody tr th {\n",
       "        vertical-align: top;\n",
       "    }\n",
       "\n",
       "    .dataframe thead th {\n",
       "        text-align: right;\n",
       "    }\n",
       "</style>\n",
       "<table border=\"1\" class=\"dataframe\">\n",
       "  <thead>\n",
       "    <tr style=\"text-align: right;\">\n",
       "      <th></th>\n",
       "      <th>Nominal</th>\n",
       "      <th>Ordinal</th>\n",
       "    </tr>\n",
       "  </thead>\n",
       "  <tbody>\n",
       "    <tr>\n",
       "      <th>0</th>\n",
       "      <td>red</td>\n",
       "      <td>low</td>\n",
       "    </tr>\n",
       "    <tr>\n",
       "      <th>1</th>\n",
       "      <td>blue</td>\n",
       "      <td>medium</td>\n",
       "    </tr>\n",
       "    <tr>\n",
       "      <th>2</th>\n",
       "      <td>black</td>\n",
       "      <td>veryhigh</td>\n",
       "    </tr>\n",
       "    <tr>\n",
       "      <th>3</th>\n",
       "      <td>red</td>\n",
       "      <td>high</td>\n",
       "    </tr>\n",
       "    <tr>\n",
       "      <th>4</th>\n",
       "      <td>green</td>\n",
       "      <td>low</td>\n",
       "    </tr>\n",
       "  </tbody>\n",
       "</table>\n",
       "</div>"
      ],
      "text/plain": [
       "  Nominal   Ordinal\n",
       "0     red       low\n",
       "1    blue    medium\n",
       "2   black  veryhigh\n",
       "3     red      high\n",
       "4   green       low"
      ]
     },
     "execution_count": 51,
     "metadata": {},
     "output_type": "execute_result"
    }
   ],
   "source": [
    "df = pd.DataFrame({'Nominal':['red','blue','black','red','green'],'Ordinal':['low','medium','veryhigh','high','low']})\n",
    "df"
   ]
  },
  {
   "cell_type": "markdown",
   "id": "0fa3777f-d73f-42cd-9240-5b72145b7525",
   "metadata": {},
   "source": [
    "there are two general way to do it. first one is to assign each categorical variable into desire number and we can do it manually or use sklearn."
   ]
  },
  {
   "cell_type": "code",
   "execution_count": 52,
   "id": "b307fe68-a46e-439b-8d28-875864526129",
   "metadata": {},
   "outputs": [
    {
     "data": {
      "text/html": [
       "<div>\n",
       "<style scoped>\n",
       "    .dataframe tbody tr th:only-of-type {\n",
       "        vertical-align: middle;\n",
       "    }\n",
       "\n",
       "    .dataframe tbody tr th {\n",
       "        vertical-align: top;\n",
       "    }\n",
       "\n",
       "    .dataframe thead th {\n",
       "        text-align: right;\n",
       "    }\n",
       "</style>\n",
       "<table border=\"1\" class=\"dataframe\">\n",
       "  <thead>\n",
       "    <tr style=\"text-align: right;\">\n",
       "      <th></th>\n",
       "      <th>Nominal</th>\n",
       "      <th>Ordinal</th>\n",
       "    </tr>\n",
       "  </thead>\n",
       "  <tbody>\n",
       "    <tr>\n",
       "      <th>0</th>\n",
       "      <td>1</td>\n",
       "      <td>1</td>\n",
       "    </tr>\n",
       "    <tr>\n",
       "      <th>1</th>\n",
       "      <td>2</td>\n",
       "      <td>2</td>\n",
       "    </tr>\n",
       "    <tr>\n",
       "      <th>2</th>\n",
       "      <td>3</td>\n",
       "      <td>4</td>\n",
       "    </tr>\n",
       "    <tr>\n",
       "      <th>3</th>\n",
       "      <td>1</td>\n",
       "      <td>3</td>\n",
       "    </tr>\n",
       "    <tr>\n",
       "      <th>4</th>\n",
       "      <td>4</td>\n",
       "      <td>1</td>\n",
       "    </tr>\n",
       "  </tbody>\n",
       "</table>\n",
       "</div>"
      ],
      "text/plain": [
       "   Nominal  Ordinal\n",
       "0        1        1\n",
       "1        2        2\n",
       "2        3        4\n",
       "3        1        3\n",
       "4        4        1"
      ]
     },
     "execution_count": 52,
     "metadata": {},
     "output_type": "execute_result"
    }
   ],
   "source": [
    "# manually\n",
    "nominalmap = {'red':1,'blue':2,'black':3,'green':4}\n",
    "ordinalmap = {'low':1,'medium':2,'high':3,'veryhigh':4}\n",
    "df['Nominal'] = df['Nominal'].map(nominalmap)\n",
    "df['Ordinal'] = df['Ordinal'].map(ordinalmap)\n",
    "df"
   ]
  },
  {
   "cell_type": "code",
   "execution_count": 53,
   "id": "1d6aa013-f8d6-4d66-93aa-610e066386fc",
   "metadata": {},
   "outputs": [
    {
     "data": {
      "text/html": [
       "<div>\n",
       "<style scoped>\n",
       "    .dataframe tbody tr th:only-of-type {\n",
       "        vertical-align: middle;\n",
       "    }\n",
       "\n",
       "    .dataframe tbody tr th {\n",
       "        vertical-align: top;\n",
       "    }\n",
       "\n",
       "    .dataframe thead th {\n",
       "        text-align: right;\n",
       "    }\n",
       "</style>\n",
       "<table border=\"1\" class=\"dataframe\">\n",
       "  <thead>\n",
       "    <tr style=\"text-align: right;\">\n",
       "      <th></th>\n",
       "      <th>Nominal</th>\n",
       "      <th>Ordinal</th>\n",
       "    </tr>\n",
       "  </thead>\n",
       "  <tbody>\n",
       "    <tr>\n",
       "      <th>0</th>\n",
       "      <td>3.0</td>\n",
       "      <td>1.0</td>\n",
       "    </tr>\n",
       "    <tr>\n",
       "      <th>1</th>\n",
       "      <td>1.0</td>\n",
       "      <td>2.0</td>\n",
       "    </tr>\n",
       "    <tr>\n",
       "      <th>2</th>\n",
       "      <td>0.0</td>\n",
       "      <td>3.0</td>\n",
       "    </tr>\n",
       "    <tr>\n",
       "      <th>3</th>\n",
       "      <td>3.0</td>\n",
       "      <td>0.0</td>\n",
       "    </tr>\n",
       "    <tr>\n",
       "      <th>4</th>\n",
       "      <td>2.0</td>\n",
       "      <td>1.0</td>\n",
       "    </tr>\n",
       "  </tbody>\n",
       "</table>\n",
       "</div>"
      ],
      "text/plain": [
       "   Nominal  Ordinal\n",
       "0      3.0      1.0\n",
       "1      1.0      2.0\n",
       "2      0.0      3.0\n",
       "3      3.0      0.0\n",
       "4      2.0      1.0"
      ]
     },
     "execution_count": 53,
     "metadata": {},
     "output_type": "execute_result"
    }
   ],
   "source": [
    "# using sklearn OrdinalEncoder()\n",
    "df = pd.DataFrame({'Nominal':['red','blue','black','red','green'],'Ordinal':['low','medium','veryhigh','high','low']})\n",
    "encoder = OrdinalEncoder()\n",
    "nominal = np.array(df['Nominal']).reshape(5,1)\n",
    "ordinal = np.array(df['Ordinal']).reshape(5,1)\n",
    "df['Nominal'] = encoder.fit_transform(nominal)\n",
    "df['Ordinal'] = encoder.fit_transform(ordinal)\n",
    "\n",
    "df"
   ]
  },
  {
   "cell_type": "code",
   "execution_count": 54,
   "id": "03c524f6-eca2-4c89-b13b-d0f490a4a3ee",
   "metadata": {},
   "outputs": [
    {
     "data": {
      "text/plain": [
       "array([[3., 1.],\n",
       "       [1., 2.],\n",
       "       [0., 3.],\n",
       "       [3., 0.],\n",
       "       [2., 1.]])"
      ]
     },
     "execution_count": 54,
     "metadata": {},
     "output_type": "execute_result"
    }
   ],
   "source": [
    "df = pd.DataFrame({'Nominal':['red','blue','black','red','green'],'Ordinal':['low','medium','veryhigh','high','low']})\n",
    "encoder = OrdinalEncoder()\n",
    "df = encoder.fit_transform(df)\n",
    "df"
   ]
  },
  {
   "cell_type": "markdown",
   "id": "4b7f8c36-3a4a-455e-91d7-9493d463f55a",
   "metadata": {},
   "source": [
    "**NOTES :**<br>\n",
    "    1. As you can see we treat our nominal and ordinal columns sameway. the problem is the algorithm may biased by higher value so for nominal category it is not a proper choice.<br>\n",
    "    2. the `OrdinalEncoder()` will treat categories alphabetically means it assign numbers to categories by alphabetic order.<br>\n",
    "    3. As i showed you in last cell, we can give all of our data set to our encoder, but if we want to use it that way and not in pipeline it is better to do it one by one. more about pipeline later.<br>\n",
    "    \n",
    "lets see the second method that is better to use for nominal and even for ordinal data and also we will use it in other applications in machine learning. which is one-hot encoding.<br>\n",
    "in **one-hot encoding** we convert each category variable into vector and if our sample has that category it will assign by 1 and if not will assign by 0. lets see have we can implement it."
   ]
  },
  {
   "cell_type": "code",
   "execution_count": 55,
   "id": "a82b4c37-a5d1-4116-8009-68e77de72dbb",
   "metadata": {},
   "outputs": [
    {
     "data": {
      "text/html": [
       "<div>\n",
       "<style scoped>\n",
       "    .dataframe tbody tr th:only-of-type {\n",
       "        vertical-align: middle;\n",
       "    }\n",
       "\n",
       "    .dataframe tbody tr th {\n",
       "        vertical-align: top;\n",
       "    }\n",
       "\n",
       "    .dataframe thead th {\n",
       "        text-align: right;\n",
       "    }\n",
       "</style>\n",
       "<table border=\"1\" class=\"dataframe\">\n",
       "  <thead>\n",
       "    <tr style=\"text-align: right;\">\n",
       "      <th></th>\n",
       "      <th>Nominal_black</th>\n",
       "      <th>Nominal_blue</th>\n",
       "      <th>Nominal_green</th>\n",
       "      <th>Nominal_red</th>\n",
       "      <th>Ordinal_high</th>\n",
       "      <th>Ordinal_low</th>\n",
       "      <th>Ordinal_medium</th>\n",
       "      <th>Ordinal_veryhigh</th>\n",
       "    </tr>\n",
       "  </thead>\n",
       "  <tbody>\n",
       "    <tr>\n",
       "      <th>0</th>\n",
       "      <td>0</td>\n",
       "      <td>0</td>\n",
       "      <td>0</td>\n",
       "      <td>1</td>\n",
       "      <td>0</td>\n",
       "      <td>1</td>\n",
       "      <td>0</td>\n",
       "      <td>0</td>\n",
       "    </tr>\n",
       "    <tr>\n",
       "      <th>1</th>\n",
       "      <td>0</td>\n",
       "      <td>1</td>\n",
       "      <td>0</td>\n",
       "      <td>0</td>\n",
       "      <td>0</td>\n",
       "      <td>0</td>\n",
       "      <td>1</td>\n",
       "      <td>0</td>\n",
       "    </tr>\n",
       "    <tr>\n",
       "      <th>2</th>\n",
       "      <td>1</td>\n",
       "      <td>0</td>\n",
       "      <td>0</td>\n",
       "      <td>0</td>\n",
       "      <td>0</td>\n",
       "      <td>0</td>\n",
       "      <td>0</td>\n",
       "      <td>1</td>\n",
       "    </tr>\n",
       "    <tr>\n",
       "      <th>3</th>\n",
       "      <td>0</td>\n",
       "      <td>0</td>\n",
       "      <td>0</td>\n",
       "      <td>1</td>\n",
       "      <td>1</td>\n",
       "      <td>0</td>\n",
       "      <td>0</td>\n",
       "      <td>0</td>\n",
       "    </tr>\n",
       "    <tr>\n",
       "      <th>4</th>\n",
       "      <td>0</td>\n",
       "      <td>0</td>\n",
       "      <td>1</td>\n",
       "      <td>0</td>\n",
       "      <td>0</td>\n",
       "      <td>1</td>\n",
       "      <td>0</td>\n",
       "      <td>0</td>\n",
       "    </tr>\n",
       "  </tbody>\n",
       "</table>\n",
       "</div>"
      ],
      "text/plain": [
       "   Nominal_black  Nominal_blue  Nominal_green  Nominal_red  Ordinal_high  \\\n",
       "0              0             0              0            1             0   \n",
       "1              0             1              0            0             0   \n",
       "2              1             0              0            0             0   \n",
       "3              0             0              0            1             1   \n",
       "4              0             0              1            0             0   \n",
       "\n",
       "   Ordinal_low  Ordinal_medium  Ordinal_veryhigh  \n",
       "0            1               0                 0  \n",
       "1            0               1                 0  \n",
       "2            0               0                 1  \n",
       "3            0               0                 0  \n",
       "4            1               0                 0  "
      ]
     },
     "execution_count": 55,
     "metadata": {},
     "output_type": "execute_result"
    }
   ],
   "source": [
    "# using pandas\n",
    "df = pd.DataFrame({'Nominal':['red','blue','black','red','green'],'Ordinal':['low','medium','veryhigh','high','low']})\n",
    "df = pd.get_dummies(df)\n",
    "df"
   ]
  },
  {
   "cell_type": "code",
   "execution_count": 56,
   "id": "733e9c33-6f93-4d4b-9a6e-28bc69a1a865",
   "metadata": {},
   "outputs": [
    {
     "data": {
      "text/plain": [
       "array([[0., 0., 0., 1., 0., 1., 0., 0.],\n",
       "       [0., 1., 0., 0., 0., 0., 1., 0.],\n",
       "       [1., 0., 0., 0., 0., 0., 0., 1.],\n",
       "       [0., 0., 0., 1., 1., 0., 0., 0.],\n",
       "       [0., 0., 1., 0., 0., 1., 0., 0.]])"
      ]
     },
     "execution_count": 56,
     "metadata": {},
     "output_type": "execute_result"
    }
   ],
   "source": [
    "# using sklearn.OneHotEncoder()\n",
    "df = pd.DataFrame({'Nominal':['red','blue','black','red','green'],'Ordinal':['low','medium','veryhigh','high','low']})\n",
    "encoder = OneHotEncoder(sparse=False)\n",
    "df = encoder.fit_transform(df)\n",
    "df"
   ]
  },
  {
   "cell_type": "markdown",
   "id": "f32c3e07-ea8e-4539-84b7-1eae542e45ef",
   "metadata": {},
   "source": [
    "so this how we can use one-hot encoding for converting categorical data. as i mentioned before it has some other applications. as you can see we change all the categories into another columns and this can create something called **co-linearity** because the last column = 1-sum of others. for that we can drop one of the created columns for each sets of categories and it doesn't matter which one we drop. both method have `drop and drop_first` parameter for that.<br>\n",
    "as you can see this method will increase sparsity in our feature matrix (means we have a lot of zero value in our data), for that we can use scipy sparse matrix instead of np.array (dense matrix) for memory purposes.<br>\n",
    "there are others method for changing categorical variables but these two are the most common ones."
   ]
  },
  {
   "cell_type": "markdown",
   "id": "c14f7a7f-6d1b-47a7-b70a-acf988d8c847",
   "metadata": {},
   "source": [
    "## Imbalanced Data"
   ]
  },
  {
   "cell_type": "markdown",
   "id": "07752994",
   "metadata": {},
   "source": [
    "most of the real world dataes are imbalanced, which means number of samples in each class aren't equal. so we have to learn some methods to deal with them. there are 3 main approaches to deal with data imbalancy:\n",
    "   1. Add samples (**Oversampling**)\n",
    "   2. remove samples (**Undersampling**)\n",
    "   3. change class weights<br>\n",
    "\n",
    "we can add samples by 2 approaches, we can dublicate our existing samples, or create synthetic samples. for dublicating we usually use random sampling which means randomly pick samples from existing samples that belongs to class that have lower sample size and add that sample to our dataset. we continue sampling and dublicating our samples until all classes have same number of samples.<br>\n",
    "for create synthetic samples we somehow need to find spaces in our data that we think belong to our class that have lower sample. there is a method calles Synthethic Minority Oversampling Technique (**SMOTE**) which uses random neighbors around our sample in our minority class and pick a point that connecting these two pointes.<br>\n",
    "for removing, again we can randomely pick samples from majority class and remove that sample until both clss have the same size. by undersampling we can make training much faster and store less data.<br>\n",
    "another way to deal with data imbalancy is to re-weight the samples of minority class. for example in logistic regression for calculating loss we count class with minority size, several times. another example is calculating criteria in tree base methods. it has same effect as oversampling (though not random), but not as expensive, and dataset will remain the same.<br>\n",
    "**Some Notes**:<br>\n",
    "   * in general handling imbalance data isn't that useful! but we can check them.\n",
    "   * if one class has very small sample size, we can treat our problem as **anomoly detection**.\n",
    "   * for implementing imbalance methods we are going to use `imblearn` package, so make sure you install it first.\n",
    "   * there are so many methods in `imblearn` library, if you are intrested, make sure to check them and read documentation.<br>\n",
    "\n",
    "now lets implement some of these methods."
   ]
  },
  {
   "cell_type": "markdown",
   "id": "b1e27c20",
   "metadata": {},
   "source": [
    "**Oversampling**"
   ]
  },
  {
   "cell_type": "code",
   "execution_count": 10,
   "id": "8be9b78a",
   "metadata": {},
   "outputs": [],
   "source": [
    "from sklearn.datasets import load_breast_cancer\n",
    "from imblearn.over_sampling import RandomOverSampler,SMOTE\n",
    "import numpy as np"
   ]
  },
  {
   "cell_type": "code",
   "execution_count": 11,
   "id": "df737ca8",
   "metadata": {},
   "outputs": [
    {
     "data": {
      "text/plain": [
       "array([212, 357], dtype=int64)"
      ]
     },
     "execution_count": 11,
     "metadata": {},
     "output_type": "execute_result"
    }
   ],
   "source": [
    "X,y = load_breast_cancer(return_X_y=True)\n",
    "np.bincount(y)"
   ]
  },
  {
   "cell_type": "code",
   "execution_count": 12,
   "id": "f25544bf",
   "metadata": {},
   "outputs": [
    {
     "data": {
      "text/plain": [
       "array([357, 357], dtype=int64)"
      ]
     },
     "execution_count": 12,
     "metadata": {},
     "output_type": "execute_result"
    }
   ],
   "source": [
    "ROS = RandomOverSampler(random_state=42) #Random oversampling\n",
    "X_ros, y_ros = ROS.fit_resample(X,y)\n",
    "np.bincount(y_ros)"
   ]
  },
  {
   "cell_type": "code",
   "execution_count": 13,
   "id": "abd92ab7",
   "metadata": {},
   "outputs": [
    {
     "data": {
      "text/plain": [
       "array([357, 357], dtype=int64)"
      ]
     },
     "execution_count": 13,
     "metadata": {},
     "output_type": "execute_result"
    }
   ],
   "source": [
    "smote = SMOTE(random_state=42,k_neighbors=5) #SMOTE Oversampling\n",
    "X_smote, y_smote = smote.fit_resample(X,y)\n",
    "np.bincount(y_smote)"
   ]
  },
  {
   "cell_type": "markdown",
   "id": "4cea9a82",
   "metadata": {},
   "source": [
    "**Undersampling**"
   ]
  },
  {
   "cell_type": "code",
   "execution_count": 14,
   "id": "97f85199",
   "metadata": {},
   "outputs": [],
   "source": [
    "from imblearn.under_sampling import RandomUnderSampler"
   ]
  },
  {
   "cell_type": "code",
   "execution_count": 16,
   "id": "ed77053d",
   "metadata": {},
   "outputs": [
    {
     "data": {
      "text/plain": [
       "array([212, 212], dtype=int64)"
      ]
     },
     "execution_count": 16,
     "metadata": {},
     "output_type": "execute_result"
    }
   ],
   "source": [
    "RUS = RandomUnderSampler(random_state=42) #Random under sampling\n",
    "X_rus, y_rus = RUS.fit_resample(X,y)\n",
    "np.bincount(y_rus)"
   ]
  },
  {
   "cell_type": "markdown",
   "id": "8fc56dad",
   "metadata": {},
   "source": [
    "**Class Weights**"
   ]
  },
  {
   "cell_type": "code",
   "execution_count": 20,
   "id": "04f8e980",
   "metadata": {},
   "outputs": [],
   "source": [
    "from sklearn.linear_model import LogisticRegression\n",
    "from sklearn.tree import DecisionTreeClassifier\n",
    "lr = LogisticRegression(class_weight='balanced')\n",
    "tree = DecisionTreeClassifier(class_weight='balanced')"
   ]
  },
  {
   "cell_type": "markdown",
   "id": "03d442e7-66a3-4a36-97ea-5d0a881a75e3",
   "metadata": {},
   "source": [
    "## Detecting and Handling Outliers"
   ]
  },
  {
   "cell_type": "markdown",
   "id": "86fc0b92",
   "metadata": {},
   "source": [
    "in datasets, an outlier is observations that lie far from the rest of the observation, which means they are very larger or smaller than the rest of the data samples. the outlier may occur due to variability in the data or due to experimental error/human error. because in ML we are using statistical measurements (mean, max, ...) having outliers can affect the result of these measurements, so we have to first find and then handle them.<br>\n",
    "there are several methods to detect outliers but I think the practical one is using **Box/Whisker Plot**. in this plot we have a box that is made by using the first quantile (Q1), median, and 3rd quantile(Q3); and two whiskers that represent min and max value of our dataset after excluding outliers. this method considers all the values that are not in the range of Q1-1.5*IQR, Q3+1.5*IQR as an outlier. IQR is interquantile range and it is equal to Q3-Q1.<br>\n",
    "let's see how can we use this method."
   ]
  },
  {
   "cell_type": "code",
   "execution_count": 24,
   "id": "be4fba4c-b57d-4ddd-ad17-c6e4e2d4f335",
   "metadata": {},
   "outputs": [],
   "source": [
    "import numpy as np\n",
    "import matplotlib.pyplot as plt\n",
    "%matplotlib inline"
   ]
  },
  {
   "cell_type": "code",
   "execution_count": 64,
   "id": "f6b8981a",
   "metadata": {},
   "outputs": [],
   "source": [
    "data = np.array([0,3,20,21,27,30,21,22,24,26,28,40,40,30,80,100])"
   ]
  },
  {
   "cell_type": "code",
   "execution_count": 69,
   "id": "1ec481af",
   "metadata": {},
   "outputs": [
    {
     "data": {
      "image/png": "[encoded data removed]",
      "text/plain": [
       "<Figure size 432x288 with 1 Axes>"
      ]
     },
     "metadata": {
      "needs_background": "light"
     },
     "output_type": "display_data"
    }
   ],
   "source": [
    "A = plt.boxplot(data)"
   ]
  },
  {
   "cell_type": "markdown",
   "id": "c8624cd9",
   "metadata": {},
   "source": [
    "now that we find our outliers we need to handle them. we can delete outlier or replace them with proper numbers for example mean or median. now lets trim our data."
   ]
  },
  {
   "cell_type": "code",
   "execution_count": 72,
   "id": "f72ed49a",
   "metadata": {},
   "outputs": [],
   "source": [
    "data_trimmed = data[(data>=5)&(data<=40)]"
   ]
  },
  {
   "cell_type": "code",
   "execution_count": 73,
   "id": "5d0625fd",
   "metadata": {},
   "outputs": [
    {
     "data": {
      "text/plain": [
       "array([20, 21, 27, 30, 21, 22, 24, 26, 28, 40, 40, 30])"
      ]
     },
     "execution_count": 73,
     "metadata": {},
     "output_type": "execute_result"
    }
   ],
   "source": [
    "data_trimmed"
   ]
  },
  {
   "cell_type": "code",
   "execution_count": 74,
   "id": "27502d0d",
   "metadata": {},
   "outputs": [
    {
     "data": {
      "image/png": "[encoded data removed]",
      "text/plain": [
       "<Figure size 432x288 with 1 Axes>"
      ]
     },
     "metadata": {
      "needs_background": "light"
     },
     "output_type": "display_data"
    }
   ],
   "source": [
    "B = plt.boxplot(data_trimmed)"
   ]
  },
  {
   "cell_type": "markdown",
   "id": "f2544353",
   "metadata": {},
   "source": [
    "**NOTES**:<br>\n",
    "   * if data is skewed is better to damped our skewness for example by using log function, because boxplot won't give us proper answer.\n",
    "   * in boxplot we can change our range by changing our constant value 1.5.\n",
    "   * there are more methods for detecting outliers and maybe In other chapters I talk about some of them when we learn more about ML algorithms.\n",
    "   * in my opinion don't mind the outliers, train your model with them, it is good to have some noise in data."
   ]
  },
  {
   "cell_type": "markdown",
   "id": "6ad7d144-7897-4116-ac7f-f651185404e2",
   "metadata": {},
   "source": [
    "## Feature Engineering"
   ]
  },
  {
   "cell_type": "markdown",
   "id": "6725d33b-47ae-4835-ac56-a64091346543",
   "metadata": {},
   "source": [
    "Feature Engineering is the process of using **domain knowledge** to extract new variables from raw data. it can produce new features for both supervised and unsupervised learning, to simplify and speed up data transformations while also enhancing model accuracy. some feature engineering methods are:<br>\n",
    "   * Creating new features\n",
    "   * Transforming features (non-linear transformation like using log function to make our data distribution more gaussian)\n",
    "   * Scaling\n",
    "   * Handling outliers\n",
    "   * Data imputation\n",
    "   * Binning and Discretization of continuous features (what we did in stratifying for regression)\n",
    "   * Handling categorical data\n",
    "   * Polynomials and interaction of features for linear models (check next section)<br>\n",
    "\n",
    "**NOTE**: as you can see we talk about most of these methods in preprocessing section, actually I can't find a proper way to separate these two concepts, maybe there is no difference but I think it is, so I decide to represent it, this way."
   ]
  },
  {
   "cell_type": "markdown",
   "id": "56afb3da-f3f7-47a3-9268-6981a561a8bc",
   "metadata": {},
   "source": [
    "## Pipeline"
   ]
  },
  {
   "cell_type": "markdown",
   "id": "00ae5a08-bb8f-4605-9562-768c7a34f04e",
   "metadata": {},
   "source": [
    "First of all, what is pipeline? pipeline is sequence of steps that take us from raw input into desire output. these steps consist of getting data, data wrangling, preprocessing, modeling and deployments. here we gonna use scikit learn pipeline for **automate** our preprocessing and modeling steps. before we talk about pipeline lets take a look at scikit learn API and its design.<br>\n",
    "in scikit learn, in general, we have two kind of estimators:<br>\n",
    "   * Transformers<br>\n",
    "       * Preprocessing\n",
    "       * Dimensionality Reduction\n",
    "       * Feature Extraction\n",
    "       * Feature Selection\n",
    "   * Predictors<br>\n",
    "       * Classification\n",
    "       * Regression\n",
    "       * Clustering\n",
    "\n",
    "the job of transformers are to change our input raw data into desire output data and the predictor uses these data for prediction. both of these estimators have `.fit` method that get data as input and extract desirable parameters for further calculation. for example if we are using `StandardScaler` as a transformer in fit phase it calculate mean and std of data for scaling process. after fitting we can use `.transform` for transformers and `.predict` for our predictors to get our desire output. back to our example, if we use `.transform` for `StandardScaler` it will use mean and std of fit phase and change (scale) our input data. for making pipeline we have to import `sklearn.pipeline.make_pipeline`. there are some other pipeline methods in scikit learn pipeline library but i think this method is much simpler and more straight forward.<br>\n",
    "in this method we have several transformer step that end up to one predictor step. so what we will do is, instantiate our `.make_pipeline` with parameters that are our transformers and our predictor. then we call `.fit` method on the instantiation that we created and get our desired output.<br>\n",
    "before we go and see how we can use pipeline lets learn something else and complete our automating process. as you saw before some of these preprocessing steps only implement on specific type of data for example we can use `StandarScaler` only on numerical data and in fact if we have data that contain numerical and categorical data, if we use scaler, we will get error. so the solution is that, we specify which column need scaling and which column need encoding. for that we will use `sklearn.compose.make_column_transformer`, how? so easy, this class will get tuple of transformer and columns as input so it will perform specific transformer on specific columns. lets see how we can use these libraries and automate our process."
   ]
  },
  {
   "cell_type": "code",
   "execution_count": 57,
   "id": "d34d69a7-a4ba-473f-b8be-b2f15acafe04",
   "metadata": {},
   "outputs": [],
   "source": [
    "import pandas as pd\n",
    "import numpy as np\n",
    "from sklearn.preprocessing import OneHotEncoder, StandardScaler,PolynomialFeatures\n",
    "from sklearn.compose import make_column_transformer\n",
    "from sklearn.pipeline import make_pipeline\n",
    "from sklearn.linear_model import Ridge"
   ]
  },
  {
   "cell_type": "code",
   "execution_count": 58,
   "id": "82d7335e-2807-4bc8-9b88-c25751640abb",
   "metadata": {},
   "outputs": [],
   "source": [
    "# creating our custom dataset\n",
    "X_train = pd.DataFrame({'gender':['M','F','M','M','M','F','F','M','F','F'],\n",
    "                        'age':[20,30,27,25,23,29,40,34,26,33]})\n",
    "y_train = pd.DataFrame({'salary':[300,600,500,400,600,400,1000,800,400,700]})"
   ]
  },
  {
   "cell_type": "code",
   "execution_count": 59,
   "id": "31e0ce56-1bd1-4e0d-af1e-6f55cb5c5a2c",
   "metadata": {},
   "outputs": [
    {
     "data": {
      "text/html": [
       "<div>\n",
       "<style scoped>\n",
       "    .dataframe tbody tr th:only-of-type {\n",
       "        vertical-align: middle;\n",
       "    }\n",
       "\n",
       "    .dataframe tbody tr th {\n",
       "        vertical-align: top;\n",
       "    }\n",
       "\n",
       "    .dataframe thead th {\n",
       "        text-align: right;\n",
       "    }\n",
       "</style>\n",
       "<table border=\"1\" class=\"dataframe\">\n",
       "  <thead>\n",
       "    <tr style=\"text-align: right;\">\n",
       "      <th></th>\n",
       "      <th>age</th>\n",
       "      <th>gender</th>\n",
       "    </tr>\n",
       "  </thead>\n",
       "  <tbody>\n",
       "    <tr>\n",
       "      <th>0</th>\n",
       "      <td>-1.567377</td>\n",
       "      <td>1.0</td>\n",
       "    </tr>\n",
       "    <tr>\n",
       "      <th>1</th>\n",
       "      <td>0.234206</td>\n",
       "      <td>0.0</td>\n",
       "    </tr>\n",
       "    <tr>\n",
       "      <th>2</th>\n",
       "      <td>-0.306269</td>\n",
       "      <td>1.0</td>\n",
       "    </tr>\n",
       "    <tr>\n",
       "      <th>3</th>\n",
       "      <td>-0.666586</td>\n",
       "      <td>1.0</td>\n",
       "    </tr>\n",
       "    <tr>\n",
       "      <th>4</th>\n",
       "      <td>-1.026902</td>\n",
       "      <td>1.0</td>\n",
       "    </tr>\n",
       "    <tr>\n",
       "      <th>5</th>\n",
       "      <td>0.054047</td>\n",
       "      <td>0.0</td>\n",
       "    </tr>\n",
       "    <tr>\n",
       "      <th>6</th>\n",
       "      <td>2.035788</td>\n",
       "      <td>0.0</td>\n",
       "    </tr>\n",
       "    <tr>\n",
       "      <th>7</th>\n",
       "      <td>0.954839</td>\n",
       "      <td>1.0</td>\n",
       "    </tr>\n",
       "    <tr>\n",
       "      <th>8</th>\n",
       "      <td>-0.486427</td>\n",
       "      <td>0.0</td>\n",
       "    </tr>\n",
       "    <tr>\n",
       "      <th>9</th>\n",
       "      <td>0.774680</td>\n",
       "      <td>0.0</td>\n",
       "    </tr>\n",
       "  </tbody>\n",
       "</table>\n",
       "</div>"
      ],
      "text/plain": [
       "        age  gender\n",
       "0 -1.567377     1.0\n",
       "1  0.234206     0.0\n",
       "2 -0.306269     1.0\n",
       "3 -0.666586     1.0\n",
       "4 -1.026902     1.0\n",
       "5  0.054047     0.0\n",
       "6  2.035788     0.0\n",
       "7  0.954839     1.0\n",
       "8 -0.486427     0.0\n",
       "9  0.774680     0.0"
      ]
     },
     "execution_count": 59,
     "metadata": {},
     "output_type": "execute_result"
    }
   ],
   "source": [
    "# instantiating our column transformer\n",
    "ColumnTransformers = make_column_transformer(\n",
    "                (StandardScaler(),['age']),\n",
    "                (OneHotEncoder(drop='first'),['gender'])\n",
    ")\n",
    "# visualizing the output\n",
    "CT_output =pd.DataFrame(ColumnTransformers.fit_transform(X_train),columns=['age','gender'])\n",
    "CT_output"
   ]
  },
  {
   "cell_type": "code",
   "execution_count": 60,
   "id": "2f16984b-12f8-4266-a072-2077d373ef26",
   "metadata": {},
   "outputs": [
    {
     "data": {
      "text/html": [
       "<style>#sk-container-id-1 {color: black;background-color: white;}#sk-container-id-1 pre{padding: 0;}#sk-container-id-1 div.sk-toggleable {background-color: white;}#sk-container-id-1 label.sk-toggleable__label {cursor: pointer;display: block;width: 100%;margin-bottom: 0;padding: 0.3em;box-sizing: border-box;text-align: center;}#sk-container-id-1 label.sk-toggleable__label-arrow:before {content: \"▸\";float: left;margin-right: 0.25em;color: #696969;}#sk-container-id-1 label.sk-toggleable__label-arrow:hover:before {color: black;}#sk-container-id-1 div.sk-estimator:hover label.sk-toggleable__label-arrow:before {color: black;}#sk-container-id-1 div.sk-toggleable__content {max-height: 0;max-width: 0;overflow: hidden;text-align: left;background-color: #f0f8ff;}#sk-container-id-1 div.sk-toggleable__content pre {margin: 0.2em;color: black;border-radius: 0.25em;background-color: #f0f8ff;}#sk-container-id-1 input.sk-toggleable__control:checked~div.sk-toggleable__content {max-height: 200px;max-width: 100%;overflow: auto;}#sk-container-id-1 input.sk-toggleable__control:checked~label.sk-toggleable__label-arrow:before {content: \"▾\";}#sk-container-id-1 div.sk-estimator input.sk-toggleable__control:checked~label.sk-toggleable__label {background-color: #d4ebff;}#sk-container-id-1 div.sk-label input.sk-toggleable__control:checked~label.sk-toggleable__label {background-color: #d4ebff;}#sk-container-id-1 input.sk-hidden--visually {border: 0;clip: rect(1px 1px 1px 1px);clip: rect(1px, 1px, 1px, 1px);height: 1px;margin: -1px;overflow: hidden;padding: 0;position: absolute;width: 1px;}#sk-container-id-1 div.sk-estimator {font-family: monospace;background-color: #f0f8ff;border: 1px dotted black;border-radius: 0.25em;box-sizing: border-box;margin-bottom: 0.5em;}#sk-container-id-1 div.sk-estimator:hover {background-color: #d4ebff;}#sk-container-id-1 div.sk-parallel-item::after {content: \"\";width: 100%;border-bottom: 1px solid gray;flex-grow: 1;}#sk-container-id-1 div.sk-label:hover label.sk-toggleable__label {background-color: #d4ebff;}#sk-container-id-1 div.sk-serial::before {content: \"\";position: absolute;border-left: 1px solid gray;box-sizing: border-box;top: 0;bottom: 0;left: 50%;z-index: 0;}#sk-container-id-1 div.sk-serial {display: flex;flex-direction: column;align-items: center;background-color: white;padding-right: 0.2em;padding-left: 0.2em;position: relative;}#sk-container-id-1 div.sk-item {position: relative;z-index: 1;}#sk-container-id-1 div.sk-parallel {display: flex;align-items: stretch;justify-content: center;background-color: white;position: relative;}#sk-container-id-1 div.sk-item::before, #sk-container-id-1 div.sk-parallel-item::before {content: \"\";position: absolute;border-left: 1px solid gray;box-sizing: border-box;top: 0;bottom: 0;left: 50%;z-index: -1;}#sk-container-id-1 div.sk-parallel-item {display: flex;flex-direction: column;z-index: 1;position: relative;background-color: white;}#sk-container-id-1 div.sk-parallel-item:first-child::after {align-self: flex-end;width: 50%;}#sk-container-id-1 div.sk-parallel-item:last-child::after {align-self: flex-start;width: 50%;}#sk-container-id-1 div.sk-parallel-item:only-child::after {width: 0;}#sk-container-id-1 div.sk-dashed-wrapped {border: 1px dashed gray;margin: 0 0.4em 0.5em 0.4em;box-sizing: border-box;padding-bottom: 0.4em;background-color: white;}#sk-container-id-1 div.sk-label label {font-family: monospace;font-weight: bold;display: inline-block;line-height: 1.2em;}#sk-container-id-1 div.sk-label-container {text-align: center;}#sk-container-id-1 div.sk-container {/* jupyter's `normalize.less` sets `[hidden] { display: none; }` but bootstrap.min.css set `[hidden] { display: none !important; }` so we also need the `!important` here to be able to override the default hidden behavior on the sphinx rendered scikit-learn.org. See: https://github.com/scikit-learn/scikit-learn/issues/21755 */display: inline-block !important;position: relative;}#sk-container-id-1 div.sk-text-repr-fallback {display: none;}</style><div id=\"sk-container-id-1\" class=\"sk-top-container\"><div class=\"sk-text-repr-fallback\"><pre>Pipeline(steps=[(&#x27;columntransformer&#x27;,\n",
       "                 ColumnTransformer(transformers=[(&#x27;standardscaler&#x27;,\n",
       "                                                  StandardScaler(), [&#x27;age&#x27;]),\n",
       "                                                 (&#x27;onehotencoder&#x27;,\n",
       "                                                  OneHotEncoder(drop=&#x27;first&#x27;),\n",
       "                                                  [&#x27;gender&#x27;])])),\n",
       "                (&#x27;polynomialfeatures&#x27;, PolynomialFeatures()),\n",
       "                (&#x27;ridge&#x27;, Ridge())])</pre><b>In a Jupyter environment, please rerun this cell to show the HTML representation or trust the notebook. <br />On GitHub, the HTML representation is unable to render, please try loading this page with nbviewer.org.</b></div><div class=\"sk-container\" hidden><div class=\"sk-item sk-dashed-wrapped\"><div class=\"sk-label-container\"><div class=\"sk-label sk-toggleable\"><input class=\"sk-toggleable__control sk-hidden--visually\" id=\"sk-estimator-id-1\" type=\"checkbox\" ><label for=\"sk-estimator-id-1\" class=\"sk-toggleable__label sk-toggleable__label-arrow\">Pipeline</label><div class=\"sk-toggleable__content\"><pre>Pipeline(steps=[(&#x27;columntransformer&#x27;,\n",
       "                 ColumnTransformer(transformers=[(&#x27;standardscaler&#x27;,\n",
       "                                                  StandardScaler(), [&#x27;age&#x27;]),\n",
       "                                                 (&#x27;onehotencoder&#x27;,\n",
       "                                                  OneHotEncoder(drop=&#x27;first&#x27;),\n",
       "                                                  [&#x27;gender&#x27;])])),\n",
       "                (&#x27;polynomialfeatures&#x27;, PolynomialFeatures()),\n",
       "                (&#x27;ridge&#x27;, Ridge())])</pre></div></div></div><div class=\"sk-serial\"><div class=\"sk-item sk-dashed-wrapped\"><div class=\"sk-label-container\"><div class=\"sk-label sk-toggleable\"><input class=\"sk-toggleable__control sk-hidden--visually\" id=\"sk-estimator-id-2\" type=\"checkbox\" ><label for=\"sk-estimator-id-2\" class=\"sk-toggleable__label sk-toggleable__label-arrow\">columntransformer: ColumnTransformer</label><div class=\"sk-toggleable__content\"><pre>ColumnTransformer(transformers=[(&#x27;standardscaler&#x27;, StandardScaler(), [&#x27;age&#x27;]),\n",
       "                                (&#x27;onehotencoder&#x27;, OneHotEncoder(drop=&#x27;first&#x27;),\n",
       "                                 [&#x27;gender&#x27;])])</pre></div></div></div><div class=\"sk-parallel\"><div class=\"sk-parallel-item\"><div class=\"sk-item\"><div class=\"sk-label-container\"><div class=\"sk-label sk-toggleable\"><input class=\"sk-toggleable__control sk-hidden--visually\" id=\"sk-estimator-id-3\" type=\"checkbox\" ><label for=\"sk-estimator-id-3\" class=\"sk-toggleable__label sk-toggleable__label-arrow\">standardscaler</label><div class=\"sk-toggleable__content\"><pre>[&#x27;age&#x27;]</pre></div></div></div><div class=\"sk-serial\"><div class=\"sk-item\"><div class=\"sk-estimator sk-toggleable\"><input class=\"sk-toggleable__control sk-hidden--visually\" id=\"sk-estimator-id-4\" type=\"checkbox\" ><label for=\"sk-estimator-id-4\" class=\"sk-toggleable__label sk-toggleable__label-arrow\">StandardScaler</label><div class=\"sk-toggleable__content\"><pre>StandardScaler()</pre></div></div></div></div></div></div><div class=\"sk-parallel-item\"><div class=\"sk-item\"><div class=\"sk-label-container\"><div class=\"sk-label sk-toggleable\"><input class=\"sk-toggleable__control sk-hidden--visually\" id=\"sk-estimator-id-5\" type=\"checkbox\" ><label for=\"sk-estimator-id-5\" class=\"sk-toggleable__label sk-toggleable__label-arrow\">onehotencoder</label><div class=\"sk-toggleable__content\"><pre>[&#x27;gender&#x27;]</pre></div></div></div><div class=\"sk-serial\"><div class=\"sk-item\"><div class=\"sk-estimator sk-toggleable\"><input class=\"sk-toggleable__control sk-hidden--visually\" id=\"sk-estimator-id-6\" type=\"checkbox\" ><label for=\"sk-estimator-id-6\" class=\"sk-toggleable__label sk-toggleable__label-arrow\">OneHotEncoder</label><div class=\"sk-toggleable__content\"><pre>OneHotEncoder(drop=&#x27;first&#x27;)</pre></div></div></div></div></div></div></div></div><div class=\"sk-item\"><div class=\"sk-estimator sk-toggleable\"><input class=\"sk-toggleable__control sk-hidden--visually\" id=\"sk-estimator-id-7\" type=\"checkbox\" ><label for=\"sk-estimator-id-7\" class=\"sk-toggleable__label sk-toggleable__label-arrow\">PolynomialFeatures</label><div class=\"sk-toggleable__content\"><pre>PolynomialFeatures()</pre></div></div></div><div class=\"sk-item\"><div class=\"sk-estimator sk-toggleable\"><input class=\"sk-toggleable__control sk-hidden--visually\" id=\"sk-estimator-id-8\" type=\"checkbox\" ><label for=\"sk-estimator-id-8\" class=\"sk-toggleable__label sk-toggleable__label-arrow\">Ridge</label><div class=\"sk-toggleable__content\"><pre>Ridge()</pre></div></div></div></div></div></div></div>"
      ],
      "text/plain": [
       "Pipeline(steps=[('columntransformer',\n",
       "                 ColumnTransformer(transformers=[('standardscaler',\n",
       "                                                  StandardScaler(), ['age']),\n",
       "                                                 ('onehotencoder',\n",
       "                                                  OneHotEncoder(drop='first'),\n",
       "                                                  ['gender'])])),\n",
       "                ('polynomialfeatures', PolynomialFeatures()),\n",
       "                ('ridge', Ridge())])"
      ]
     },
     "execution_count": 60,
     "metadata": {},
     "output_type": "execute_result"
    }
   ],
   "source": [
    "#instantiate our pipeline\n",
    "pipe = make_pipeline(ColumnTransformers,PolynomialFeatures(),Ridge())\n",
    "pipe.fit(X_train,y_train)"
   ]
  },
  {
   "cell_type": "code",
   "execution_count": 61,
   "id": "ad9e5a51-2194-441f-8ba0-ae142ced8380",
   "metadata": {},
   "outputs": [
    {
     "data": {
      "text/plain": [
       "0.8448402227439138"
      ]
     },
     "execution_count": 61,
     "metadata": {},
     "output_type": "execute_result"
    }
   ],
   "source": [
    "##accuracy of Ridge() Regression on our transformed training data\n",
    "pipe.score(X_train,y_train)"
   ]
  },
  {
   "cell_type": "markdown",
   "id": "70203f17-af05-4926-842f-b61f05cc1fa4",
   "metadata": {},
   "source": [
    "**NOTES :**<br>\n",
    "1. with `PolynomialFeatures()`, we create interactions and polynomials features from our original feature, and somehow make our linear model, non-linear.\n",
    "2. The reason i choose `X_train` and `y_train` for naming my data is that, we never use `.fit` method on testing dataset because of **Data leakage** purposes.<br>\n",
    "3. For performing `.fit` and `.transform` at the sametime, we can use `.fit_transform`."
   ]
  },
  {
   "cell_type": "code",
   "execution_count": null,
   "id": "6b5bac26-ca86-4c6c-8748-5affa50a8980",
   "metadata": {},
   "outputs": [],
   "source": []
  }
 ],
 "metadata": {
  "kernelspec": {
   "display_name": "Python 3 (ipykernel)",
   "language": "python",
   "name": "python3"
  },
  "language_info": {
   "codemirror_mode": {
    "name": "ipython",
    "version": 3
   },
   "file_extension": ".py",
   "mimetype": "text/x-python",
   "name": "python",
   "nbconvert_exporter": "python",
   "pygments_lexer": "ipython3",
   "version": "3.10.8"
  },
  "toc-autonumbering": false,
  "toc-showmarkdowntxt": false,
  "toc-showtags": false
 },
 "nbformat": 4,
 "nbformat_minor": 5
}
