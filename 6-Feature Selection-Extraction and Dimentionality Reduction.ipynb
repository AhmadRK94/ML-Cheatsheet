{
 "cells": [
  {
   "cell_type": "markdown",
   "id": "a21d8225",
   "metadata": {},
   "source": [
    "# Dimensionality Reduction"
   ]
  },
  {
   "cell_type": "markdown",
   "id": "1a228d52-4d4c-4bba-af35-dffc65f969bc",
   "metadata": {},
   "source": [
    "real world datasets typically have high dimensions but their true dimensionality often much lower. but so what? what is the problem to have high dimensionality?<br>\n",
    "Machine learning methods are statistical by nature, in most methods we count observation in various regions of some spaces (use counts to construct the predictor), so as dimensionality grows, our density of observations vecome lower and lower (fewer observation per region) and we need high number of observation in statistics. also by having high dimensional dataset we will have complex and large dataset, so it will be good to have data with low dimension. there are several way to deal with high dimensionality:<br>\n",
    "   * Use domain knowledge: feature engineering\n",
    "   * Make assumption about dimensions: like independence, smoothnessm symmetry , etc.\n",
    "   * Reduce the dimensionality of the data: create a new dataset using our previous dataset, with lower dimension.<br>\n",
    "\n",
    "we talked about feature engineering in preprocessing section, which is using domain knowlegde to create smart features that represent our data very well. also various models have their assumption about data, so when we use them we have to be aware of them. what we going to do, is to talk about dimensionality reduction methods.<br>\n",
    "in **Dimensionality Reduction** technique, the goal is to preserve as much data as possible but in lower dimension and also in performance persespective we want to:<br>\n",
    "   * Reduce model complexity\n",
    "   * Less storage for model and dataset\n",
    "   * Enhance the computational efficiency (faster training)\n",
    "   * Reduce generalization error introduced due to noise by irrelevant features\n",
    "   * **Maybe** improve our model accuracy<br>\n",
    "\n",
    "in general we can divide dimensionality reduction technique in two main group:<br>\n",
    "   1. Feature Selection\n",
    "   2. Feature Extraction<br>\n",
    "\n",
    "let's talk about them."
   ]
  },
  {
   "cell_type": "markdown",
   "id": "beb7ac44",
   "metadata": {},
   "source": [
    "## Feature Selection"
   ]
  },
  {
   "cell_type": "markdown",
   "id": "35d75d35-d398-4b67-9186-bf9674362c0f",
   "metadata": {},
   "source": [
    "Simply speaking, **Feature Selection** is about selecting a subset of features out of the original features. so we just select some of our features, but which one? several methods can help us to choose between features, and also we can divide these methods into various forms, why divide them? well this way we can find the difference between methods more easily and also I like it this way :)).<br>\n",
    "so According to the dataset, feature selection can be divided into:\n",
    "   * Supervised\n",
    "       * using **univariate statistics**\n",
    "       * **model-based** feature selection\n",
    "   * Unsupervised\n",
    "       * **Variance-based**: remove features with zero or almost zero variance (if we scaling our data there is no such thing as small variance)\n",
    "       * **Covariance-based**: remove correlated features.\n",
    "   * Semi-suppervised<br>\n",
    "\n",
    "And according to their relationship with learning models can be classified into:\n",
    "   * **Filter Methods**: these methods are generally used as preprocessing steps. the selection of features is independent of any ML algorithms. instead, features are selected on basis of their scores in various statistical tests for their correlation. for example using **Pearson's Correlation**, **Analysis of Variance (ANOVA)**, **P-Value**, and **Chi-Square**.\n",
    "   * **Wrapper Methods**: in wrapper methods, we try to use a subset of features and train the model using them. then based on inferences that we draw from the previous model, we decide to add or remove features from our subsets. these methods are usually computationally expensive because they are searched over all possible subsets. some common examples of wrapper methods are **Forward Selection**, **Backward Elimination**, and **Recursive Feature Elimination**\n",
    "   * **Embedded Methods**: here somehow we combine the qualities of the filter and wrapper method. here our algorithm has a mechanism that somehow selects features in the learning process, like, **Lasso**, **Ridge**, and **Regularized Trees**.<br>\n",
    "\n",
    "**NOTE**: Some of the differences between the Filter and wrapper method:\n",
    "   * Filter methods measure the relevance of the features by their correlation with the dependent variable while wrapper methods measure the usefulness of a subset of features by actually training a model on it.\n",
    "   * Filter methods are much faster than wrapper methods as they don't involve training the models, and as we said before wrapper methods are computationally expensive.\n",
    "   * Filter methods use statistical methods for evaluation of a subset of features while wrapper methods use cross-validation and accuracy of our model.\n",
    "   * Filter methods might fail to find the best subset of features on many occasions, but wrapper methods can always provide the best subset of features.\n",
    "   * Using the subset of features from wrapper methods makes the model more prone to overfitting compared to using a subset of features from the filter methods."
   ]
  },
  {
   "cell_type": "markdown",
   "id": "7777807d-62fa-41b5-862e-f8cf4c8d2a9a",
   "metadata": {},
   "source": [
    "### Implementing some of feature selection methods"
   ]
  },
  {
   "cell_type": "markdown",
   "id": "dc1da5aa",
   "metadata": {},
   "source": [
    "**Filter Method**"
   ]
  },
  {
   "cell_type": "code",
   "execution_count": 1,
   "id": "6f1116f8",
   "metadata": {},
   "outputs": [],
   "source": [
    "import numpy as np\n",
    "from sklearn.datasets import load_breast_cancer\n",
    "from sklearn.preprocessing import StandardScaler\n",
    "from sklearn.feature_selection import f_classif, SelectKBest\n",
    "from sklearn.model_selection import train_test_split\n",
    "import matplotlib.pyplot as plt\n",
    "%matplotlib inline"
   ]
  },
  {
   "cell_type": "code",
   "execution_count": 2,
   "id": "b313ea07",
   "metadata": {},
   "outputs": [],
   "source": [
    "X,y = load_breast_cancer(return_X_y=True)"
   ]
  },
  {
   "cell_type": "code",
   "execution_count": 3,
   "id": "d4a68e09",
   "metadata": {},
   "outputs": [],
   "source": [
    "X_train, X_test, y_train, y_test = train_test_split(X, y, test_size=0.2, random_state=42,stratify=y)"
   ]
  },
  {
   "cell_type": "code",
   "execution_count": 4,
   "id": "5410045e",
   "metadata": {},
   "outputs": [],
   "source": [
    "scale = StandardScaler()\n",
    "X_train = scale.fit_transform(X_train) # Scaling our data\n",
    "X_test = scale.transform(X_test)"
   ]
  },
  {
   "cell_type": "code",
   "execution_count": 5,
   "id": "2222b894",
   "metadata": {},
   "outputs": [],
   "source": [
    "F, P = f_classif(X_train,y_train)"
   ]
  },
  {
   "cell_type": "code",
   "execution_count": null,
   "id": "ddb3d0ce",
   "metadata": {},
   "outputs": [],
   "source": []
  },
  {
   "cell_type": "markdown",
   "id": "9b9da78e",
   "metadata": {},
   "source": [
    "pick P values with smallest value or we can use `SelectKBest`"
   ]
  },
  {
   "cell_type": "code",
   "execution_count": 6,
   "id": "4b2d1747",
   "metadata": {},
   "outputs": [
    {
     "data": {
      "text/plain": [
       "((455, 30), (455, 10))"
      ]
     },
     "execution_count": 6,
     "metadata": {},
     "output_type": "execute_result"
    }
   ],
   "source": [
    "select = SelectKBest(score_func=f_classif,k=10) #pick 10 of the features with highest score\n",
    "select.fit(X_train,y_train)\n",
    "X_select = select.transform(X_train)\n",
    "X_train.shape, X_select.shape"
   ]
  },
  {
   "cell_type": "markdown",
   "id": "2d49463e",
   "metadata": {},
   "source": [
    "**Wrapper Method**<br>\n",
    "it is implemented in `mlxtend` library so first you have to install it."
   ]
  },
  {
   "cell_type": "code",
   "execution_count": 7,
   "id": "e6423cb6",
   "metadata": {},
   "outputs": [],
   "source": [
    "from mlxtend.feature_selection import SequentialFeatureSelector\n",
    "from sklearn.linear_model import LogisticRegression"
   ]
  },
  {
   "cell_type": "code",
   "execution_count": 8,
   "id": "a8bc5242",
   "metadata": {},
   "outputs": [],
   "source": [
    "lr = LogisticRegression()\n",
    "sfs = SequentialFeatureSelector(lr,k_features=10,forward=True)\n",
    "X_sfs = sfs.fit(X_train,y_train)"
   ]
  },
  {
   "cell_type": "code",
   "execution_count": 9,
   "id": "6e9ac930",
   "metadata": {},
   "outputs": [
    {
     "data": {
      "text/plain": [
       "{1: {'feature_idx': (22,),\n",
       "  'cv_scores': array([0.91208791, 0.93406593, 0.87912088, 0.93406593, 0.92307692]),\n",
       "  'avg_score': 0.9164835164835166,\n",
       "  'feature_names': ('22',)},\n",
       " 2: {'feature_idx': (22, 24),\n",
       "  'cv_scores': array([0.96703297, 0.98901099, 0.93406593, 0.94505495, 0.95604396]),\n",
       "  'avg_score': 0.9582417582417584,\n",
       "  'feature_names': ('22', '24')},\n",
       " 3: {'feature_idx': (1, 22, 24),\n",
       "  'cv_scores': array([0.98901099, 0.97802198, 0.95604396, 0.96703297, 0.98901099]),\n",
       "  'avg_score': 0.9758241758241759,\n",
       "  'feature_names': ('1', '22', '24')},\n",
       " 4: {'feature_idx': (1, 8, 22, 24),\n",
       "  'cv_scores': array([0.98901099, 1.        , 0.96703297, 0.96703297, 0.98901099]),\n",
       "  'avg_score': 0.9824175824175825,\n",
       "  'feature_names': ('1', '8', '22', '24')},\n",
       " 5: {'feature_idx': (1, 8, 20, 22, 24),\n",
       "  'cv_scores': array([0.98901099, 1.        , 0.96703297, 0.97802198, 0.98901099]),\n",
       "  'avg_score': 0.9846153846153847,\n",
       "  'feature_names': ('1', '8', '20', '22', '24')},\n",
       " 6: {'feature_idx': (1, 6, 8, 20, 22, 24),\n",
       "  'cv_scores': array([0.98901099, 1.        , 0.96703297, 0.97802198, 0.98901099]),\n",
       "  'avg_score': 0.9846153846153847,\n",
       "  'feature_names': ('1', '6', '8', '20', '22', '24')},\n",
       " 7: {'feature_idx': (1, 3, 6, 8, 20, 22, 24),\n",
       "  'cv_scores': array([0.98901099, 1.        , 0.96703297, 0.97802198, 0.98901099]),\n",
       "  'avg_score': 0.9846153846153847,\n",
       "  'feature_names': ('1', '3', '6', '8', '20', '22', '24')},\n",
       " 8: {'feature_idx': (1, 3, 4, 6, 8, 20, 22, 24),\n",
       "  'cv_scores': array([0.98901099, 1.        , 0.96703297, 0.97802198, 0.98901099]),\n",
       "  'avg_score': 0.9846153846153847,\n",
       "  'feature_names': ('1', '3', '4', '6', '8', '20', '22', '24')},\n",
       " 9: {'feature_idx': (1, 3, 4, 6, 8, 18, 20, 22, 24),\n",
       "  'cv_scores': array([0.98901099, 1.        , 0.96703297, 0.97802198, 0.98901099]),\n",
       "  'avg_score': 0.9846153846153847,\n",
       "  'feature_names': ('1', '3', '4', '6', '8', '18', '20', '22', '24')},\n",
       " 10: {'feature_idx': (1, 3, 4, 6, 8, 18, 20, 22, 23, 24),\n",
       "  'cv_scores': array([0.98901099, 1.        , 0.96703297, 0.98901099, 0.98901099]),\n",
       "  'avg_score': 0.9868131868131869,\n",
       "  'feature_names': ('1', '3', '4', '6', '8', '18', '20', '22', '23', '24')}}"
      ]
     },
     "execution_count": 9,
     "metadata": {},
     "output_type": "execute_result"
    }
   ],
   "source": [
    "X_sfs.subsets_"
   ]
  },
  {
   "cell_type": "markdown",
   "id": "68d9e449",
   "metadata": {},
   "source": [
    "**Embedded Method**"
   ]
  },
  {
   "cell_type": "code",
   "execution_count": 10,
   "id": "949f93f0",
   "metadata": {},
   "outputs": [],
   "source": [
    "from sklearn.feature_selection import SelectFromModel\n",
    "from sklearn.linear_model import LogisticRegression"
   ]
  },
  {
   "cell_type": "code",
   "execution_count": 11,
   "id": "2f47e4a2",
   "metadata": {},
   "outputs": [],
   "source": [
    "lr = LogisticRegression(penalty='l1',solver='liblinear') #l1 loss (lasso)"
   ]
  },
  {
   "cell_type": "code",
   "execution_count": 12,
   "id": "0a5071a5",
   "metadata": {},
   "outputs": [
    {
     "data": {
      "text/plain": [
       "(455, 16)"
      ]
     },
     "execution_count": 12,
     "metadata": {},
     "output_type": "execute_result"
    }
   ],
   "source": [
    "select = SelectFromModel(lr,threshold=0.0001) #will eleminate features with weight less than our threshold\n",
    "select.fit(X_train,y_train)\n",
    "X_select = select.transform(X_train)\n",
    "X_select.shape"
   ]
  },
  {
   "cell_type": "markdown",
   "id": "95dacdfa",
   "metadata": {},
   "source": [
    "## Feature Extraction"
   ]
  },
  {
   "cell_type": "markdown",
   "id": "37488488-21b7-4ebc-bd1a-6d1cc4c926ae",
   "metadata": {},
   "source": [
    "Feature extraction is about extracting information from the original features set to create new features subspace. the primary idea behind feature extraction is to compress the data with the goal of maintaining most of the relavant information. we can divide feature extraction techniques into two main approach:\n",
    "   * Projection\n",
    "       * Principle Component Analysis (**PCA**): Linear unsuppervised dimensionality reduction technique.\n",
    "       * Linear Discriminant Analysis (**LDA**): Linear supervised dimensionality reduction technique.\n",
    "       * Kernel Principal Component Analysis (**KPCA**): Non-Linear dimensionality reduction technique.<br>\n",
    "   * Manifold Learning\n",
    "       * Localy Linear Embedding (**LLE**)\n",
    "       * t-distributed Stochastic Neighbor Embedding (**t-SNE**): Non-Linear dimensionality reduction technique, typically used to visualize hight dimensional datasets.<br>\n",
    "\n",
    "**NOTE**: **Difference between feature extraction and feature selection**<br>\n",
    "the key difference is that the original features are maintained in the case of feature selection techniques, in contrast in feature extraction, data transforming into new feature space, so feature selection are used when model explainability is a key requirement.<br>\n",
    "**NOTE**: **Another definition for feature extraction** <br>\n",
    "use all the original features and combine them in some way (e.g linear or non-linear combination) to form a new feature set.<br>\n",
    "\n",
    "${Z_{1}}. . . {Z_{n}} = {f}({X_{1}} . . . {X_{n}})$\n",
    "\n",
    "for various methods ${f}$ can be different.\n",
    "\n",
    "now lets talk about some of these methods in details."
   ]
  },
  {
   "cell_type": "markdown",
   "id": "bad809de-ea86-443e-85f6-486d419cba5d",
   "metadata": {},
   "source": [
    "### PCA"
   ]
  },
  {
   "cell_type": "markdown",
   "id": "2da8d55d-597b-4a53-ae11-33e59b2bde4b",
   "metadata": {},
   "source": [
    "Principal Component Analysis (PCA), is the most commonly used feature extraction method. it defines a set of principal components (same size as our feature size) and uses these components (as a new coordinate system) to project our dataset. but these principal components have a special specifications.<br>\n",
    "for the first principal component, PCA finds the direction with **greatest variance** around it. then find the second direction perpendicular to the first one, with the greatest variance for the rest of the data and so on. so at the end we have independent directions that are sorted by their value of variance. so after we define these new directions we project our dataset to this new coordinate system. in our new dataset, we don't know which new features represent what property but all we know is that they are sorted by greatest variance to lowest variance. so in the end, we can decide how much variance we want to keep and delete some of the features.<br>\n",
    "but why the greatest variance? by choosing the direction with the greatest variance we somehow preserve distances between our data points (means that if two points in our original dataset have a big gap between them, in our new dataset they still will have a relatively big gap between them)."
   ]
  },
  {
   "cell_type": "markdown",
   "id": "9d443ce1-83ab-4a42-b74a-56ac570badb3",
   "metadata": {},
   "source": [
    "#### PCA Psudo Code"
   ]
  },
  {
   "cell_type": "markdown",
   "id": "c72614b2-75bf-4459-a882-1bbd55218c6b",
   "metadata": {},
   "source": [
    "1. Center data at zero coordinate.\n",
    "    * subtract the mean from each feature. it is also good to normalize our data so StandardScaler with do both.<br>\n",
    "2. Compute Covariance matrix $\\sum$\n",
    "    * for the recap, the covariance matrix shows how two feature change with respect to each other. so positive covariance between two features shows if one feature increases the other will increase too.\n",
    "    * values in diagonal are variances.<br>\n",
    "3. find eigenvectors and eigenvalues of $\\sum$\n",
    "    * eigenvectors are our principal components and eigenvalues represent the value of variance around eigenvectors.\n",
    "    * there are several ways to calculate eigenvectors and eigenvalues but we going to use **Singular Value Decomposition (SVD)**.\n",
    "    * SVD represents any matrix with the multiplication of 3 matrices U, S, and V. U is our eigenvector and S is our eigenvalues. they also sorted, so everything is ready.\n",
    "4. now by multiplying our data matrix and U (or slice of U for dimensionality reduction) we will have our new dataset in our new space.<br>"
   ]
  },
  {
   "cell_type": "markdown",
   "id": "a79c4ea3-026c-4bcc-94bd-9b9a400baf67",
   "metadata": {},
   "source": [
    "#### Some Notes"
   ]
  },
  {
   "cell_type": "markdown",
   "id": "7f0e099d-7749-441b-8356-126357de798a",
   "metadata": {},
   "source": [
    "* for determine how much each principal component preserve variance we just have to look at our S matrix. so we use it to choose the number of the component we want to keep (I write it as a function below).\n",
    "* Covariance is extremely sensitive to large values, so multiplying some dimension by a large number will dominate covariance and that dimension will become a principal component. that is why we normalize our data by its standard deviation.\n",
    "* PCA is a linear model, so it assumes the underlying subspace is linear.\n",
    "* PCA is unsupervised, so it does not know anything about class labels. so it can pick a direction that makes it harder to separate classes."
   ]
  },
  {
   "cell_type": "markdown",
   "id": "45f449c5-19d1-4efd-89e5-e1ac9ec114b2",
   "metadata": {},
   "source": [
    "#### PCA Code from Scratch"
   ]
  },
  {
   "cell_type": "markdown",
   "id": "84ae95ab-6933-451a-98b5-622bec6ec6e0",
   "metadata": {},
   "source": [
    "**NOTE**: we are dealing with matrices so dimensions are important, so everywhere we use `.T`, we just try to fix our dimensions so don't distract by them."
   ]
  },
  {
   "cell_type": "code",
   "execution_count": 13,
   "id": "d00ad6fd-c6c1-4844-a1ba-1dac8d042e45",
   "metadata": {},
   "outputs": [],
   "source": [
    "import numpy as np\n",
    "from sklearn.datasets import load_breast_cancer\n",
    "from sklearn.preprocessing import StandardScaler"
   ]
  },
  {
   "cell_type": "code",
   "execution_count": 14,
   "id": "0e45d225-8223-4258-8b7f-58d947cac333",
   "metadata": {},
   "outputs": [],
   "source": [
    "X,y = load_breast_cancer(return_X_y=True)"
   ]
  },
  {
   "cell_type": "code",
   "execution_count": 15,
   "id": "d5b66190-c990-40e1-84d5-98a7338276b2",
   "metadata": {},
   "outputs": [
    {
     "data": {
      "text/plain": [
       "(569, 30)"
      ]
     },
     "execution_count": 15,
     "metadata": {},
     "output_type": "execute_result"
    }
   ],
   "source": [
    "scale = StandardScaler()\n",
    "X = scale.fit_transform(X) # Scaling our data\n",
    "X.shape"
   ]
  },
  {
   "cell_type": "code",
   "execution_count": 16,
   "id": "f651c8ee-2231-4304-8f7e-49a350abcc1a",
   "metadata": {},
   "outputs": [
    {
     "data": {
      "text/plain": [
       "(30, 30)"
      ]
     },
     "execution_count": 16,
     "metadata": {},
     "output_type": "execute_result"
    }
   ],
   "source": [
    "covX = np.cov(X,rowvar=False) # covariance matrix with (n_feature, n_feature) shape\n",
    "covX.shape"
   ]
  },
  {
   "cell_type": "code",
   "execution_count": 17,
   "id": "00ed2528-7612-4ca2-8317-15b2131b2c08",
   "metadata": {},
   "outputs": [
    {
     "data": {
      "text/plain": [
       "(569, 10)"
      ]
     },
     "execution_count": 17,
     "metadata": {},
     "output_type": "execute_result"
    }
   ],
   "source": [
    "U,S,V = np.linalg.svd(covX) #SVD of our covariance matrix\n",
    "G = -U[:,0:10] # just keep 2 component\n",
    "Z = np.matmul(G.T,X.T).T # Projecting X to our new coordinate system\n",
    "Z.shape"
   ]
  },
  {
   "cell_type": "code",
   "execution_count": 18,
   "id": "65ed6145-f926-4843-adba-b011401e28b4",
   "metadata": {},
   "outputs": [],
   "source": [
    "# function for determine number of dimension we want to keep with respect to it's variance value\n",
    "def PCA_Component(data,accuracy): # Accuracy is our variance number between 0 and 1\n",
    "    u,s,v = np.linalg.svd(np.cov(data,rowvar=False))\n",
    "    singular_sum = sum(s)\n",
    "    a =0\n",
    "    for i in range(len(s)):\n",
    "        a += s[i]\n",
    "        b = a/singular_sum\n",
    "        if b >= accuracy:\n",
    "            k = i+1\n",
    "            break\n",
    "    return k"
   ]
  },
  {
   "cell_type": "code",
   "execution_count": 19,
   "id": "eedc27ad-eb8a-4ab9-b46f-c14d9a5c2619",
   "metadata": {},
   "outputs": [
    {
     "data": {
      "text/plain": [
       "10"
      ]
     },
     "execution_count": 19,
     "metadata": {},
     "output_type": "execute_result"
    }
   ],
   "source": [
    "PCA_Component(X,0.95) # we want to keep 95% of variance # so we have to keep our first 10 dimension"
   ]
  },
  {
   "cell_type": "markdown",
   "id": "9a0d91bd-03ee-442b-8fab-879823c9585a",
   "metadata": {},
   "source": [
    "#### PCA for Visualization"
   ]
  },
  {
   "cell_type": "markdown",
   "id": "1b2e4a3b-6826-4975-ac64-a059641d58c2",
   "metadata": {},
   "source": [
    "one of the most common practical use of dimensionality reduction techniques is for visualization. we want to reduce our dimensions to 2 or 3 so we can visualize them. let's see how we can use PCA for this purpose and also use PCA from Scikit Learn libarary."
   ]
  },
  {
   "cell_type": "code",
   "execution_count": 20,
   "id": "c14b2f0e-e582-4a41-989d-1a15ba9cd022",
   "metadata": {},
   "outputs": [],
   "source": [
    "from sklearn.datasets import load_breast_cancer\n",
    "import numpy as np\n",
    "import matplotlib.pyplot as plt\n",
    "from sklearn.decomposition import PCA\n",
    "from sklearn.pipeline import make_pipeline\n",
    "from sklearn.preprocessing import StandardScaler\n",
    "%matplotlib inline"
   ]
  },
  {
   "cell_type": "code",
   "execution_count": 21,
   "id": "ab201179-aca6-409c-9f6b-100aad7af5fe",
   "metadata": {},
   "outputs": [],
   "source": [
    "cancer = load_breast_cancer()"
   ]
  },
  {
   "cell_type": "code",
   "execution_count": 22,
   "id": "408adef2-145f-4cb6-82ab-971765be130a",
   "metadata": {},
   "outputs": [
    {
     "data": {
      "text/plain": [
       "(569, 30)"
      ]
     },
     "execution_count": 22,
     "metadata": {},
     "output_type": "execute_result"
    }
   ],
   "source": [
    "cancer.data.shape"
   ]
  },
  {
   "cell_type": "code",
   "execution_count": 23,
   "id": "7e265392-7d91-40a8-b833-0b2ef39220a2",
   "metadata": {},
   "outputs": [
    {
     "data": {
      "text/plain": [
       "(569, 2)"
      ]
     },
     "execution_count": 23,
     "metadata": {},
     "output_type": "execute_result"
    }
   ],
   "source": [
    "scale_pca_pipe = make_pipeline(StandardScaler(),PCA(n_components=2)) # Scale and perform PCA with 2 dimension on our data.\n",
    "X_scale_pca = scale_pca_pipe.fit_transform(cancer.data)\n",
    "X_scale_pca.shape"
   ]
  },
  {
   "cell_type": "code",
   "execution_count": 24,
   "id": "a34c0d7a-9b86-4979-bf31-06c6ccaa76b7",
   "metadata": {},
   "outputs": [
    {
     "data": {
      "image/png": "[encoded data removed]",
      "text/plain": [
       "<Figure size 432x288 with 1 Axes>"
      ]
     },
     "metadata": {
      "needs_background": "light"
     },
     "output_type": "display_data"
    }
   ],
   "source": [
    "plt.scatter(X_scale_pca[:,0], X_scale_pca[:,1], c=cancer.target)\n",
    "plt.xlabel(\"first principal component\")\n",
    "plt.ylabel(\"second principle component\")\n",
    "plt.show()"
   ]
  },
  {
   "cell_type": "markdown",
   "id": "e08202ff-6c2b-490c-aa4d-f959d1d89f47",
   "metadata": {},
   "source": [
    "as you can see by just using these 2 principal components, we can classify our problem by just linear models and not using 30 features (just in this dataset)."
   ]
  },
  {
   "cell_type": "markdown",
   "id": "8248a3ef-39fc-4c5d-b65d-b03c1db7b3ce",
   "metadata": {},
   "source": [
    "### LDA"
   ]
  },
  {
   "cell_type": "markdown",
   "id": "b369b228",
   "metadata": {},
   "source": [
    "like PCA, Linear Discriminant Analysis (LDA), is a dimensionality reduction technique, but it is supervised and focuses on maximizing the separability among known categories. LDA creates an axis according to two criteria:\n",
    "   1. Maximizing the distance between class means\n",
    "   2. minimizing variation within each category<br>\n",
    "\n",
    "so it tries to separate classes as much as possible and shrink them.<br>\n",
    "**NOTES**:<br>\n",
    "   * LDA creates #classes - 1 axis to separate data\n",
    "   * Like PCA, LDA ranks the axis in order of importance, but instead of using variation in data, it looks for the most variance between the categories.\n",
    "   * We can use LDA as a classifier because in the end that is what it does, separate our classes.\n",
    "   * LDA assumes data is guassian.\n",
    "   * LDA assumes all the classes have the same covariance. if use different covariance for each class then we will have **Quadratic Discriminant Analysis (QDA)** which we can make quadratic desicion boundary with them. compare to LDA they have lower bias and higher variance.\n",
    "   * Performing LDA before classification as preprocessing step, won't be guaranteed to be useful. it fails when discriminatory information is not in the mean, but in the variance of the data."
   ]
  },
  {
   "cell_type": "markdown",
   "id": "98608b28",
   "metadata": {},
   "source": [
    "#### LDA Psudo Code"
   ]
  },
  {
   "cell_type": "markdown",
   "id": "c83dc567",
   "metadata": {},
   "source": [
    "1. Separate our dataset according to labels ${D}_{i}$ , shape = (n_samples with class i, n_features)\n",
    "2. Calculate means of each splitted dataset  $\\mu_{i}$ , shape = (1, n_features)\n",
    "3. Calculate between class scatter<br>\n",
    "    ${B} = (\\mu_{1} - \\mu_{2})(\\mu_{1} - \\mu_{2})^{T}$  for binary classification and shape = (n_features, n_features)<br> \n",
    "4. Center class matrices<br>\n",
    "    ${Z}_{i} = {D}_{i} - \\mu_{i}^{T}$ , (n_samples with class i, n_features)<br>\n",
    "5. Class scatter matrices<br>\n",
    "    ${S}_{i} = {Z}_{i}^{T} {Z}_{i}$ , shape = (n_features, n_features)<br>\n",
    "6. Within class scatter matrix\n",
    "    ${S} = {S}_{1} + {S}_{2}$ , shape = (n_features, n_features)<br>\n",
    "7. Compute eigenvectors of ${S}^{-1}{B}$ , shape = (n_features, n_features)<br>\n",
    "8. pick first (#classes - 1) of eigenvectors and project your original dataset on them."
   ]
  },
  {
   "cell_type": "markdown",
   "id": "71f42803",
   "metadata": {},
   "source": [
    "#### Implementing in Scikit Learn"
   ]
  },
  {
   "cell_type": "code",
   "execution_count": 25,
   "id": "485291f8",
   "metadata": {},
   "outputs": [],
   "source": [
    "from sklearn.datasets import load_breast_cancer\n",
    "import numpy as np\n",
    "from sklearn.preprocessing import StandardScaler\n",
    "from sklearn.discriminant_analysis import LinearDiscriminantAnalysis\n",
    "import matplotlib.pyplot as plt"
   ]
  },
  {
   "cell_type": "code",
   "execution_count": 26,
   "id": "56ecd451",
   "metadata": {},
   "outputs": [
    {
     "data": {
      "text/plain": [
       "((569, 30), (569, 1))"
      ]
     },
     "execution_count": 26,
     "metadata": {},
     "output_type": "execute_result"
    }
   ],
   "source": [
    "X,y = load_breast_cancer(return_X_y=True)\n",
    "scale = StandardScaler()\n",
    "X = scale.fit_transform(X)\n",
    "LDA = LinearDiscriminantAnalysis(solver='svd',store_covariance=True)\n",
    "LDA.fit(X,y)\n",
    "X_LDA = LDA.transform(X)\n",
    "X.shape,X_LDA.shape"
   ]
  },
  {
   "cell_type": "code",
   "execution_count": 27,
   "id": "5826eda3",
   "metadata": {},
   "outputs": [
    {
     "data": {
      "text/plain": [
       "<matplotlib.collections.PathCollection at 0x1a365477d90>"
      ]
     },
     "execution_count": 27,
     "metadata": {},
     "output_type": "execute_result"
    },
    {
     "data": {
      "image/png": "[encoded data removed]",
      "text/plain": [
       "<Figure size 432x288 with 1 Axes>"
      ]
     },
     "metadata": {
      "needs_background": "light"
     },
     "output_type": "display_data"
    }
   ],
   "source": [
    "plt.scatter(X_LDA, y, c=y)"
   ]
  },
  {
   "cell_type": "markdown",
   "id": "0ded2dbc",
   "metadata": {},
   "source": [
    "**NOTE**: LDA is probabilistic model, so we will talk about them, in probabilistic models chapter, so if you want to learn more check them too."
   ]
  }
 ],
 "metadata": {
  "kernelspec": {
   "display_name": "Python 3 (ipykernel)",
   "language": "python",
   "name": "python3"
  },
  "language_info": {
   "codemirror_mode": {
    "name": "ipython",
    "version": 3
   },
   "file_extension": ".py",
   "mimetype": "text/x-python",
   "name": "python",
   "nbconvert_exporter": "python",
   "pygments_lexer": "ipython3",
   "version": "3.10.8"
  }
 },
 "nbformat": 4,
 "nbformat_minor": 5
}
