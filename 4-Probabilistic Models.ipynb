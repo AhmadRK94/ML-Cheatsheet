{
 "cells": [
  {
   "cell_type": "markdown",
   "id": "60895607",
   "metadata": {},
   "source": [
    "# Probabilistic Models"
   ]
  },
  {
   "cell_type": "markdown",
   "id": "457e24fd",
   "metadata": {},
   "source": [
    "## Overview"
   ]
  },
  {
   "cell_type": "markdown",
   "id": "f62b2e40",
   "metadata": {},
   "source": [
    "The probabilistic models use the idea of probability to describe the data or classify new entities. probabilistic models see features and target variables as random variables. there are two types of probabilistic models:\n",
    "   1. Discriminative\n",
    "   2. Generative<br>\n",
    "\n",
    "Discriminative probability models (also called conditional probabilistic models or predictive probabilistic models) use the idea of conditional probability distribution ${p(y\\vert X)}$ which ${y}$ can be predicted from ${X}$. generative models estimate ${p(X)}$, the probability of observing ${X}$, or joint distribution ${p(X,y)}$, which then can be used to drive any conditional distribution involving the same variables.<br>\n",
    "we already talk about discriminative probabilistic models like KNN and Logistic Regression (they can be describe as probabilistic or not), so what are we going to do next is to talk about generative models."
   ]
  },
  {
   "cell_type": "markdown",
   "id": "2c042d83",
   "metadata": {},
   "source": [
    "## Generative Models"
   ]
  },
  {
   "cell_type": "markdown",
   "id": "51a7f22f",
   "metadata": {},
   "source": [
    "as we said before, a generative model describes how data is generated, in terms of a probabilistic model. we can describe the workflow of generative modeling as this:\n",
    "   * We have a dataset of observations X (with or without labels)\n",
    "   * we assume that the observations have been generated according to some unknown distribution ${p}_{data}$.\n",
    "   * a generative model ${p}_{model}$ tries to mimic ${p}_{data}$. if we achieve this goal, we can sample from ${p}_{model}$ to generate observations that appear to have been drawn from ${p}_{data}$.\n",
    "   * We are impressed by ${p}_{model}$ if:\n",
    "       * it can generate examples that appear to have been drawn from ${p}_{data}$.\n",
    "       * it can generate examples that are suitably different from observations in ${X}$. in other words, the model shouldn't simply reproduce things it has.<br>\n",
    "\n",
    "but how to find our approximate probability?<br> \n",
    "1. first we define a Probability Density Function (PDF). PDF is a function that maps point ${x}$ in sample space to a number between 0 and 1. the sum of all the density functions over all the points in the sample space must be equal to 1 so that it is a well-defined probability distribution.<br>\n",
    "2. we know that there is only one true density function ${p}_{data}$ exists, but there are infinite numbers of ${p}_{model}$ that we can find to estimate our ${p}_{data}$. so in second step we use parametric modeling to find suitable ${p}_{model}$. in this approach, we will assign some finite parameters to describe our ${p}_{model}$ so we will have ${p}_{\\theta}(X)$ which is a probability density function with parameter $\\theta$.\n",
    "3. now to compare our ${p}_{model}$ with ${p}_{data}$ we need some metrics, so we will use **Kullback-Leibler Divergence** (KL), which is measure similarity between two distribution. the KL divergence is always equal to or bigger than zero (if two distributions are the same, it is zero), so our goal is to minimize KL divergence. using the KL formula (and Monte Carlo Estimation) we can show that instead of minimizing KL divergence we can maximize **likelihood** of ${p}_{\\theta}(X)$. the likelihood is the output of our pdf and can define as:<br>\n",
    "\n",
    "    $${L(\\theta\\vert X)} = {p}_{\\theta}(X)$$<br>\n",
    "   so the likelihood of parameter $\\theta$ given ${X}$, is the value of pdf which is parameterized by $\\theta$, at point ${X}$. because of some computational difficulty and also statistical reasons (if you derive the formula from KL divergence, you end up with the log form of ${p}_{\\theta}(X)$) we use log-likelihood which is simply calculated by performing log function on our likelihood so log-likelihood will be:\n",
    "   \n",
    "   $${l(\\theta\\vert X)} = {\\ln}{p}_{\\theta}(X)$$<br>\n",
    "   \n",
    "   we want to find some $\\theta^{*}$ (which is called Maximum Likelihood Estimate or MLE) that maximizes the log-likelihood of observing data ${X}$:\n",
    "   \n",
    "   $$\\theta^{*} = \\underset{\\theta}{\\textrm{arg max}} {l(\\theta\\vert X)}$$\n",
    "\n",
    "now that we approximate our data distribution with ${p}_{\\theta}(X)$ or ${p}_{\\theta}(X,y)$ (because all the above formula can be derived for ${p}_{\\theta}(X,y)$ similarly), we can use it to solve any downstream task like, classification, clustering, outliers detection, generation, etc. let's talk about some of these tasks and their corresponding methods."
   ]
  },
  {
   "cell_type": "markdown",
   "id": "c2b481f6",
   "metadata": {},
   "source": [
    "### Classification using generative models"
   ]
  },
  {
   "cell_type": "markdown",
   "id": "fe908266",
   "metadata": {},
   "source": [
    "classification is a supervised task and its goal is to construct a model using the training dataset, to predict the labels of a new dataset. so we will have ${(X^{(i)},y^{(i)})}$. so in order to classify data, generative models try to approximate joint probability distribution ${p}_{\\theta}(X,y)$. in order to approximate our joint probability we use the idea of conditional probability so:<br>\n",
    "\n",
    "$${p}_{\\theta}(X,y) = {p}_{\\theta}(X\\vert y) . {p}_{\\theta}(y)$$<br>\n",
    "\n",
    "the first term is called **likelihood** which is the probability of observing ${X}$ assuming that the true class is ${y}$ and the second term is called **prior probability**. now we need to estimate these two probabilities using our training dataset.<br>\n",
    "\n",
    "* **Estimating ${p}(y_{i})$, prior probability of class $y_{i}$:**<br>\n",
    "we are estimating prior probability with the number of occurrences of class ${i}$ in our training dataset, but in general, we can use other numbers from other sources too. so we will have:<br>\n",
    "\n",
    "$$ {p}({y}_{i}) = \\frac{m_{i}}{m} $$<br>\n",
    "\n",
    "* **Estimating ${p}_{\\theta}(X\\vert y_{i})$, likelihood of class ${y}_{i}$:**\n",
    "    1. Numerical features<br>\n",
    "        when we have numerical features we assume that each class ${y}_{i}$ is normally distributed which means each class has parameter **mean** $\\mu_{i}$ and **covariance**  $\\Sigma_{i}$. both parameters are estimated from the subset of data with corresponding labels. the probability density function for **Normal Distribution** at X is given as:<br>\n",
    "        $$ f_{i}(X) = f(X\\vert \\mu_{i}, \\Sigma_{i}) = \\frac{1}{(\\sqrt{2\\pi})^{n} (\\sqrt{\\vert \\Sigma_{i} \\vert})}exp (- \\frac{(X-\\mu_{i})^{T} \\Sigma_{i}^{-1} (X-\\mu_{i})}{2})$$<br>\n",
    "        \n",
    "   and by doing some math we can derive the maximum likelihood estimation of our parameter as:<br>\n",
    "        \n",
    "        $\\hat{\\mu_{i}} = \\frac{1}{m_{i}} \\sum \\limits _{x_{j}\\in y_{i}} X_{j}$<br>\n",
    "        \n",
    "        $\\hat{\\Sigma_{i}} = \\frac{1}{m_{i}} \\bar{X}_{i}^{T}\\bar{X}_{i}\\space,\\space \\space \\space \\space \\space \\bar{X}_{i} = {X}_{i} - \\hat{\\mu_{i}}$<br>\n",
    "        \n",
    "  2. Categorical features<br>\n",
    "   when we have categorical features, we use **Multinomial Distribution** to estimate likelihood. the number of parameters is all the possible combinations of our categorical values. for example, if we have 2 features and one feature has 3 unique categories, and the other one has 4, the number of parameters will be:<br>\n",
    "d = 3 $\\times$ 4 = 12<br>\n",
    "\n",
    "   then the maximum likelihood for each parameter will be:<br>\n",
    "\n",
    "   $\\hat{\\theta}_{ij} = \\frac{m_{ij} + 1}{m_{i} + d}$<br>\n",
    "   ${m}_{ij}$ : number of time that category combination occur in class ${i}$ subset<br>\n",
    "   ${m}_{i}$ : number of samples in class ${i}$ subset<br>\n",
    "   ${d}$ : total number of parameters<br>\n",
    "   ${+1}$: Laplace Smoothing, because of combination that may not occur in our dataset and to prevent them from becoming zero.<br>\n",
    "        \n",
    "        \n",
    "* **Prediction phase:**<br>\n",
    "    after we estimate our parameters and use them to estimate prior probability and likelihood then we can predict our label of new data with: <br>\n",
    "    \n",
    "     $ \\hat{y} = \\underset{y_{i}}{\\textrm{arg max}}\\{{p}_{\\theta}(X\\vert y_{i}) . {p}(y_{i})\\} $<br>\n",
    "    or use log form for mathematical and statistical reasons:<br>\n",
    "   \n",
    "     $ \\hat{y} = \\underset{y_{i}}{\\textrm{arg max}}\\{\\ln{p}_{\\theta}(X\\vert y_{i}) + \\ln{p}(y_{i})\\} $<br>\n",
    "    \n",
    "   we also can calculate ${p}(y_{i}\\vert X)$, called **Posterior Probability** which is the probability of observing ${X}$ from any of the classes. by using **Bayes theorem** the posterior probability is:<br>\n",
    "    \n",
    "    ${p}(y_{i}\\vert X) = \\frac{{p}(X\\vert y_{i}) . {p}(y_{i})}{p(X)}\\space \\space$   , $\\space P(X) = \\sum \\limits _{i}{p}(X\\vert y_{i}) . {p}(y_{i}) $<br>\n",
    "    \n",
    "**NOTE:** but why use normal distribution? well in general you can use any distribution to model your problem but normal distribution have some properties that make it preferable:<br>\n",
    "   1. it is the most common distribution found in nature, so there is a good chance your distribution is one of them.\n",
    "   2. it has the most intuitive parameters. we normally have a good sense of mean and variance (covariance).\n",
    "   3. another reason, or maybe the most important one, is because of **Central Limit Theorem** which says if we collect several subsets of any random distribution (arbitrary distribution) and calculate all the means of these subsets, the distribution of those means will be normally distributed, and we can perform any statistical procedure on the normally distributed means.<br>\n",
    "\n",
    "so normal distribution is a good choice, but you always can test other distributions on your dataset.<br>\n",
    "by using the normal distribution for estimating our probabilities we will end up with the family of methods called **Gaussian Discriminant Analysis** or GDA. we first talk about the general form of the GDA and then derive other variations too."
   ]
  },
  {
   "cell_type": "markdown",
   "id": "3aee41b9",
   "metadata": {},
   "source": [
    "#### Gaussian Discriminant Analysis"
   ]
  },
  {
   "cell_type": "markdown",
   "id": "5cfcdd4d",
   "metadata": {},
   "source": [
    "in GDA we estimate our likelihood with gaussian distribution, so for each class, we will have $\\mu_{i}$ , $\\Sigma_{i}$ and again the goal is to model distribution for each class and classify new data. Let's first write the GDA algorithm then code it from scratch and test it on our breast cancer dataset."
   ]
  },
  {
   "cell_type": "markdown",
   "id": "7c7f6d95",
   "metadata": {},
   "source": [
    "##### Pseudo code for GDA"
   ]
  },
  {
   "cell_type": "markdown",
   "id": "6bb7754a",
   "metadata": {},
   "source": [
    "1. create class specific subsets from training dataset ${X_{i}}$\n",
    "2. calculate number of samples in each subsets ${m_{i}}$\n",
    "3. calculate prior probabilities $\\hat{p}({y}_{i}) = \\frac{m_{i}}{m}$\n",
    "4. calculate mean of each class subset $\\hat{\\mu_{i}}$\n",
    "5. calculate centered subsets $\\bar{X}_{i} = {X_{i}} - \\hat{\\mu_{i}}$\n",
    "6. calculate covariance $\\hat{\\Sigma_{i}} = \\frac{1}{m_{i}} \\bar{X}_{i}^{T}\\bar{X}_{i}$\n",
    "7. calculate determinant and inverse of covariance matrix $\\vert\\Sigma_{i}\\vert$ , $\\Sigma_{i}^{-1}$\n",
    "8. calculate pdf using multivariate gaussian formula ${f}_{i}(X\\vert \\hat{\\mu_{i}},\\hat{\\Sigma_{i}})$\n",
    "9. prediction phase $ \\hat{y} = \\underset{y_{i}}{\\textrm{argmax}}\\{{f}_{i}(X\\vert \\hat{\\mu_{i}} . \\hat{p}({y}_{i})\\} $<br>\n",
    "\n",
    "by using log function and doing some math we can simplify step 8 and 9, and use this formula in prediction phase:<br>\n",
    "\n",
    "$ \\hat{y} = \\underset{y_{i}}{\\textrm{argmax}}\\{\\ln{p}(y_{i}) - \\frac{1}{2}\\ln\\vert\\Sigma_{i}\\vert - \\frac{1}{2}(X-\\mu_{i})^{T} \\Sigma_{i}^{-1} (X-\\mu_{i})\\}$"
   ]
  },
  {
   "cell_type": "markdown",
   "id": "377296e6",
   "metadata": {},
   "source": [
    "##### GDA from scratch"
   ]
  },
  {
   "cell_type": "code",
   "execution_count": 1,
   "id": "50bf8437",
   "metadata": {},
   "outputs": [],
   "source": [
    "import numpy as np\n",
    "from numpy.linalg import multi_dot\n",
    "from sklearn.datasets import load_breast_cancer\n",
    "from sklearn.model_selection import train_test_split\n",
    "import matplotlib.pyplot as plt\n",
    "%matplotlib inline"
   ]
  },
  {
   "cell_type": "code",
   "execution_count": 2,
   "id": "0fb4b5a2",
   "metadata": {},
   "outputs": [],
   "source": [
    "X,y = load_breast_cancer(return_X_y=True)\n",
    "X_train, X_test, y_train, y_test = train_test_split(X, y, test_size=0.2, random_state=42,stratify=y)"
   ]
  },
  {
   "cell_type": "code",
   "execution_count": 3,
   "id": "5d9c9c82",
   "metadata": {},
   "outputs": [],
   "source": [
    "# class specific subsets\n",
    "X1 = X_train[y_train==1]\n",
    "X0 = X_train[y_train==0]"
   ]
  },
  {
   "cell_type": "code",
   "execution_count": 4,
   "id": "a95bc0cc",
   "metadata": {},
   "outputs": [],
   "source": [
    "#number of samples in each class and all the samples + number of features\n",
    "m1 = X1.shape[0]\n",
    "m0 = X0.shape[0]\n",
    "m,n = X_train.shape"
   ]
  },
  {
   "cell_type": "code",
   "execution_count": 5,
   "id": "bcacb808",
   "metadata": {},
   "outputs": [],
   "source": [
    "# Prior probabilities\n",
    "p1 = m1/m\n",
    "p0 = m0/m"
   ]
  },
  {
   "cell_type": "code",
   "execution_count": 6,
   "id": "4343c62b",
   "metadata": {},
   "outputs": [
    {
     "data": {
      "text/plain": [
       "(1, 30)"
      ]
     },
     "execution_count": 6,
     "metadata": {},
     "output_type": "execute_result"
    }
   ],
   "source": [
    "# mean of each class subset\n",
    "mu1 = np.mean(X1,axis=0,keepdims=True)\n",
    "mu0 = np.mean(X0,axis=0,keepdims=True)\n",
    "mu1.shape"
   ]
  },
  {
   "cell_type": "code",
   "execution_count": 7,
   "id": "8be2f991",
   "metadata": {},
   "outputs": [],
   "source": [
    "#calculating covariance matrix and its inverse and determinant\n",
    "X1 = X1 - mu1\n",
    "X0 = X0 - mu0\n",
    "# cov1 = (np.dot(X1.T,X1))/(m1-1)\n",
    "cov1 = np.cov(X1,rowvar=False)\n",
    "cov0 = np.cov(X0,rowvar=False)\n",
    "invcov1 = np.linalg.inv(cov1)\n",
    "invcov0 = np.linalg.inv(cov0)\n",
    "detcov1 = np.linalg.det(cov1)\n",
    "detcov0 = np.linalg.det(cov0)"
   ]
  },
  {
   "cell_type": "code",
   "execution_count": 8,
   "id": "14774e0d",
   "metadata": {},
   "outputs": [],
   "source": [
    "# prediction phase\n",
    "y_predict = []\n",
    "for i in range(len(X_test)):\n",
    "    Q1 = (multi_dot([(X_test[i]-mu1),invcov1,(X_test[i]-mu1).T]))/2\n",
    "    Q0 = (multi_dot([(X_test[i]-mu0),invcov0,(X_test[i]-mu0).T]))/2\n",
    "    f1 = np.log(p1) - (np.log(detcov1))/2 - Q1\n",
    "    f0 = np.log(p0) - (np.log(detcov0))/2 - Q0\n",
    "    y_predict.append(np.argmax([f0,f1]))"
   ]
  },
  {
   "cell_type": "code",
   "execution_count": 9,
   "id": "332fbdfe",
   "metadata": {},
   "outputs": [
    {
     "data": {
      "text/plain": [
       "0.9473684210526315"
      ]
     },
     "execution_count": 9,
     "metadata": {},
     "output_type": "execute_result"
    }
   ],
   "source": [
    "# calculate accuracy\n",
    "y_predict = np.array(y_predict)\n",
    "accuracy = np.sum(y_predict == y_test)/len(X_test)\n",
    "accuracy"
   ]
  },
  {
   "cell_type": "code",
   "execution_count": 10,
   "id": "bd59fddb",
   "metadata": {},
   "outputs": [
    {
     "data": {
      "text/plain": [
       "<matplotlib.collections.PathCollection at 0x1ac6ba0ac80>"
      ]
     },
     "execution_count": 10,
     "metadata": {},
     "output_type": "execute_result"
    },
    {
     "data": {
      "image/png": "[encoded data removed]",
      "text/plain": [
       "<Figure size 432x288 with 1 Axes>"
      ]
     },
     "metadata": {
      "needs_background": "light"
     },
     "output_type": "display_data"
    }
   ],
   "source": [
    "miss_classify = np.where(y_test!=y_predict)\n",
    "plt.scatter(X_test[:,1],X_test[:,2],c=y_predict,s=10)\n",
    "plt.scatter(X_test[miss_classify,1],X_test[miss_classify,2])"
   ]
  },
  {
   "cell_type": "markdown",
   "id": "7134c8c0",
   "metadata": {},
   "source": [
    "the blue points are the samples that our model miss-classified"
   ]
  },
  {
   "cell_type": "markdown",
   "id": "5305c5f5",
   "metadata": {},
   "source": [
    "##### GDA in scikit learn"
   ]
  },
  {
   "cell_type": "code",
   "execution_count": 11,
   "id": "d0085a47",
   "metadata": {},
   "outputs": [],
   "source": [
    "from sklearn.discriminant_analysis import QuadraticDiscriminantAnalysis"
   ]
  },
  {
   "cell_type": "code",
   "execution_count": 12,
   "id": "76d4251d",
   "metadata": {},
   "outputs": [
    {
     "data": {
      "text/plain": [
       "0.9473684210526315"
      ]
     },
     "execution_count": 12,
     "metadata": {},
     "output_type": "execute_result"
    }
   ],
   "source": [
    "qda = QuadraticDiscriminantAnalysis()\n",
    "qda.fit(X_train,y_train)\n",
    "qda.score(X_test,y_test)"
   ]
  },
  {
   "cell_type": "markdown",
   "id": "856dba97",
   "metadata": {},
   "source": [
    "same accuracy so we should be happy now :)"
   ]
  },
  {
   "cell_type": "markdown",
   "id": "8a578b05",
   "metadata": {},
   "source": [
    "**NOTES:**<br>\n",
    "* what we discussed was a general form of GDA and it is also called Quadratic Discriminant Analysis (QDA) because it will create a quadratic hyperplane between our classes.\n",
    "* in QDA because we have to calculate the inverse of the covariance matrix, we may end up with the singularity problem, especially in the case of high dimensional data, the common techniques to fix it are:\n",
    "    * Apply PCA to reduce dimensions\n",
    "    * regularize the covariance matrices\n",
    "    * use Pseudo inverse\n"
   ]
  },
  {
   "cell_type": "markdown",
   "id": "3225b968",
   "metadata": {},
   "source": [
    "##### Linear Discriminant Analysis"
   ]
  },
  {
   "cell_type": "markdown",
   "id": "c906f909",
   "metadata": {},
   "source": [
    "Linear Discriminant Analysis or LDA is special case of GDA, which instead of using covariance matrix for each class, use same covariance matrix for all classes. we can use this formula for calculate the covariance matrix:\n",
    "\n",
    "$$\\Sigma = \\frac{1}{m}\\sum\\sum(X-\\mu_{i})(X-\\mu_{i})^{T}$$<br>\n",
    "\n",
    "in prediction phase, we can also use these formula:<br>\n",
    "$$ \\hat{y} = \\underset{y_{i}}{\\textrm{argmax}}\\{\\ln{p}(y_{i}) + X^{T}\\Sigma^{-1}\\mu_{i} - \\frac{1}{2}\\mu_{i}^{T} \\Sigma^{-1} \\mu_{i}\\}$$"
   ]
  },
  {
   "cell_type": "markdown",
   "id": "0f0fe4d5",
   "metadata": {},
   "source": [
    "###### LDA from scratch"
   ]
  },
  {
   "cell_type": "code",
   "execution_count": 13,
   "id": "f7ca37ae",
   "metadata": {},
   "outputs": [],
   "source": [
    "#class specific subsets\n",
    "X1 = X_train[y_train==1]\n",
    "X0 = X_train[y_train==0]\n",
    "#number of samples in subsets and original dataset + number of samples\n",
    "m1 = X1.shape[0]\n",
    "m0 = X0.shape[0]\n",
    "m,n = X_train.shape"
   ]
  },
  {
   "cell_type": "code",
   "execution_count": 14,
   "id": "192a23b5",
   "metadata": {},
   "outputs": [],
   "source": [
    "#prior probability\n",
    "p1 = m1/m\n",
    "p0 = m0/m"
   ]
  },
  {
   "cell_type": "code",
   "execution_count": 15,
   "id": "283f9641",
   "metadata": {},
   "outputs": [],
   "source": [
    "# mean of subsets\n",
    "mu1 = np.mean(X1,axis=0,keepdims=True)\n",
    "mu0 = np.mean(X0,axis=0,keepdims=True)\n",
    "# centered subsets\n",
    "X1 = X1 - mu1\n",
    "X0 = X0 - mu0"
   ]
  },
  {
   "cell_type": "code",
   "execution_count": 16,
   "id": "063fce34",
   "metadata": {},
   "outputs": [],
   "source": [
    "#calculate covariance matrix and its inverse\n",
    "XX1 = np.dot(X1.T,X1)\n",
    "XX0 = np.dot(X0.T,X0)\n",
    "cov = (XX1+XX0)/(m)\n",
    "invcov = np.linalg.inv(cov)"
   ]
  },
  {
   "cell_type": "code",
   "execution_count": 17,
   "id": "8a90cb96",
   "metadata": {},
   "outputs": [],
   "source": [
    "#prediction phase\n",
    "y_predict = []\n",
    "for i in range(len(X_test)):\n",
    "    Q1 = (multi_dot([X_test[i],invcov,mu1.T]))\n",
    "    Q0 = (multi_dot([X_test[i],invcov,mu0.T]))\n",
    "    f1 = np.log(p1) - (multi_dot([mu1,invcov,mu1.T]))/2 + Q1\n",
    "    f0 = np.log(p0) - (multi_dot([mu0,invcov,mu0.T]))/2 + Q0\n",
    "    y_predict.append(np.argmax([f0,f1]))"
   ]
  },
  {
   "cell_type": "code",
   "execution_count": 18,
   "id": "2ab89039",
   "metadata": {},
   "outputs": [
    {
     "data": {
      "text/plain": [
       "0.956140350877193"
      ]
     },
     "execution_count": 18,
     "metadata": {},
     "output_type": "execute_result"
    }
   ],
   "source": [
    "#accuracy\n",
    "y_predict = np.array(y_predict)\n",
    "accuracy = np.sum(y_predict == y_test)/len(X_test)\n",
    "accuracy"
   ]
  },
  {
   "cell_type": "code",
   "execution_count": 19,
   "id": "9a5ad3e0",
   "metadata": {},
   "outputs": [
    {
     "data": {
      "text/plain": [
       "<matplotlib.collections.PathCollection at 0x1ac6dd1ca60>"
      ]
     },
     "execution_count": 19,
     "metadata": {},
     "output_type": "execute_result"
    },
    {
     "data": {
      "image/png": "[encoded data removed]",
      "text/plain": [
       "<Figure size 432x288 with 1 Axes>"
      ]
     },
     "metadata": {
      "needs_background": "light"
     },
     "output_type": "display_data"
    }
   ],
   "source": [
    "miss_classify = np.where(y_test!=y_predict)\n",
    "plt.figure\n",
    "plt.scatter(X_test[:,1],X_test[:,2],c=y_predict,s=10)\n",
    "plt.scatter(X_test[miss_classify,1],X_test[miss_classify,2])"
   ]
  },
  {
   "cell_type": "markdown",
   "id": "949a5688",
   "metadata": {},
   "source": [
    "###### LDA in scikit learn"
   ]
  },
  {
   "cell_type": "code",
   "execution_count": 20,
   "id": "621f0dd9",
   "metadata": {},
   "outputs": [],
   "source": [
    "from sklearn.discriminant_analysis import LinearDiscriminantAnalysis"
   ]
  },
  {
   "cell_type": "code",
   "execution_count": 21,
   "id": "4c3ac70b",
   "metadata": {},
   "outputs": [
    {
     "data": {
      "text/plain": [
       "0.956140350877193"
      ]
     },
     "execution_count": 21,
     "metadata": {},
     "output_type": "execute_result"
    }
   ],
   "source": [
    "lda = LinearDiscriminantAnalysis(store_covariance=True)\n",
    "lda.fit(X_train,y_train)\n",
    "lda.score(X_test,y_test)"
   ]
  },
  {
   "cell_type": "markdown",
   "id": "8646a463",
   "metadata": {},
   "source": [
    "**NOTES:**<br>\n",
    "* in LDA hyperplane will be linear\n",
    "* like GDA, in LDA we will have singularity issue\n",
    "* we can also use LDA for dimensionality reduction (see dimensionality reduction chapter)"
   ]
  },
  {
   "cell_type": "markdown",
   "id": "70e5dc93",
   "metadata": {},
   "source": [
    "##### Naive Bayes"
   ]
  },
  {
   "cell_type": "markdown",
   "id": "71f7954e",
   "metadata": {},
   "source": [
    "A Naive Bayes classifier is another variation of GDA which assumes that all the features are **independent** from each other. with this assumption, we don't need to calculate the covariance matrix and we just need variance which is very computationally preferable. also, we can calculate the likelihood of each feature separate from each other and our total likelihood will be the product of each feature likelihood, so we can treat each column separately. but of course we will lose some accuracy. so we will have:<br>\n",
    "\n",
    "$${f}_{i}(X) = \\prod \\limits _{j} ^{n} {f}_{ij}(x_{j}) $$<br>\n",
    "\n",
    "$$\\hat{y} = \\underset{y_{i}}{\\textrm{argmax}}\\{\\ln{p}(y_{i}) -\\frac{1}{2}\\sum \\limits _{j} ^{n} (\\ln \\sigma_{ij} ^{2} + \\frac{(x_{j} - \\mu_{ij})}{\\sigma_{ij}})\\}$$\n"
   ]
  },
  {
   "cell_type": "markdown",
   "id": "f58dc5d5",
   "metadata": {},
   "source": [
    "###### Naive Bayes from scratch"
   ]
  },
  {
   "cell_type": "code",
   "execution_count": 22,
   "id": "fe9a119e",
   "metadata": {},
   "outputs": [],
   "source": [
    "#class specific subsets\n",
    "X1 = X_train[y_train==1]\n",
    "X0 = X_train[y_train==0]"
   ]
  },
  {
   "cell_type": "code",
   "execution_count": 23,
   "id": "138571ca",
   "metadata": {},
   "outputs": [],
   "source": [
    "# number of samples in each class + number of features + overall number of samples in training set\n",
    "m1 = X1.shape[0]\n",
    "m0 = X0.shape[0]\n",
    "m,n = X_train.shape"
   ]
  },
  {
   "cell_type": "code",
   "execution_count": 24,
   "id": "3cc49efb",
   "metadata": {},
   "outputs": [],
   "source": [
    "# Prior probabilities\n",
    "p1 = m1/m\n",
    "p0 = m0/m"
   ]
  },
  {
   "cell_type": "code",
   "execution_count": 25,
   "id": "972ed66f",
   "metadata": {},
   "outputs": [],
   "source": [
    "# class specific mean\n",
    "mu1 = np.mean(X1,axis=0,keepdims=True)\n",
    "mu0 = np.mean(X0,axis=0,keepdims=True)"
   ]
  },
  {
   "cell_type": "code",
   "execution_count": 26,
   "id": "e434706d",
   "metadata": {},
   "outputs": [],
   "source": [
    "#calculating variance\n",
    "X1 = X1-mu1\n",
    "X0 = X0-mu0\n",
    "var1 = np.var(X1,axis=0,keepdims=True)\n",
    "var0 = np.var(X0,axis=0,keepdims=True)"
   ]
  },
  {
   "cell_type": "code",
   "execution_count": 27,
   "id": "c780caf8",
   "metadata": {},
   "outputs": [],
   "source": [
    "#prediction phase\n",
    "y_predict=[]\n",
    "for i in range(len(X_test)):\n",
    "    f1 = np.log(p1) - 0.5*np.sum(np.log(var1) + (((X_test[i]-mu1)**2)/var1))\n",
    "    f0 = np.log(p0) - 0.5*np.sum(np.log(var0) + (((X_test[i]-mu0)**2)/var0))\n",
    "    y_predict.append(np.argmax([f0,f1]))"
   ]
  },
  {
   "cell_type": "code",
   "execution_count": 28,
   "id": "d87cd3b9",
   "metadata": {},
   "outputs": [
    {
     "data": {
      "text/plain": [
       "0.9298245614035088"
      ]
     },
     "execution_count": 28,
     "metadata": {},
     "output_type": "execute_result"
    }
   ],
   "source": [
    "#calculating accuracy\n",
    "y_predict = np.array(y_predict)\n",
    "accuracy = np.sum(y_predict == y_test)/len(X_test)\n",
    "accuracy"
   ]
  },
  {
   "cell_type": "code",
   "execution_count": 29,
   "id": "5355ca60",
   "metadata": {},
   "outputs": [
    {
     "data": {
      "text/plain": [
       "<matplotlib.collections.PathCollection at 0x1ac6dd8ee00>"
      ]
     },
     "execution_count": 29,
     "metadata": {},
     "output_type": "execute_result"
    },
    {
     "data": {
      "image/png": "[encoded data removed]",
      "text/plain": [
       "<Figure size 432x288 with 1 Axes>"
      ]
     },
     "metadata": {
      "needs_background": "light"
     },
     "output_type": "display_data"
    }
   ],
   "source": [
    "miss_classify = np.where(y_test!=y_predict)\n",
    "plt.scatter(X_test[:,1],X_test[:,2],c=y_predict,s=10)\n",
    "plt.scatter(X_test[miss_classify,1],X_test[miss_classify,2])"
   ]
  },
  {
   "cell_type": "markdown",
   "id": "73c474b8",
   "metadata": {},
   "source": [
    "###### Naive Bayes Scikit learn"
   ]
  },
  {
   "cell_type": "code",
   "execution_count": 30,
   "id": "5c9e8182",
   "metadata": {},
   "outputs": [],
   "source": [
    "from sklearn.naive_bayes import GaussianNB"
   ]
  },
  {
   "cell_type": "code",
   "execution_count": 31,
   "id": "11206136",
   "metadata": {},
   "outputs": [
    {
     "data": {
      "text/plain": [
       "0.9298245614035088"
      ]
     },
     "execution_count": 31,
     "metadata": {},
     "output_type": "execute_result"
    }
   ],
   "source": [
    "nb = GaussianNB(var_smoothing=0)\n",
    "nb.fit(X_train,y_train)\n",
    "nb.score(X_test,y_test)"
   ]
  },
  {
   "cell_type": "markdown",
   "id": "c190427d",
   "metadata": {},
   "source": [
    "**Summary**<br>\n",
    "so we talked about 3 classification algorithms:\n",
    "   * GDA which uses multivariate gaussian\n",
    "   * LDA which uses multivariate Gaussians with equal covariance\n",
    "   * Naive Bayes which assumes all the features are independent of each other<br>\n",
    "\n",
    "and each method has its pros and cons, so for different problems, we can choose the different variant of Gaussian methods."
   ]
  },
  {
   "cell_type": "markdown",
   "id": "2f240c5f",
   "metadata": {},
   "source": [
    "### Clustering using generative models - Gaussian Mixture Model"
   ]
  },
  {
   "cell_type": "markdown",
   "id": "5c7db264",
   "metadata": {},
   "source": [
    "clustering is the task of finding groups in our dataset. the idea of the Gaussian Mixture Method (GMM) is that we have ${k}$ number of components in our dataset, and we approximate each group with Gaussian distribution (in other words we map ${k}$ distribution on our data), so each component will have $\\mu_{i}$ and $\\Sigma_{i}$, and the goal is to find these means and covariances. so we will have:<br>\n",
    "\n",
    "$$ f_{i}(X) = f(X\\vert \\mu_{i}, \\Sigma_{i}) = \\frac{1}{(\\sqrt{2\\pi})^{n} (\\sqrt{\\vert \\Sigma_{i} \\vert})}exp (- \\frac{(X-\\mu_{i})^{T} \\Sigma_{i}^{-1} (X-\\mu_{i})}{2})$$<br>\n",
    "\n",
    "$$p(X) = \\sum\\limits _{i} ^{k} f_{i}(X) p(c_{i})$$<br>\n",
    "\n",
    "so like before we have to use log-likelihood estimation and maximize it to find our parameters. but there is a problem because our data is unlabeled we can't directly find our parameters, instead, we use the **Expectation-Maximization** method to find the maximum likelihood estimation of our parameters.<br>\n",
    "\n",
    "**Expectation-Maximization Algorithm:**<br>\n",
    "Expectation-Maximization (EM) algorithm is 2 steps iterative approach that starts with an initial guess for our parameters then:<br>\n",
    "   1. Expectation Step: given parameters we compute posterior probabilities $p(c_{i}\\vert X)$ via Bayes Theorem:<br>\n",
    "   \n",
    "       $${p}(c_{i}\\vert X) = \\frac{{p}(X\\vert c_{i}) . {p}(c_{i})}{\\sum \\limits _{i}{p}(X\\vert c_{i}) . {p}(c_{i}) }$$\n",
    "       \n",
    "       and each component is modeled as multivariate Gaussian distribution. these posterior probabilities are our weights and we can think of them as how much each point is assigned to the $\\mu_{i}$ (contribution of each point to cluster ${i}$).\n",
    "       \n",
    "   2. Maximization Step: we use the calculated weights to update our parameters $\\mu_{i}$, $\\Sigma_{i}$, $p(c_{i})$.\n",
    "       * re-estimate $\\mu_{i}$ with the weighted average of all the points\n",
    "       * re-estimate $\\Sigma_{i}$ with the weighted covariance over all the points\n",
    "       * re-estimate $p(c_{i})$ with fraction of weights that contribute to that component<br>\n",
    "\n",
    "after some iteration our $\\mu_{i}$ will converge to some values, and those values will be the centers of our clusters."
   ]
  },
  {
   "cell_type": "markdown",
   "id": "39ca1093",
   "metadata": {},
   "source": [
    "#### Pseudo code for GMM - EM algorithm"
   ]
  },
  {
   "cell_type": "markdown",
   "id": "d78dd17a",
   "metadata": {},
   "source": [
    "1. Randomly initialize $\\mu_{i}$. we can select uniformly random values from the possible range of X\n",
    "2. initialize covariance matrix. $\\Sigma_{i} = {I}$ (identity matrix)\n",
    "3. initialize prior probabilities $p(c_{i}) = \\frac{1}{k}$ (equal probability)\n",
    "4. Expectation Step:<br>\n",
    "\n",
    "    $ W_{i} = \\frac{{f}(X\\vert \\mu_{i},\\Sigma_{i}) . {p}(c_{i})}{\\sum \\limits _{i} ^{k}{p}(X\\vert \\mu_{i},\\Sigma_{i}) . {p}(c_{i}) }$<br>\n",
    "    \n",
    "5. Maximization Step:<br>\n",
    "    * $\\mu_{i}$ for next step:  $\\mu_{i} = \\frac{\\sum\\limits _{j} ^{m} w_{ij}X_{j}}{\\sum\\limits _{j} ^{m} w_{ij}}$<br>\n",
    "    \n",
    "    * $\\Sigma_{i}$ for next step: $\\Sigma_{i} = \\frac{\\sum\\limits _{j} ^{m} w_{ij}(X_{j} -\\mu_{i})(X_{j} -\\mu_{i})^{T}}{\\sum\\limits _{j} ^{m} w_{ij}}$\n",
    "    \n",
    "    * $p(c_{i})$ for next step:  $p(c_{i}) = \\frac{1}{m}\\sum\\limits _{j} ^{m}w_{ij}$\n",
    "\n",
    "6. repeat step 4,5 until we reach the maximum number of iterations or some threshold:<br>\n",
    "    \n",
    "    $$\\sum\\limits _{i} ^{k}\\vert\\vert \\mu_{new} - \\mu_{old}\\vert \\vert ^{2} \\leq \\epsilon$$\n",
    "    "
   ]
  },
  {
   "cell_type": "markdown",
   "id": "80a6ceac",
   "metadata": {},
   "source": [
    "#### GMM from scratch"
   ]
  },
  {
   "cell_type": "markdown",
   "id": "924820a2",
   "metadata": {},
   "source": [
    "**NOTE:** as you already saw in other chapters, when I code algorithms from scratch I try to code as simple as possible because our purpose is to learn algorithms and don't distract by code complexity. but because we already work with covariances and means, I code a little, seriously a little, more complex."
   ]
  },
  {
   "cell_type": "code",
   "execution_count": 32,
   "id": "5d472b0b",
   "metadata": {},
   "outputs": [],
   "source": [
    "import numpy as np\n",
    "from sklearn.datasets import make_blobs\n",
    "from sklearn.mixture import GaussianMixture\n",
    "import matplotlib.pyplot as plt\n",
    "%matplotlib inline"
   ]
  },
  {
   "cell_type": "code",
   "execution_count": 33,
   "id": "3bfa849e",
   "metadata": {},
   "outputs": [
    {
     "data": {
      "text/plain": [
       "(-15.0, 15.0)"
      ]
     },
     "execution_count": 33,
     "metadata": {},
     "output_type": "execute_result"
    },
    {
     "data": {
      "image/png": "[encoded data removed]",
      "text/plain": [
       "<Figure size 432x288 with 1 Axes>"
      ]
     },
     "metadata": {
      "needs_background": "light"
     },
     "output_type": "display_data"
    }
   ],
   "source": [
    "X,y,centers = make_blobs(n_samples=600,n_features=2,cluster_std=[1,1.5,2],return_centers=True,random_state=42)\n",
    "plt.scatter(X[:,0],X[:,1],c=y)\n",
    "plt.xlim([-15,15])\n",
    "plt.ylim([-15,15])"
   ]
  },
  {
   "cell_type": "code",
   "execution_count": 34,
   "id": "fc552507",
   "metadata": {},
   "outputs": [],
   "source": [
    "m,n = X.shape\n",
    "k = np.unique(y).shape[0]"
   ]
  },
  {
   "cell_type": "code",
   "execution_count": 35,
   "id": "2617d0f0",
   "metadata": {},
   "outputs": [
    {
     "data": {
      "text/plain": [
       "(3, 2)"
      ]
     },
     "execution_count": 35,
     "metadata": {},
     "output_type": "execute_result"
    }
   ],
   "source": [
    "#initializing our mu\n",
    "np.random.seed(42)\n",
    "x1_mu = np.random.choice(X[:,0],k)\n",
    "x2_mu = np.random.choice(X[:,1],k)\n",
    "x1_mu = x1_mu.reshape(k,1)\n",
    "x2_mu = x2_mu.reshape(k,1)\n",
    "mu = np.concatenate((x1_mu,x2_mu),axis=1)\n",
    "mu.shape"
   ]
  },
  {
   "cell_type": "code",
   "execution_count": 36,
   "id": "9ad30c63",
   "metadata": {},
   "outputs": [
    {
     "data": {
      "text/plain": [
       "(-15.0, 15.0)"
      ]
     },
     "execution_count": 36,
     "metadata": {},
     "output_type": "execute_result"
    },
    {
     "data": {
      "image/png": "[encoded data removed]",
      "text/plain": [
       "<Figure size 432x288 with 1 Axes>"
      ]
     },
     "metadata": {
      "needs_background": "light"
     },
     "output_type": "display_data"
    }
   ],
   "source": [
    "plt.scatter(X[:,0],X[:,1],c=y,s=0.5)\n",
    "plt.scatter(mu[:,0],mu[:,1],c='r')\n",
    "plt.xlim([-15,15])\n",
    "plt.ylim([-15,15])"
   ]
  },
  {
   "cell_type": "markdown",
   "id": "72c61642",
   "metadata": {},
   "source": [
    "the red points are our initial clusters centers"
   ]
  },
  {
   "cell_type": "code",
   "execution_count": 37,
   "id": "59708a51",
   "metadata": {},
   "outputs": [],
   "source": [
    "#initialize prior probabilities\n",
    "p = np.zeros((k,1))\n",
    "for i in range(k):\n",
    "    p[i] = 1/k"
   ]
  },
  {
   "cell_type": "code",
   "execution_count": 38,
   "id": "8b1fdaee",
   "metadata": {},
   "outputs": [],
   "source": [
    "# initialize covariance matrices\n",
    "sigma = np.zeros((k,n,n))\n",
    "for i in range(k):\n",
    "    sigma[i] = np.eye(n)"
   ]
  },
  {
   "cell_type": "code",
   "execution_count": 39,
   "id": "4eb2f1c6",
   "metadata": {},
   "outputs": [],
   "source": [
    "# our Multivariate Gaussian function\n",
    "from numpy.linalg import multi_dot\n",
    "def MultiGaussian(x,mu,cov):\n",
    "    invcov = np.linalg.inv(cov)\n",
    "    detcov = np.linalg.det(cov)\n",
    "    n = x.shape[1]\n",
    "    f=[]\n",
    "    denom = ((np.sqrt(2*np.pi))**n)*(np.sqrt(detcov))\n",
    "    for i in range(len(X)):\n",
    "        Q = (multi_dot([(x[i]-mu),invcov,(x[i]-mu).T]))/2\n",
    "        f.append(np.exp(-Q)/denom)\n",
    "    \n",
    "    \n",
    "    return np.array(f)"
   ]
  },
  {
   "cell_type": "code",
   "execution_count": 40,
   "id": "5544eadb",
   "metadata": {},
   "outputs": [],
   "source": [
    "#EM steps\n",
    "f = np.zeros((k,m))\n",
    "num = np.zeros((k,m))\n",
    "Xbar= np.zeros((k,m,n))\n",
    "new_sigma = np.zeros((k,n,n))\n",
    "for iteration in range(200):\n",
    "    for i in range(k):\n",
    "        f[i] = MultiGaussian(X,mu[i],sigma[i])\n",
    "        num[i] = f[i]*p[i]\n",
    "    denom = np.sum(num,axis=0,keepdims=True)\n",
    "    w = (num/denom).T #weights\n",
    "    sumw = (np.sum(w,axis=0,keepdims=True)).T #sum of weights\n",
    "    new_p = (sumw/m) # new prior probability\n",
    "    new_mu = np.dot(w.T,X)/sumw # new centers\n",
    "    for i in range(k):\n",
    "        Xbar[i] = X - new_mu[i]\n",
    "        new_sigma[i] = np.cov(Xbar[i].T,aweights=(w[:,i]/sumw[i]).flatten(), bias=True) # new covariance\n",
    "    mu = new_mu\n",
    "    sigma = new_sigma\n",
    "    p = new_p"
   ]
  },
  {
   "cell_type": "code",
   "execution_count": 46,
   "id": "800a2977",
   "metadata": {},
   "outputs": [
    {
     "data": {
      "text/plain": [
       "(-15.0, 15.0)"
      ]
     },
     "execution_count": 46,
     "metadata": {},
     "output_type": "execute_result"
    },
    {
     "data": {
      "image/png": "[encoded data removed]",
      "text/plain": [
       "<Figure size 432x288 with 1 Axes>"
      ]
     },
     "metadata": {
      "needs_background": "light"
     },
     "output_type": "display_data"
    }
   ],
   "source": [
    "plt.scatter(X[:,0],X[:,1],c=y,s=0.5)\n",
    "plt.scatter(mu[:,0],mu[:,1],c='r')\n",
    "plt.xlim([-15,15])\n",
    "plt.ylim([-15,15])"
   ]
  },
  {
   "cell_type": "markdown",
   "id": "20283dbe",
   "metadata": {},
   "source": [
    "finial clusters centers"
   ]
  },
  {
   "cell_type": "code",
   "execution_count": 41,
   "id": "6cc6691f",
   "metadata": {},
   "outputs": [
    {
     "data": {
      "text/plain": [
       "array([[-6.4837452 , -6.74083782],\n",
       "       [ 4.56848945,  1.93913877],\n",
       "       [-2.517623  ,  9.04765746]])"
      ]
     },
     "execution_count": 41,
     "metadata": {},
     "output_type": "execute_result"
    }
   ],
   "source": [
    "mu #calculated center of clusters"
   ]
  },
  {
   "cell_type": "code",
   "execution_count": 42,
   "id": "ec63510d",
   "metadata": {},
   "outputs": [
    {
     "data": {
      "text/plain": [
       "array([[-2.50919762,  9.01428613],\n",
       "       [ 4.63987884,  1.97316968],\n",
       "       [-6.87962719, -6.88010959]])"
      ]
     },
     "execution_count": 42,
     "metadata": {},
     "output_type": "execute_result"
    }
   ],
   "source": [
    "centers # true center of clusters"
   ]
  },
  {
   "cell_type": "markdown",
   "id": "d532ae15",
   "metadata": {},
   "source": [
    "pretty close ha? that's feels good :)"
   ]
  },
  {
   "cell_type": "markdown",
   "id": "f8cf1ad3",
   "metadata": {},
   "source": [
    "#### GMM in scikit learn"
   ]
  },
  {
   "cell_type": "code",
   "execution_count": 43,
   "id": "db9543d0",
   "metadata": {},
   "outputs": [],
   "source": [
    "from sklearn.mixture import GaussianMixture"
   ]
  },
  {
   "cell_type": "code",
   "execution_count": 44,
   "id": "5fa052d4",
   "metadata": {},
   "outputs": [
    {
     "data": {
      "text/plain": [
       "array([[-2.517623  ,  9.04765746],\n",
       "       [-6.4837452 , -6.74083782],\n",
       "       [ 4.56848945,  1.93913877]])"
      ]
     },
     "execution_count": 44,
     "metadata": {},
     "output_type": "execute_result"
    }
   ],
   "source": [
    "gmm = GaussianMixture(n_components=3,random_state=42)\n",
    "gmm.fit(X)\n",
    "gmm.means_"
   ]
  }
 ],
 "metadata": {
  "kernelspec": {
   "display_name": "Python 3 (ipykernel)",
   "language": "python",
   "name": "python3"
  },
  "language_info": {
   "codemirror_mode": {
    "name": "ipython",
    "version": 3
   },
   "file_extension": ".py",
   "mimetype": "text/x-python",
   "name": "python",
   "nbconvert_exporter": "python",
   "pygments_lexer": "ipython3",
   "version": "3.10.8"
  }
 },
 "nbformat": 4,
 "nbformat_minor": 5
}
